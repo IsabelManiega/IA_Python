{
 "cells": [
  {
   "cell_type": "markdown",
   "id": "91f97d2f-ec36-4344-8d48-8a6c666e5369",
   "metadata": {
    "id": "91f97d2f-ec36-4344-8d48-8a6c666e5369"
   },
   "source": [
    "*Creado por:*\n",
    "    \n",
    "*Isabel Maniega*"
   ]
  },
  {
   "cell_type": "markdown",
   "id": "274160bc",
   "metadata": {
    "id": "274160bc"
   },
   "source": [
    "Se pide crear un Clasificador para el MNIST dataset\n",
    "\n",
    "que incluya imágenes:\n",
    "    \n",
    "* en blanco y negro\n",
    "* de 10 dígitos (0-9)\n",
    "* 28x28 pixels\n",
    "\n",
    "(28,28,1)"
   ]
  },
  {
   "cell_type": "markdown",
   "id": "92346ef4-e07f-449a-b215-a504cd6281c8",
   "metadata": {
    "id": "92346ef4-e07f-449a-b215-a504cd6281c8"
   },
   "source": [
    "****"
   ]
  },
  {
   "cell_type": "markdown",
   "id": "269dede1-099d-49c5-95e7-cfcf962b4b72",
   "metadata": {
    "id": "269dede1-099d-49c5-95e7-cfcf962b4b72"
   },
   "source": [
    "**en este caso:**\n",
    "\n",
    "* (1) Dropout(0.5),"
   ]
  },
  {
   "cell_type": "markdown",
   "id": "7286f03a-16a2-4532-9436-385b23fec152",
   "metadata": {
    "id": "7286f03a-16a2-4532-9436-385b23fec152"
   },
   "source": [
    "****"
   ]
  },
  {
   "cell_type": "markdown",
   "id": "13552c14-9f61-4ced-aad1-daee8286ed59",
   "metadata": {},
   "source": [
    "*Ejecutar el script en Colab*"
   ]
  },
  {
   "cell_type": "markdown",
   "id": "2fd5c1ca",
   "metadata": {
    "id": "2fd5c1ca"
   },
   "source": [
    "# IMPORTAMOS NUESTRAS DEPENDENCIAS"
   ]
  },
  {
   "cell_type": "code",
   "execution_count": null,
   "id": "72e75036-6f6f-445d-a33d-4d409120c69f",
   "metadata": {
    "executionInfo": {
     "elapsed": 8147,
     "status": "ok",
     "timestamp": 1751808485365,
     "user": {
      "displayName": "Isabel Maniega",
      "userId": "10393952001921130421"
     },
     "user_tz": -120
    },
    "id": "72e75036-6f6f-445d-a33d-4d409120c69f"
   },
   "outputs": [],
   "source": [
    "from tensorflow.keras import Sequential\n",
    "from tensorflow.keras.callbacks import EarlyStopping\n",
    "from tensorflow.keras.datasets import mnist\n",
    "from tensorflow.keras.layers import Conv2D, MaxPooling2D, Flatten, Dense, Dropout\n",
    "from tensorflow.keras.saving import load_model\n",
    "\n",
    "from matplotlib import pyplot as plt"
   ]
  },
  {
   "cell_type": "markdown",
   "id": "5d49a48d",
   "metadata": {
    "id": "5d49a48d"
   },
   "source": [
    "# LEEMOS LOS DATOS"
   ]
  },
  {
   "cell_type": "code",
   "execution_count": null,
   "id": "340f6d65",
   "metadata": {
    "colab": {
     "base_uri": "https://localhost:8080/"
    },
    "executionInfo": {
     "elapsed": 495,
     "status": "ok",
     "timestamp": 1751808485873,
     "user": {
      "displayName": "Isabel Maniega",
      "userId": "10393952001921130421"
     },
     "user_tz": -120
    },
    "id": "340f6d65",
    "outputId": "158fda95-753a-49f7-c29e-84e7732ec4d0"
   },
   "outputs": [],
   "source": [
    "# from keras.datasets import mnist\n",
    "\n",
    "(x_train, y_train), (x_valid, y_valid) = mnist.load_data()"
   ]
  },
  {
   "cell_type": "code",
   "execution_count": null,
   "id": "95b14c19",
   "metadata": {
    "executionInfo": {
     "elapsed": 7,
     "status": "ok",
     "timestamp": 1751808485886,
     "user": {
      "displayName": "Isabel Maniega",
      "userId": "10393952001921130421"
     },
     "user_tz": -120
    },
    "id": "95b14c19"
   },
   "outputs": [],
   "source": [
    "# print(x_train)\n",
    "# print(y_train)\n",
    "# print(x_valid)\n",
    "# print(y_valid)"
   ]
  },
  {
   "cell_type": "code",
   "execution_count": null,
   "id": "bb62e62d",
   "metadata": {
    "colab": {
     "base_uri": "https://localhost:8080/"
    },
    "executionInfo": {
     "elapsed": 19,
     "status": "ok",
     "timestamp": 1751808485912,
     "user": {
      "displayName": "Isabel Maniega",
      "userId": "10393952001921130421"
     },
     "user_tz": -120
    },
    "id": "bb62e62d",
    "outputId": "70091c1a-fe9d-472e-f389-093b0184b1e8"
   },
   "outputs": [],
   "source": [
    "x_train.max(), x_valid.max(), x_train.min(), x_valid.min()"
   ]
  },
  {
   "cell_type": "markdown",
   "id": "8155102f",
   "metadata": {
    "id": "8155102f"
   },
   "source": [
    "# NORMALIZAMOS LOS DATOS\n",
    "\n",
    "**/255**"
   ]
  },
  {
   "cell_type": "code",
   "execution_count": null,
   "id": "98bb8d1f",
   "metadata": {
    "executionInfo": {
     "elapsed": 81,
     "status": "ok",
     "timestamp": 1751808485998,
     "user": {
      "displayName": "Isabel Maniega",
      "userId": "10393952001921130421"
     },
     "user_tz": -120
    },
    "id": "98bb8d1f"
   },
   "outputs": [],
   "source": [
    "x_train = x_train.astype('float32') / 255.0\n",
    "x_valid = x_valid.astype('float32') / 255.0"
   ]
  },
  {
   "cell_type": "code",
   "execution_count": null,
   "id": "24fcd74e-6968-4922-8d45-e94eefeacea1",
   "metadata": {
    "colab": {
     "base_uri": "https://localhost:8080/"
    },
    "executionInfo": {
     "elapsed": 50,
     "status": "ok",
     "timestamp": 1751808486056,
     "user": {
      "displayName": "Isabel Maniega",
      "userId": "10393952001921130421"
     },
     "user_tz": -120
    },
    "id": "24fcd74e-6968-4922-8d45-e94eefeacea1",
    "outputId": "52a00d0f-b90e-451c-cfb8-70e2d21c902f"
   },
   "outputs": [],
   "source": [
    "x_train.shape"
   ]
  },
  {
   "cell_type": "code",
   "execution_count": null,
   "id": "bb43c838",
   "metadata": {
    "colab": {
     "base_uri": "https://localhost:8080/"
    },
    "executionInfo": {
     "elapsed": 77,
     "status": "ok",
     "timestamp": 1751808486126,
     "user": {
      "displayName": "Isabel Maniega",
      "userId": "10393952001921130421"
     },
     "user_tz": -120
    },
    "id": "bb43c838",
    "outputId": "143cfa28-40d5-4365-e8b3-4bc5575297d9"
   },
   "outputs": [],
   "source": [
    "x_train.max(), x_valid.max(), x_train.min(), x_valid.min()\n",
    "\n",
    "# se ve que está escalado entre 0 y 1"
   ]
  },
  {
   "cell_type": "markdown",
   "id": "94dbe21b",
   "metadata": {
    "id": "94dbe21b"
   },
   "source": [
    "# reshape para x_train, x_valid"
   ]
  },
  {
   "cell_type": "code",
   "execution_count": null,
   "id": "d7f9ca4d-86b0-4637-994e-c58306cec443",
   "metadata": {
    "executionInfo": {
     "elapsed": 13,
     "status": "ok",
     "timestamp": 1751808486128,
     "user": {
      "displayName": "Isabel Maniega",
      "userId": "10393952001921130421"
     },
     "user_tz": -120
    },
    "id": "d7f9ca4d-86b0-4637-994e-c58306cec443"
   },
   "outputs": [],
   "source": [
    "x_train = x_train.reshape((-1, 28, 28, 1))\n",
    "x_valid = x_valid.reshape((-1, 28, 28, 1))"
   ]
  },
  {
   "cell_type": "code",
   "execution_count": null,
   "id": "cf443cb5",
   "metadata": {
    "executionInfo": {
     "elapsed": 10,
     "status": "ok",
     "timestamp": 1751808486129,
     "user": {
      "displayName": "Isabel Maniega",
      "userId": "10393952001921130421"
     },
     "user_tz": -120
    },
    "id": "cf443cb5"
   },
   "outputs": [],
   "source": [
    "# print(x_train)\n",
    "# print(x_valid)"
   ]
  },
  {
   "cell_type": "markdown",
   "id": "25c67967",
   "metadata": {
    "id": "25c67967"
   },
   "source": [
    "# MODELO"
   ]
  },
  {
   "cell_type": "code",
   "execution_count": null,
   "id": "824584db-9c46-4588-acf9-061374c1f54e",
   "metadata": {
    "colab": {
     "base_uri": "https://localhost:8080/"
    },
    "executionInfo": {
     "elapsed": 130,
     "status": "ok",
     "timestamp": 1751808486253,
     "user": {
      "displayName": "Isabel Maniega",
      "userId": "10393952001921130421"
     },
     "user_tz": -120
    },
    "id": "824584db-9c46-4588-acf9-061374c1f54e",
    "outputId": "e199aaef-6695-4258-ad5c-329ef84171cc"
   },
   "outputs": [],
   "source": [
    "model = Sequential([\n",
    "        Conv2D(filters=32,kernel_size=(3,3),activation='relu',input_shape=(28,28,1)),\n",
    "        MaxPooling2D(pool_size=(2, 2)),\n",
    "        Conv2D(filters=64, kernel_size=(3, 3), activation='relu'),\n",
    "        MaxPooling2D(pool_size=(2, 2)),\n",
    "        Flatten(),\n",
    "        Dense(units=128, activation='relu'),\n",
    "        # aqui añadimos el Dropout\n",
    "        Dropout(0.5),\n",
    "        Dense(units=10, activation='softmax')\n",
    "])"
   ]
  },
  {
   "cell_type": "code",
   "execution_count": null,
   "id": "c284f763-ae6d-4149-aee8-ccbdbcedfc98",
   "metadata": {
    "executionInfo": {
     "elapsed": 3,
     "status": "ok",
     "timestamp": 1751808486257,
     "user": {
      "displayName": "Isabel Maniega",
      "userId": "10393952001921130421"
     },
     "user_tz": -120
    },
    "id": "c284f763-ae6d-4149-aee8-ccbdbcedfc98"
   },
   "outputs": [],
   "source": [
    "model.compile(optimizer='adam',\n",
    "              loss='sparse_categorical_crossentropy',\n",
    "              metrics=['accuracy'])"
   ]
  },
  {
   "cell_type": "code",
   "execution_count": null,
   "id": "1d282526",
   "metadata": {
    "executionInfo": {
     "elapsed": 4,
     "status": "ok",
     "timestamp": 1751808486281,
     "user": {
      "displayName": "Isabel Maniega",
      "userId": "10393952001921130421"
     },
     "user_tz": -120
    },
    "id": "1d282526"
   },
   "outputs": [],
   "source": [
    "early_stop = EarlyStopping(monitor='val_accuracy',\n",
    "                           patience=5,\n",
    "                           min_delta=0.01,\n",
    "                           verbose=1)"
   ]
  },
  {
   "cell_type": "code",
   "execution_count": null,
   "id": "4c9e0d71",
   "metadata": {
    "colab": {
     "base_uri": "https://localhost:8080/"
    },
    "executionInfo": {
     "elapsed": 821143,
     "status": "ok",
     "timestamp": 1751809307426,
     "user": {
      "displayName": "Isabel Maniega",
      "userId": "10393952001921130421"
     },
     "user_tz": -120
    },
    "id": "4c9e0d71",
    "outputId": "1faef82b-04b3-470f-95a5-29d6f87905c6"
   },
   "outputs": [],
   "source": [
    "history = model.fit(x=x_train, y=y_train,\n",
    "                    epochs=10,\n",
    "                    validation_data=(x_valid, y_valid),\n",
    "                    callbacks=[early_stop])"
   ]
  },
  {
   "cell_type": "markdown",
   "id": "3328d421",
   "metadata": {
    "id": "3328d421"
   },
   "source": [
    "# GRÁFICAS DE ENTRENAMIENTO"
   ]
  },
  {
   "cell_type": "code",
   "execution_count": null,
   "id": "e531dea2",
   "metadata": {
    "colab": {
     "base_uri": "https://localhost:8080/",
     "height": 472
    },
    "executionInfo": {
     "elapsed": 385,
     "status": "ok",
     "timestamp": 1751809307823,
     "user": {
      "displayName": "Isabel Maniega",
      "userId": "10393952001921130421"
     },
     "user_tz": -120
    },
    "id": "e531dea2",
    "outputId": "4c302824-26d7-4494-fa51-976e4cf4b0f7"
   },
   "outputs": [],
   "source": [
    "plt.plot(history.history['accuracy'])\n",
    "plt.plot(history.history['val_accuracy'])\n",
    "plt.title('model accuracy')\n",
    "plt.ylabel('accuracy')\n",
    "plt.xlabel('epoch')\n",
    "plt.legend(['train', 'val'], loc='upper left')\n",
    "plt.show()"
   ]
  },
  {
   "cell_type": "code",
   "execution_count": null,
   "id": "8f2a10fc",
   "metadata": {
    "colab": {
     "base_uri": "https://localhost:8080/",
     "height": 472
    },
    "executionInfo": {
     "elapsed": 90,
     "status": "ok",
     "timestamp": 1751809307915,
     "user": {
      "displayName": "Isabel Maniega",
      "userId": "10393952001921130421"
     },
     "user_tz": -120
    },
    "id": "8f2a10fc",
    "outputId": "88654026-0ebc-4f9c-e3a9-62da35624a9c"
   },
   "outputs": [],
   "source": [
    "plt.plot(history.history['loss'])\n",
    "plt.plot(history.history['val_loss'])\n",
    "plt.title('model loss')\n",
    "plt.ylabel('loss')\n",
    "plt.xlabel('epoch')\n",
    "plt.legend(['train', 'val'], loc='upper left')\n",
    "plt.show()"
   ]
  },
  {
   "cell_type": "code",
   "execution_count": null,
   "id": "74d86ba5",
   "metadata": {
    "executionInfo": {
     "elapsed": 3,
     "status": "ok",
     "timestamp": 1751809307931,
     "user": {
      "displayName": "Isabel Maniega",
      "userId": "10393952001921130421"
     },
     "user_tz": -120
    },
    "id": "74d86ba5"
   },
   "outputs": [],
   "source": [
    "# model.evaluate(x_valid, y_valid)"
   ]
  },
  {
   "cell_type": "markdown",
   "id": "06afce2c",
   "metadata": {
    "id": "06afce2c"
   },
   "source": [
    "# GUARDAMOS EL MODELO"
   ]
  },
  {
   "cell_type": "code",
   "execution_count": null,
   "id": "9b627b9a",
   "metadata": {
    "colab": {
     "base_uri": "https://localhost:8080/"
    },
    "executionInfo": {
     "elapsed": 5,
     "status": "ok",
     "timestamp": 1751809307943,
     "user": {
      "displayName": "Isabel Maniega",
      "userId": "10393952001921130421"
     },
     "user_tz": -120
    },
    "id": "9b627b9a",
    "outputId": "1ac05e31-1763-4ea4-ace7-0a4b2e617366"
   },
   "outputs": [],
   "source": [
    "model.save(\"model_3.h5\")"
   ]
  },
  {
   "cell_type": "markdown",
   "id": "442648c6",
   "metadata": {
    "id": "442648c6"
   },
   "source": [
    "# CARGAMOS EL MODELO"
   ]
  },
  {
   "cell_type": "code",
   "execution_count": null,
   "id": "61521d24",
   "metadata": {
    "colab": {
     "base_uri": "https://localhost:8080/"
    },
    "executionInfo": {
     "elapsed": 5,
     "status": "ok",
     "timestamp": 1751809307949,
     "user": {
      "displayName": "Isabel Maniega",
      "userId": "10393952001921130421"
     },
     "user_tz": -120
    },
    "id": "61521d24",
    "outputId": "0afbcf79-7590-43ce-c010-4641b4138b3f"
   },
   "outputs": [],
   "source": [
    "model = load_model(\"model_3.h5\")"
   ]
  },
  {
   "cell_type": "markdown",
   "id": "a79aa87d",
   "metadata": {
    "id": "a79aa87d"
   },
   "source": [
    "# RESUMEN"
   ]
  },
  {
   "cell_type": "code",
   "execution_count": null,
   "id": "cf726c9d",
   "metadata": {
    "colab": {
     "base_uri": "https://localhost:8080/",
     "height": 401
    },
    "executionInfo": {
     "elapsed": 16,
     "status": "ok",
     "timestamp": 1751809307973,
     "user": {
      "displayName": "Isabel Maniega",
      "userId": "10393952001921130421"
     },
     "user_tz": -120
    },
    "id": "cf726c9d",
    "outputId": "109e9945-bf28-45c2-e271-bae9127f4642"
   },
   "outputs": [],
   "source": [
    "model.summary()"
   ]
  },
  {
   "cell_type": "markdown",
   "id": "f79b87ad",
   "metadata": {
    "id": "f79b87ad"
   },
   "source": [
    "# Evaluate"
   ]
  },
  {
   "cell_type": "code",
   "execution_count": null,
   "id": "96908ea2",
   "metadata": {
    "colab": {
     "base_uri": "https://localhost:8080/"
    },
    "executionInfo": {
     "elapsed": 5554,
     "status": "ok",
     "timestamp": 1751809313528,
     "user": {
      "displayName": "Isabel Maniega",
      "userId": "10393952001921130421"
     },
     "user_tz": -120
    },
    "id": "96908ea2",
    "outputId": "5255390b-e0cb-4677-e7fc-f88253444ade"
   },
   "outputs": [],
   "source": [
    "model.evaluate(x_valid, y_valid)"
   ]
  },
  {
   "cell_type": "code",
   "execution_count": null,
   "id": "832bfa2c",
   "metadata": {
    "colab": {
     "base_uri": "https://localhost:8080/"
    },
    "executionInfo": {
     "elapsed": 5222,
     "status": "ok",
     "timestamp": 1751809318754,
     "user": {
      "displayName": "Isabel Maniega",
      "userId": "10393952001921130421"
     },
     "user_tz": -120
    },
    "id": "832bfa2c",
    "outputId": "895d1260-d42e-4ea8-9862-877822d2bbd1"
   },
   "outputs": [],
   "source": [
    "loss, accuracy = model.evaluate(x_valid, y_valid)\n",
    "print('\\n')\n",
    "print('loss:', loss)\n",
    "print('accuracy:', accuracy)"
   ]
  },
  {
   "cell_type": "markdown",
   "id": "9253ad37-1eb2-47e7-970e-6b3c4cc140e4",
   "metadata": {
    "id": "9253ad37-1eb2-47e7-970e-6b3c4cc140e4"
   },
   "source": [
    "*Creado por:*\n",
    "    \n",
    "*Isabel Maniega*"
   ]
  }
 ],
 "metadata": {
  "colab": {
   "provenance": []
  },
  "kernelspec": {
   "display_name": "Python 3 (ipykernel)",
   "language": "python",
   "name": "python3"
  },
  "language_info": {
   "codemirror_mode": {
    "name": "ipython",
    "version": 3
   },
   "file_extension": ".py",
   "mimetype": "text/x-python",
   "name": "python",
   "nbconvert_exporter": "python",
   "pygments_lexer": "ipython3",
   "version": "3.12.3"
  }
 },
 "nbformat": 4,
 "nbformat_minor": 5
}
