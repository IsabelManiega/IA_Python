{
 "cells": [
  {
   "cell_type": "markdown",
   "id": "4c917001",
   "metadata": {},
   "source": [
    "*Creado por:*\n",
    "    \n",
    "*Isabel Maniega*"
   ]
  },
  {
   "cell_type": "markdown",
   "id": "1c33557c",
   "metadata": {},
   "source": [
    "# Teoría Deep Learning"
   ]
  },
  {
   "cell_type": "markdown",
   "id": "c6fba746",
   "metadata": {},
   "source": [
    "Aprendizaje profundo (en inglés, deep learning) es un conjunto de algoritmos de aprendizaje automático (en inglés, machine learning) que intenta modelar abstracciones de alto nivel en datos usando arquitecturas computacionales que admiten transformaciones no lineales múltiples e iterativas de datos expresados en forma matricial o tensorial.\n",
    "\n",
    "El aprendizaje profundo es parte de un conjunto más amplio de métodos de aprendizaje automático basados en asimilar representaciones de datos. Una observación (por ejemplo, una imagen) puede ser representada en algunas formas (por ejemplo: un vector de píxeles), pero algunas representaciones hacen más fácil aprender tareas de interés (por ejemplo, \"¿es esta imagen una cara humana?\") sobre la base de ejemplos, y la investigación en esta área intenta definir qué representaciones son mejores y cómo crear modelos para reconocer estas representaciones.\n",
    "\n",
    "Varias arquitecturas de aprendizaje profundo, como redes neuronales profundas, redes neuronales profundas convolucionales, y redes de creencia profundas, han sido aplicadas a campos como visión por computador, reconocimiento automático del habla, y reconocimiento de señales de audio y música, y han mostrado producir resultados de vanguardia en varias tareas."
   ]
  },
  {
   "cell_type": "markdown",
   "id": "2185d8e5",
   "metadata": {},
   "source": [
    "No existe una única definición de aprendizaje profundo. En general se trata de una clase de algoritmos ideados para el aprendizaje automático. A partir de este punto común, diferentes publicaciones se centran en distintas características, por ejemplo:\n",
    "\n",
    "* Usar una cascada de capas con unidades de procesamiento no lineal para extraer y transformar variables. Cada capa usa la salida de la capa anterior como entrada. Los algoritmos pueden utilizar aprendizaje supervisado o aprendizaje no supervisado, y las aplicaciones incluyen modelización de datos y reconocimiento de patrones.\n",
    "\n",
    "* Estar basados en el aprendizaje de múltiples niveles de características o representaciones de datos. Las características de más alto nivel se derivan de las características de nivel inferior para formar una representación jerárquica.\n",
    "\n",
    "* Aprender múltiples niveles de representación que corresponden con diferentes niveles de abstracción. Estos niveles forman una jerarquía de conceptos.\n",
    "\n",
    "Todas estas maneras de definir el aprendizaje profundo tienen en común: múltiples capas de procesamiento no lineal; y el aprendizaje supervisado o no supervisado de representaciones de características en cada capa. Las capas forman una jerarquía de características desde un nivel de abstracción más bajo a uno más alto.\n",
    "\n",
    "Los algoritmos de aprendizaje profundo contrastan con los algoritmos de aprendizaje poco profundo por el número de transformaciones aplicadas a la señal mientras se propaga desde la capa de entrada a la capa de salida. Cada una de estas transformaciones incluye parámetros que se pueden entrenar como pesos y umbrales . No existe un estándar de facto para el número de transformaciones (o capas) que convierte a un algoritmo en profundo, pero la mayoría de investigadores en el campo considera que aprendizaje profundo implica más de dos transformaciones intermedias."
   ]
  },
  {
   "cell_type": "markdown",
   "id": "967cfcf4",
   "metadata": {},
   "source": [
    "* En **aprendizaje automático y minería de datos**, el **aprendizaje supervisado** es una técnica para deducir una función a partir de datos de entrenamiento. Los datos de entrenamiento consisten de pares de objetos (normalmente vectores): una componente del par son los datos de entrada y el otro, los resultados deseados. La salida de la función puede ser un valor numérico (como en los problemas de regresión) o una etiqueta de clase (como en los de clasificación). El objetivo del aprendizaje supervisado es el de crear una función capaz de predecir el valor correspondiente a cualquier objeto de entrada válida después de haber visto una serie de ejemplos, los datos de entrenamiento. Para ello, tiene que generalizar a partir de los datos presentados a las situaciones no vistas previamente.\n",
    "\n",
    "\n",
    "* **Aprendizaje no supervisado** es un método de Aprendizaje Automático donde un modelo se ajusta a las observaciones. Se distingue del Aprendizaje supervisado por el hecho de que no hay un conocimiento a priori. En el aprendizaje no supervisado, un conjunto de datos de objetos de entrada es tratado. Así, el aprendizaje no supervisado típicamente trata los objetos de entrada como un conjunto de variables aleatorias, siendo construido un modelo de densidad para el conjunto de datos.\n",
    "\n",
    "    El **aprendizaje no supervisado** se puede usar en conjunto con la Inferencia bayesiana para producir probabilidades condicionales (es decir, aprendizaje supervisado) para cualquiera de las variables aleatorias dadas. El Santo Grial del aprendizaje no supervisado es la creación de un código factorial de los datos, esto es, un código con componentes estadísticamente independientes. El aprendizaje supervisado normalmente funciona mucho mejor cuando los datos iniciales son primero traducidos en un código factorial.\n",
    "\n",
    "    El aprendizaje no supervisado también es útil para la compresión de datos: fundamentalmente, todos los algoritmos de compresión dependen tanto explícita como implícitamente de una distribución de probabilidad sobre un conjunto de entrada.\n",
    "\n",
    "    Otra forma de aprendizaje no supervisado es la agrupación (en inglés, clustering), el cual a veces no es probabilístico.\n",
    "\n",
    "    La Teoría de resonancia adaptativa (ART) permite variar el número de agrupaciones en función del tamaño del problema, permitiendo al usuario el control del grado de similitud entre miembros de las mismas agrupaciones en términos de una constante definida por el usuario llamada el parámetro de vigilancia. Las redes ART se usan también en muchas tareas de reconocimiento de patrones, como el reconocimiento automático de objetivos o el procesamiento de señales sísmicas. La primera versión de ART fue \"ART1\", desarrollada por Carpenter y Grossberg (1988).\n",
    "    Las principales características de las redes de neuronas artificiales no supervisadas:\n",
    "\n",
    "    * No necesitan de un profesor externo\n",
    "    * Muestran cierto grado de Auto-organización\n",
    "    * La red descubre en los datos de entrada y de forma autónoma: características, regularidades, correlaciones y categorías\n",
    "    * Suelen requerir menores tiempos de entrenamiento que las supervisadas\n",
    "    * Arquitectura simple. Habitualmente son: (una sola capa o Feed-forward)\n",
    "    * Abordan los siguientes tipos de problemas: familiaridad, análisis de componentes principales, agrupamiento, prototipado y extracción y relación de características"
   ]
  },
  {
   "cell_type": "markdown",
   "id": "3150006d",
   "metadata": {},
   "source": [
    "# Redes neuronales"
   ]
  },
  {
   "cell_type": "markdown",
   "id": "6160d083",
   "metadata": {},
   "source": [
    "## Estructura de una neura"
   ]
  },
  {
   "cell_type": "markdown",
   "id": "9cecc7bc",
   "metadata": {},
   "source": [
    "<img src=\"./info/deep_1.png\">"
   ]
  },
  {
   "cell_type": "markdown",
   "id": "2a4c3657",
   "metadata": {},
   "source": [
    "Vamos a teneer una serie de conexiones que se llaman synapsis que recogen la información y la llevan al cuerpo neuronal donde transforman dicha infromación y dan una respuesta (output)"
   ]
  },
  {
   "cell_type": "markdown",
   "id": "11568879",
   "metadata": {},
   "source": [
    "<img src=\"./info/deep_2.png\">"
   ]
  },
  {
   "cell_type": "markdown",
   "id": "7b5d4e33",
   "metadata": {},
   "source": [
    "En una calsificación binaria donde la respuesta puede ser 0 y 1 tenderá el modelo a una sigmoide como se observa en la diapositiva"
   ]
  },
  {
   "cell_type": "markdown",
   "id": "f465bc40",
   "metadata": {},
   "source": [
    "<img src=\"./info/deep_3.png\">"
   ]
  },
  {
   "cell_type": "markdown",
   "id": "605e3d6a",
   "metadata": {},
   "source": [
    "En IA (Inteligencia Artificial) podemos emplear múltiples redes neuronales con el fin de llegar a una concusión final, a estas múltiples redes se les llaman Hidden Layer (Capas ocultas)"
   ]
  },
  {
   "cell_type": "markdown",
   "id": "7e0e6769",
   "metadata": {},
   "source": [
    "**Ejemplo**\n",
    "\n",
    "Resultados de un estudiante que dependen de las horas de studio, de las horas de sueño y respuesta del alumno a lo largo del semestre. "
   ]
  },
  {
   "cell_type": "markdown",
   "id": "8ab117ac",
   "metadata": {},
   "source": [
    "<img src=\"./info/deep_4.png\">"
   ]
  },
  {
   "cell_type": "markdown",
   "id": "7721b379",
   "metadata": {},
   "source": [
    "<img src=\"./info/deep_5.png\">"
   ]
  },
  {
   "cell_type": "markdown",
   "id": "d96ca20d",
   "metadata": {},
   "source": [
    "*Creado por:*\n",
    "\n",
    "*Isabel Maniega*"
   ]
  }
 ],
 "metadata": {
  "kernelspec": {
   "display_name": "Python 3 (ipykernel)",
   "language": "python",
   "name": "python3"
  },
  "language_info": {
   "codemirror_mode": {
    "name": "ipython",
    "version": 3
   },
   "file_extension": ".py",
   "mimetype": "text/x-python",
   "name": "python",
   "nbconvert_exporter": "python",
   "pygments_lexer": "ipython3",
   "version": "3.12.3"
  },
  "widgets": {
   "application/vnd.jupyter.widget-state+json": {
    "state": {},
    "version_major": 2,
    "version_minor": 0
   }
  }
 },
 "nbformat": 4,
 "nbformat_minor": 5
}
