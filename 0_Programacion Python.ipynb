{
 "cells": [
  {
   "attachments": {},
   "cell_type": "markdown",
   "id": "a7a93bd0",
   "metadata": {},
   "source": [
    "*Contenido creado por:*\n",
    "\n",
    "*Isabel Maniega*"
   ]
  },
  {
   "cell_type": "code",
   "execution_count": 1,
   "id": "d923c5b9",
   "metadata": {},
   "outputs": [],
   "source": [
    "import warnings\n",
    "warnings.filterwarnings('ignore')"
   ]
  },
  {
   "attachments": {},
   "cell_type": "markdown",
   "id": "8691cc10",
   "metadata": {},
   "source": [
    "****"
   ]
  },
  {
   "cell_type": "markdown",
   "id": "63da1e81-f3d2-4c85-9520-abefc84e563d",
   "metadata": {},
   "source": [
    "# Tipos de almacenamiento de datos en Python\n",
    "\n",
    "- Listas--> []\n",
    "- tuplas --> ()\n",
    "- diccionarios --> {clave : valor}\n",
    "- conjuntos (set) --> {,}\n",
    "- dataframe --> tabla\n",
    "- matrices --> [[],[]]\n",
    "\n",
    "Formatos:\n",
    "- entero --> int\n",
    "- decimales --> float\n",
    "- objetos --> obj\n",
    "- cadena de texto --> str\n",
    "- boleanos --> True/ False"
   ]
  },
  {
   "cell_type": "markdown",
   "id": "a74b9c10-8849-41e9-a5b7-b3f187976cca",
   "metadata": {},
   "source": [
    "## Listas"
   ]
  },
  {
   "cell_type": "code",
   "execution_count": 2,
   "id": "7923f1a0-3e99-4609-bf05-064097a373e3",
   "metadata": {},
   "outputs": [
    {
     "data": {
      "text/plain": [
       "[1, 5, 6, 8, None, 6, None]"
      ]
     },
     "execution_count": 2,
     "metadata": {},
     "output_type": "execute_result"
    }
   ],
   "source": [
    "lista = [1, 5, 6, 8, None, 6, None]\n",
    "\n",
    "lista"
   ]
  },
  {
   "cell_type": "code",
   "execution_count": 9,
   "id": "1d6e5715-5e6a-4135-9f09-6aa1b4dbc7ba",
   "metadata": {},
   "outputs": [
    {
     "data": {
      "text/plain": [
       "(1, 5, 6)"
      ]
     },
     "execution_count": 9,
     "metadata": {},
     "output_type": "execute_result"
    }
   ],
   "source": [
    "lista[0], lista[1], lista[2]"
   ]
  },
  {
   "cell_type": "code",
   "execution_count": 10,
   "id": "e836808d-9ce2-4b69-a02e-620c95fa009a",
   "metadata": {},
   "outputs": [
    {
     "data": {
      "text/plain": [
       "(None, 6)"
      ]
     },
     "execution_count": 10,
     "metadata": {},
     "output_type": "execute_result"
    }
   ],
   "source": [
    "lista[-1], lista[-2]"
   ]
  },
  {
   "cell_type": "code",
   "execution_count": 11,
   "id": "b99bde69-cf51-404c-84fc-24ec172ff21f",
   "metadata": {},
   "outputs": [
    {
     "data": {
      "text/plain": [
       "[1, 5, 6, 8, 3, 6, None]"
      ]
     },
     "execution_count": 11,
     "metadata": {},
     "output_type": "execute_result"
    }
   ],
   "source": [
    "lista[-3] = 3\n",
    "lista"
   ]
  },
  {
   "cell_type": "code",
   "execution_count": 12,
   "id": "d440413d-a584-4c8b-8c9f-0ffd095d0ef6",
   "metadata": {},
   "outputs": [
    {
     "data": {
      "text/plain": [
       "[1, 5, 6, 8, 3, 6, None, 10]"
      ]
     },
     "execution_count": 12,
     "metadata": {},
     "output_type": "execute_result"
    }
   ],
   "source": [
    "lista.append(10)\n",
    "lista"
   ]
  },
  {
   "cell_type": "markdown",
   "id": "0c13eda2-dbde-4a83-b9fa-5bffdeb4dc37",
   "metadata": {},
   "source": [
    "## Tuplas"
   ]
  },
  {
   "cell_type": "code",
   "execution_count": 13,
   "id": "466cda66-64cb-4cae-8bde-b498ae39c774",
   "metadata": {},
   "outputs": [
    {
     "data": {
      "text/plain": [
       "(1, 5, 10, 60)"
      ]
     },
     "execution_count": 13,
     "metadata": {},
     "output_type": "execute_result"
    }
   ],
   "source": [
    "valor = (1, 5, 10, 60,)\n",
    "valor"
   ]
  },
  {
   "cell_type": "code",
   "execution_count": 14,
   "id": "e874b57f-c2b7-4980-90ed-645e59e7bd95",
   "metadata": {},
   "outputs": [
    {
     "data": {
      "text/plain": [
       "tuple"
      ]
     },
     "execution_count": 14,
     "metadata": {},
     "output_type": "execute_result"
    }
   ],
   "source": [
    "type(valor)"
   ]
  },
  {
   "cell_type": "code",
   "execution_count": 15,
   "id": "95f56d89-5779-45dc-b1e4-8e272bd55900",
   "metadata": {},
   "outputs": [
    {
     "data": {
      "text/plain": [
       "5"
      ]
     },
     "execution_count": 15,
     "metadata": {},
     "output_type": "execute_result"
    }
   ],
   "source": [
    "valor[1]"
   ]
  },
  {
   "cell_type": "code",
   "execution_count": 16,
   "id": "056dfa34-0a44-4e55-a300-ee154e85b978",
   "metadata": {},
   "outputs": [
    {
     "ename": "TypeError",
     "evalue": "'tuple' object does not support item assignment",
     "output_type": "error",
     "traceback": [
      "\u001b[31m---------------------------------------------------------------------------\u001b[39m",
      "\u001b[31mTypeError\u001b[39m                                 Traceback (most recent call last)",
      "\u001b[36mCell\u001b[39m\u001b[36m \u001b[39m\u001b[32mIn[16]\u001b[39m\u001b[32m, line 1\u001b[39m\n\u001b[32m----> \u001b[39m\u001b[32m1\u001b[39m \u001b[43mvalor\u001b[49m\u001b[43m[\u001b[49m\u001b[32;43m1\u001b[39;49m\u001b[43m]\u001b[49m = \u001b[32m10\u001b[39m\n",
      "\u001b[31mTypeError\u001b[39m: 'tuple' object does not support item assignment"
     ]
    }
   ],
   "source": [
    "valor[1] = 10"
   ]
  },
  {
   "cell_type": "code",
   "execution_count": 17,
   "id": "05db2bc6-f592-4b58-9f93-536ed81ac108",
   "metadata": {},
   "outputs": [
    {
     "ename": "AttributeError",
     "evalue": "'tuple' object has no attribute 'append'",
     "output_type": "error",
     "traceback": [
      "\u001b[31m---------------------------------------------------------------------------\u001b[39m",
      "\u001b[31mAttributeError\u001b[39m                            Traceback (most recent call last)",
      "\u001b[36mCell\u001b[39m\u001b[36m \u001b[39m\u001b[32mIn[17]\u001b[39m\u001b[32m, line 1\u001b[39m\n\u001b[32m----> \u001b[39m\u001b[32m1\u001b[39m \u001b[43mvalor\u001b[49m\u001b[43m.\u001b[49m\u001b[43mappend\u001b[49m(\u001b[32m10\u001b[39m)\n",
      "\u001b[31mAttributeError\u001b[39m: 'tuple' object has no attribute 'append'"
     ]
    }
   ],
   "source": [
    "valor.append(10)"
   ]
  },
  {
   "cell_type": "code",
   "execution_count": 18,
   "id": "8d3a1e13-f83c-4519-be38-cfe555ba9d0c",
   "metadata": {},
   "outputs": [
    {
     "data": {
      "text/plain": [
       "int"
      ]
     },
     "execution_count": 18,
     "metadata": {},
     "output_type": "execute_result"
    }
   ],
   "source": [
    "valor2 = (5)\n",
    "type(valor2)"
   ]
  },
  {
   "cell_type": "code",
   "execution_count": 20,
   "id": "37ece0aa-b809-44cb-9cbf-917b891da218",
   "metadata": {},
   "outputs": [
    {
     "data": {
      "text/plain": [
       "tuple"
      ]
     },
     "execution_count": 20,
     "metadata": {},
     "output_type": "execute_result"
    }
   ],
   "source": [
    "valor2 = (5,)\n",
    "type(valor2)"
   ]
  },
  {
   "cell_type": "code",
   "execution_count": 21,
   "id": "b9225159-170f-499c-b6b9-5cf2a2f188fa",
   "metadata": {},
   "outputs": [
    {
     "data": {
      "text/plain": [
       "(1, 5, 10, 60, 5)"
      ]
     },
     "execution_count": 21,
     "metadata": {},
     "output_type": "execute_result"
    }
   ],
   "source": [
    "valor_final = valor + valor2\n",
    "valor_final"
   ]
  },
  {
   "cell_type": "markdown",
   "id": "152f5ee4-4de3-4be4-b77a-7672e94a28fa",
   "metadata": {},
   "source": [
    "## Matriz"
   ]
  },
  {
   "cell_type": "code",
   "execution_count": 2,
   "id": "d3fab119-f01b-4cc4-afff-d0f89328f140",
   "metadata": {},
   "outputs": [],
   "source": [
    "# pip install numpy"
   ]
  },
  {
   "cell_type": "code",
   "execution_count": 3,
   "id": "ae29b909-cf55-4efa-864d-a4479f72ca0c",
   "metadata": {},
   "outputs": [
    {
     "data": {
      "text/plain": [
       "array([ 1,  2, 50, 60])"
      ]
     },
     "execution_count": 3,
     "metadata": {},
     "output_type": "execute_result"
    }
   ],
   "source": [
    "import numpy as np\n",
    "\n",
    "matriz = np.array([1, 2, 50, 60])\n",
    "matriz"
   ]
  },
  {
   "cell_type": "code",
   "execution_count": 17,
   "id": "3877cab8-e71c-42a9-a7f4-c2270b3ee804",
   "metadata": {},
   "outputs": [
    {
     "data": {
      "text/plain": [
       "np.int64(50)"
      ]
     },
     "execution_count": 17,
     "metadata": {},
     "output_type": "execute_result"
    }
   ],
   "source": [
    "matriz[2]"
   ]
  },
  {
   "cell_type": "code",
   "execution_count": 18,
   "id": "7076838f-cc49-4653-8700-ea3c255b7733",
   "metadata": {},
   "outputs": [
    {
     "data": {
      "text/plain": [
       "array([ 1,  2, 50, 60, 20])"
      ]
     },
     "execution_count": 18,
     "metadata": {},
     "output_type": "execute_result"
    }
   ],
   "source": [
    "matriz = np.append(matriz, 20)\n",
    "matriz"
   ]
  },
  {
   "cell_type": "code",
   "execution_count": 19,
   "id": "c75bb2b4-f570-4bf3-b411-b0487bd036e8",
   "metadata": {},
   "outputs": [
    {
     "data": {
      "text/plain": [
       "array([  1,   2, 100,  60,  20])"
      ]
     },
     "execution_count": 19,
     "metadata": {},
     "output_type": "execute_result"
    }
   ],
   "source": [
    "matriz[2] = 100\n",
    "matriz"
   ]
  },
  {
   "cell_type": "code",
   "execution_count": 20,
   "id": "b0d4dfa8-7b54-4362-8db8-60c6d63071de",
   "metadata": {},
   "outputs": [
    {
     "data": {
      "text/plain": [
       "array([[1, 2],\n",
       "       [3, 4]])"
      ]
     },
     "execution_count": 20,
     "metadata": {},
     "output_type": "execute_result"
    }
   ],
   "source": [
    "matriz = np.array([[1, 2], [3, 4]])\n",
    "matriz"
   ]
  },
  {
   "cell_type": "code",
   "execution_count": 23,
   "id": "edc15893-e00a-4a78-ae11-8424df5bbd06",
   "metadata": {},
   "outputs": [
    {
     "data": {
      "text/plain": [
       "np.int64(2)"
      ]
     },
     "execution_count": 23,
     "metadata": {},
     "output_type": "execute_result"
    }
   ],
   "source": [
    "matriz[0][1]"
   ]
  },
  {
   "cell_type": "markdown",
   "id": "b8745d45-0a72-45ba-9bec-edf735cabb1f",
   "metadata": {},
   "source": [
    "## Diccionarios"
   ]
  },
  {
   "cell_type": "code",
   "execution_count": 25,
   "id": "ed121fab-178a-4dd4-b33e-15393e74f026",
   "metadata": {},
   "outputs": [
    {
     "data": {
      "text/plain": [
       "{'1': 25, '2': 30}"
      ]
     },
     "execution_count": 25,
     "metadata": {},
     "output_type": "execute_result"
    }
   ],
   "source": [
    "# diccionario: clave-valor\n",
    "# {'clave': 'valor'}\n",
    "# {'clave1': 'valor1', 'clave2': 'valor2'}\n",
    "\n",
    "diccionario = {'1': 25, '2': 30}\n",
    "diccionario"
   ]
  },
  {
   "cell_type": "code",
   "execution_count": 26,
   "id": "526c13ba-a7d6-4123-a566-d6d61880941e",
   "metadata": {},
   "outputs": [
    {
     "data": {
      "text/plain": [
       "30"
      ]
     },
     "execution_count": 26,
     "metadata": {},
     "output_type": "execute_result"
    }
   ],
   "source": [
    "diccionario['2']"
   ]
  },
  {
   "cell_type": "code",
   "execution_count": 27,
   "id": "bddd006d-fe9b-4b6a-b859-44a3ffe5a3cd",
   "metadata": {},
   "outputs": [
    {
     "data": {
      "text/plain": [
       "{'1': 25, '2': 30, '3': 400}"
      ]
     },
     "execution_count": 27,
     "metadata": {},
     "output_type": "execute_result"
    }
   ],
   "source": [
    "diccionario['3'] = 400\n",
    "diccionario"
   ]
  },
  {
   "cell_type": "code",
   "execution_count": 28,
   "id": "bdb2e33d-a21d-42c9-97ad-d82a52bbe9dc",
   "metadata": {},
   "outputs": [
    {
     "data": {
      "text/plain": [
       "{'1': 500, '2': 30, '3': 400}"
      ]
     },
     "execution_count": 28,
     "metadata": {},
     "output_type": "execute_result"
    }
   ],
   "source": [
    "diccionario['1'] = 500\n",
    "diccionario"
   ]
  },
  {
   "cell_type": "code",
   "execution_count": 31,
   "id": "59b7e4c4-5b20-4bcf-8392-ec8d56ac7678",
   "metadata": {},
   "outputs": [
    {
     "data": {
      "text/plain": [
       "{'Estudiantes': [1, 5, 6, 8, None, 6, None]}"
      ]
     },
     "execution_count": 31,
     "metadata": {},
     "output_type": "execute_result"
    }
   ],
   "source": [
    "diccionario2 = dict(Estudiantes=lista)\n",
    "diccionario2"
   ]
  },
  {
   "cell_type": "code",
   "execution_count": 32,
   "id": "34ee415a-7ae0-4e79-8763-847ada0829bd",
   "metadata": {},
   "outputs": [
    {
     "data": {
      "text/plain": [
       "dict_keys(['1', '2', '3'])"
      ]
     },
     "execution_count": 32,
     "metadata": {},
     "output_type": "execute_result"
    }
   ],
   "source": [
    "# claves que conforman el diccionario:\n",
    "diccionario.keys()"
   ]
  },
  {
   "cell_type": "code",
   "execution_count": 33,
   "id": "297cc1a0-932b-4b62-8ede-52bd2d38e9b4",
   "metadata": {},
   "outputs": [
    {
     "data": {
      "text/plain": [
       "dict_values([500, 30, 400])"
      ]
     },
     "execution_count": 33,
     "metadata": {},
     "output_type": "execute_result"
    }
   ],
   "source": [
    "# valores que conforman el diccionario:\n",
    "diccionario.values()"
   ]
  },
  {
   "cell_type": "code",
   "execution_count": 34,
   "id": "5a4edd6a-2550-4d41-8d93-27adf1df5461",
   "metadata": {},
   "outputs": [
    {
     "data": {
      "text/plain": [
       "dict_items([('1', 500), ('2', 30), ('3', 400)])"
      ]
     },
     "execution_count": 34,
     "metadata": {},
     "output_type": "execute_result"
    }
   ],
   "source": [
    "# clave-valor que conforman el diccionario:\n",
    "diccionario.items()"
   ]
  },
  {
   "cell_type": "markdown",
   "id": "34b3d654-5d5f-463e-8608-f68633d93162",
   "metadata": {},
   "source": [
    "## Dataframes"
   ]
  },
  {
   "cell_type": "code",
   "execution_count": 1,
   "id": "25260318-fa5e-4fb9-a313-f2f8c16593f9",
   "metadata": {},
   "outputs": [],
   "source": [
    "# pip install pandas"
   ]
  },
  {
   "cell_type": "code",
   "execution_count": 4,
   "id": "9d48e3b0-6707-4067-9a32-8ace510fcd19",
   "metadata": {},
   "outputs": [
    {
     "data": {
      "text/plain": [
       "[1, 5, 6, 8, None, 6, None]"
      ]
     },
     "execution_count": 4,
     "metadata": {},
     "output_type": "execute_result"
    }
   ],
   "source": [
    "lista"
   ]
  },
  {
   "cell_type": "code",
   "execution_count": 3,
   "id": "3489096d-a6d2-4e29-89e9-a3465193ede2",
   "metadata": {},
   "outputs": [
    {
     "data": {
      "text/html": [
       "<div>\n",
       "<style scoped>\n",
       "    .dataframe tbody tr th:only-of-type {\n",
       "        vertical-align: middle;\n",
       "    }\n",
       "\n",
       "    .dataframe tbody tr th {\n",
       "        vertical-align: top;\n",
       "    }\n",
       "\n",
       "    .dataframe thead th {\n",
       "        text-align: right;\n",
       "    }\n",
       "</style>\n",
       "<table border=\"1\" class=\"dataframe\">\n",
       "  <thead>\n",
       "    <tr style=\"text-align: right;\">\n",
       "      <th></th>\n",
       "      <th>Nombre</th>\n",
       "    </tr>\n",
       "  </thead>\n",
       "  <tbody>\n",
       "    <tr>\n",
       "      <th>0</th>\n",
       "      <td>1.0</td>\n",
       "    </tr>\n",
       "    <tr>\n",
       "      <th>1</th>\n",
       "      <td>5.0</td>\n",
       "    </tr>\n",
       "    <tr>\n",
       "      <th>2</th>\n",
       "      <td>6.0</td>\n",
       "    </tr>\n",
       "    <tr>\n",
       "      <th>3</th>\n",
       "      <td>8.0</td>\n",
       "    </tr>\n",
       "    <tr>\n",
       "      <th>4</th>\n",
       "      <td>NaN</td>\n",
       "    </tr>\n",
       "    <tr>\n",
       "      <th>5</th>\n",
       "      <td>6.0</td>\n",
       "    </tr>\n",
       "    <tr>\n",
       "      <th>6</th>\n",
       "      <td>NaN</td>\n",
       "    </tr>\n",
       "  </tbody>\n",
       "</table>\n",
       "</div>"
      ],
      "text/plain": [
       "   Nombre\n",
       "0     1.0\n",
       "1     5.0\n",
       "2     6.0\n",
       "3     8.0\n",
       "4     NaN\n",
       "5     6.0\n",
       "6     NaN"
      ]
     },
     "execution_count": 3,
     "metadata": {},
     "output_type": "execute_result"
    }
   ],
   "source": [
    "import pandas as pd\n",
    "\n",
    "data = {'Nombre': lista}\n",
    "df = pd.DataFrame(data)\n",
    "df"
   ]
  },
  {
   "cell_type": "markdown",
   "id": "1807986c-11f3-44b4-80bf-b637fde1f396",
   "metadata": {},
   "source": [
    "## Formatos"
   ]
  },
  {
   "cell_type": "code",
   "execution_count": 5,
   "id": "936da7d2-7ecf-4a05-854d-eda49ab0b075",
   "metadata": {},
   "outputs": [
    {
     "name": "stdout",
     "output_type": "stream",
     "text": [
      "<class 'int'> : 10\n"
     ]
    }
   ],
   "source": [
    "# enteros:\n",
    "\n",
    "x = 10\n",
    "print(type(x),':', x)"
   ]
  },
  {
   "cell_type": "code",
   "execution_count": 6,
   "id": "520d91ea-1492-4143-8aca-76584a74a4f5",
   "metadata": {},
   "outputs": [
    {
     "name": "stdout",
     "output_type": "stream",
     "text": [
      "<class 'tuple'>\n",
      "<class 'float'> : 1.2\n",
      "0.5\n"
     ]
    }
   ],
   "source": [
    "# float siempre se escribe con punto (.)\n",
    "# sino sería una tupla:\n",
    "\n",
    "y = 1,2\n",
    "print(type(y))\n",
    "\n",
    "y = 1.2\n",
    "print(type(y), ':', y)\n",
    "\n",
    "# abreviamos mediante el .X, significa un cero delante:\n",
    "y = .5\n",
    "print(y)"
   ]
  },
  {
   "cell_type": "code",
   "execution_count": 7,
   "id": "fa4e24b1-a369-46ca-bc22-64f5f4b6bd65",
   "metadata": {},
   "outputs": [
    {
     "name": "stdout",
     "output_type": "stream",
     "text": [
      "Hola Mundo\n",
      "Hola Mundo\n",
      "Hola 'Mundo'\n",
      "Hola 'Mundo'\n",
      "Hola Mundo\n"
     ]
    },
    {
     "data": {
      "text/plain": [
       "'l'"
      ]
     },
     "execution_count": 7,
     "metadata": {},
     "output_type": "execute_result"
    }
   ],
   "source": [
    "# string\n",
    "\n",
    "texto = 'Hola Mundo'\n",
    "print(texto)\n",
    "texto = \"Hola Mundo\"\n",
    "print(texto)\n",
    "\n",
    "# Alternar comillas dobles con simples o viceversa:\n",
    "texto = \"Hola 'Mundo'\"\n",
    "print(texto)\n",
    "\n",
    "# Se una el simbolo de escape para usar comillas simples fuera y dentro:\n",
    "texto = 'Hola \\'Mundo\\''\n",
    "print(texto)\n",
    "\n",
    "# concatenacion:\n",
    "texto = \"Hola\" + \" \" + \"Mundo\"\n",
    "print(texto)\n",
    "\n",
    "# Extraer los caracteres:\n",
    "texto[2]"
   ]
  },
  {
   "cell_type": "code",
   "execution_count": 8,
   "id": "d2b9eb21-c48b-4201-a282-cd42104684ea",
   "metadata": {},
   "outputs": [
    {
     "data": {
      "text/plain": [
       "'a-b-c-d'"
      ]
     },
     "execution_count": 8,
     "metadata": {},
     "output_type": "execute_result"
    }
   ],
   "source": [
    "x = 'abcd'\n",
    "x = '-'.join(x)\n",
    "x"
   ]
  },
  {
   "cell_type": "code",
   "execution_count": 9,
   "id": "ef545419-cfe7-49c2-ae20-4750dfc3ce82",
   "metadata": {},
   "outputs": [
    {
     "name": "stdout",
     "output_type": "stream",
     "text": [
      "<class 'bool'> : True\n",
      "<class 'bool'> : False\n"
     ]
    }
   ],
   "source": [
    "# Boleanos\n",
    "\n",
    "x = True\n",
    "print(type(x), ':', x)\n",
    "y = False\n",
    "print(type(y), ':', y)"
   ]
  },
  {
   "cell_type": "markdown",
   "id": "63e690b8-fc0e-4f1b-b891-60e29e2ee8ed",
   "metadata": {},
   "source": [
    "****"
   ]
  },
  {
   "attachments": {},
   "cell_type": "markdown",
   "id": "7c47a5ee",
   "metadata": {},
   "source": [
    "# The insert() method "
   ]
  },
  {
   "attachments": {},
   "cell_type": "markdown",
   "id": "1fec7225",
   "metadata": {},
   "source": [
    "## insert: ejemplo "
   ]
  },
  {
   "cell_type": "code",
   "execution_count": 10,
   "id": "f78822de",
   "metadata": {},
   "outputs": [
    {
     "name": "stdout",
     "output_type": "stream",
     "text": [
      "Listado: ['a', 'e', 'i', 'o', 'u']\n"
     ]
    }
   ],
   "source": [
    "# The insert() method \n",
    "# inserts an element to the list at the specified index\n",
    "\n",
    "# crea una lista de vocales\n",
    "vocal = ['a', 'e', 'i', 'u']\n",
    "\n",
    "# 'o' is inserted at index 3 (4th position)\n",
    "vocal.insert(3, 'o')\n",
    "\n",
    "\n",
    "print('Listado:', vocal)\n",
    "\n",
    "# Output: List: ['a', 'e', 'i', 'o', 'u']"
   ]
  },
  {
   "attachments": {},
   "cell_type": "markdown",
   "id": "6484bb12",
   "metadata": {},
   "source": [
    "## suma de elementos de una lista"
   ]
  },
  {
   "cell_type": "code",
   "execution_count": 11,
   "id": "3f89dd82",
   "metadata": {},
   "outputs": [
    {
     "data": {
      "text/plain": [
       "60"
      ]
     },
     "execution_count": 11,
     "metadata": {},
     "output_type": "execute_result"
    }
   ],
   "source": [
    "L = [10,20,30]\n",
    "sum(L)"
   ]
  },
  {
   "cell_type": "code",
   "execution_count": 13,
   "id": "2886a237",
   "metadata": {},
   "outputs": [],
   "source": [
    "# L.sum()\n",
    "\n",
    "# AttributeError: 'list' object has no attribute 'sum'"
   ]
  },
  {
   "attachments": {},
   "cell_type": "markdown",
   "id": "64a3990f",
   "metadata": {},
   "source": [
    "### OTRA FORMA DE SUMAR LOS ELEMENTOS DE UNA LISTA"
   ]
  },
  {
   "cell_type": "code",
   "execution_count": 16,
   "id": "4ac6b37d",
   "metadata": {},
   "outputs": [
    {
     "name": "stdout",
     "output_type": "stream",
     "text": [
      "la suma de los elementos de la lista es: 60\n"
     ]
    }
   ],
   "source": [
    "suma=0\n",
    "for numero in L:\n",
    "    suma = suma + numero\n",
    " #   10  <=   0   + 10\n",
    " #   30  <=  10   + 20 \n",
    " #   60  <=  30   + 30\n",
    "print('la suma de los elementos de la lista es:', suma)"
   ]
  },
  {
   "attachments": {},
   "cell_type": "markdown",
   "id": "2daf43f5",
   "metadata": {},
   "source": [
    "## borrar elementos de una lista en un index concreto"
   ]
  },
  {
   "cell_type": "code",
   "execution_count": 17,
   "id": "e5aa56d6",
   "metadata": {},
   "outputs": [
    {
     "data": {
      "text/plain": [
       "[10, 20, 30]"
      ]
     },
     "execution_count": 17,
     "metadata": {},
     "output_type": "execute_result"
    }
   ],
   "source": [
    "L"
   ]
  },
  {
   "cell_type": "code",
   "execution_count": 18,
   "id": "11240a32",
   "metadata": {},
   "outputs": [
    {
     "data": {
      "text/plain": [
       "[10, 30]"
      ]
     },
     "execution_count": 18,
     "metadata": {},
     "output_type": "execute_result"
    }
   ],
   "source": [
    "# SI QUIERO BORRAR EL ELEMENTO DE INDEX 1\n",
    "del L[1]\n",
    "\n",
    "L"
   ]
  },
  {
   "attachments": {},
   "cell_type": "markdown",
   "id": "8e7c519a",
   "metadata": {},
   "source": [
    "## insert + del + sum(lista) : pregunta del examen"
   ]
  },
  {
   "cell_type": "code",
   "execution_count": 19,
   "id": "861f255a",
   "metadata": {},
   "outputs": [
    {
     "name": "stdout",
     "output_type": "stream",
     "text": [
      "4\n"
     ]
    }
   ],
   "source": [
    "# cuál es el resultado del siguiente fragmento de código?\n",
    "# A) 4\n",
    "# B) 3\n",
    "# C) NINGUNA DE LAS ANTERIORES\n",
    "# D) EL código es erróneo\n",
    "\n",
    "x = [0, 1, 2]     \n",
    "x.insert(0, 1) \n",
    "del x[1]    \n",
    "print(sum(x))   "
   ]
  },
  {
   "cell_type": "code",
   "execution_count": null,
   "id": "1b4deb06",
   "metadata": {},
   "outputs": [],
   "source": [
    "# resuelto paso a paso"
   ]
  },
  {
   "cell_type": "code",
   "execution_count": 20,
   "id": "6bba0c7f",
   "metadata": {},
   "outputs": [
    {
     "name": "stdout",
     "output_type": "stream",
     "text": [
      "x inicial: [0, 1, 2]\n",
      "x insertando en index 0 un \"1\": [1, 0, 1, 2]\n",
      "x borrando el elemento en index [1]: [1, 1, 2]\n",
      "la suma de todos los valores que componen x: (sum(x))\n",
      "4\n"
     ]
    }
   ],
   "source": [
    "x = [0, 1, 2]     # 0 1 2\n",
    "print('x inicial:', x)\n",
    "\n",
    "x.insert(0, 1)    # 1 0 1 2      (insertas en indice 0 un \"1\")      \n",
    "print('x insertando en index 0 un \"1\":', x)\n",
    "\n",
    "del x[1]          # 1   1 2  ======> 1 1 2\n",
    "print(\"x borrando el elemento en index [1]:\", x)\n",
    "\n",
    "print('la suma de todos los valores que componen x: (sum(x))')\n",
    "print(sum(x))     # 4            (1+1+2)"
   ]
  },
  {
   "attachments": {},
   "cell_type": "markdown",
   "id": "7bb13e08",
   "metadata": {},
   "source": [
    "****"
   ]
  },
  {
   "attachments": {},
   "cell_type": "markdown",
   "id": "71f64afe",
   "metadata": {},
   "source": [
    "## Funciones y argumentos: ejemplo 1"
   ]
  },
  {
   "cell_type": "code",
   "execution_count": 21,
   "id": "c7047849",
   "metadata": {},
   "outputs": [
    {
     "name": "stdout",
     "output_type": "stream",
     "text": [
      "3 2\n"
     ]
    }
   ],
   "source": [
    "# cuál es la salida del siguiente fragmento de código?\n",
    "# A) 3 3\n",
    "# B) 3 2\n",
    "# C) ninguna de las anteriores\n",
    "# D) el código es erróneo\n",
    "\n",
    "def test(x=1, y=2):\n",
    "    x = x + y         \n",
    "    y += 1          \n",
    "    print(x, y)       \n",
    "\n",
    "test(2, 1)"
   ]
  },
  {
   "cell_type": "code",
   "execution_count": null,
   "id": "5811610d",
   "metadata": {},
   "outputs": [],
   "source": [
    "# y+=1  equivalente a: y = y + 1"
   ]
  },
  {
   "cell_type": "code",
   "execution_count": 22,
   "id": "e534f656",
   "metadata": {},
   "outputs": [
    {
     "name": "stdout",
     "output_type": "stream",
     "text": [
      "3 2\n"
     ]
    }
   ],
   "source": [
    "def test(x=1, y=2):\n",
    "    x = x + y       # ===> x =  2 + 1 = 3, x = 3, y = 1 \n",
    "    y += 1          # ===> y = y + 1 ==> y = 2 \n",
    "    print(x, y)       \n",
    "\n",
    "test(2, 1)"
   ]
  },
  {
   "attachments": {},
   "cell_type": "markdown",
   "id": "4edfc642",
   "metadata": {},
   "source": [
    "**el ejemplo explicado paso a paso**\n",
    "\n",
    "para comprobar que una vez modificamos los valores de los argumentos en la propia llamada\n",
    "\n",
    "éstos son modificados"
   ]
  },
  {
   "cell_type": "code",
   "execution_count": 23,
   "id": "8a96d2c8",
   "metadata": {},
   "outputs": [],
   "source": [
    "def test(x=1, y=2):\n",
    "    print('argumentos de la función: x=1, y=2')\n",
    "    print('valores en la llamada:    x=2, y=1')\n",
    "    print(\"valores reales en este instante:\")\n",
    "    print('x =',x, 'y =',y)\n",
    "    print(\"\\n\")\n",
    "    x = x + y         # x = x + y  -> 3 <= 2 + 1\n",
    "    y += 1            # y = y + 1  -> 2 <= 1 + 1 \n",
    "    print(x, y)       # 3, 2"
   ]
  },
  {
   "cell_type": "code",
   "execution_count": 24,
   "id": "71a0a973",
   "metadata": {},
   "outputs": [
    {
     "name": "stdout",
     "output_type": "stream",
     "text": [
      "argumentos de la función: x=1, y=2\n",
      "valores en la llamada:    x=2, y=1\n",
      "valores reales en este instante:\n",
      "x = 2 y = 1\n",
      "\n",
      "\n",
      "3 2\n"
     ]
    }
   ],
   "source": [
    "test(2, 1)"
   ]
  },
  {
   "cell_type": "code",
   "execution_count": 25,
   "id": "0ffdcaf3",
   "metadata": {},
   "outputs": [
    {
     "name": "stdout",
     "output_type": "stream",
     "text": [
      "argumentos de la función: x=1, y=2\n",
      "valores en la llamada:    x=2, y=1\n",
      "valores reales en este instante:\n",
      "x = 4 y = 3\n",
      "\n",
      "\n",
      "7 4\n"
     ]
    }
   ],
   "source": [
    "test(4, 3)"
   ]
  },
  {
   "attachments": {},
   "cell_type": "markdown",
   "id": "cbf94e93",
   "metadata": {},
   "source": [
    "## Funciones y argumentos: ejemplo 2"
   ]
  },
  {
   "cell_type": "code",
   "execution_count": null,
   "id": "71559770",
   "metadata": {},
   "outputs": [],
   "source": [
    "# ejercicio parecido\n",
    "\n",
    "\n",
    "# en la llamada a la función al decir test(2,1)\n",
    "# sabe que se refiere a x=2, y=1 ?\n",
    "\n",
    "# RESPUESTA: SI\n",
    "# porque va hacia la llamada y se encuentra en ese orden\n",
    "\n",
    "# def test(x,y):\n",
    "# que en este caso se encuentra asi:\n",
    "# def test(x=1, y=2)"
   ]
  },
  {
   "cell_type": "code",
   "execution_count": null,
   "id": "44ca2db2",
   "metadata": {},
   "outputs": [],
   "source": [
    "# en base a ello..\n",
    "\n",
    "# calcula el resultado del siguiente trozo de código\n",
    "\n",
    "# piensa si funciona el código y, si es que si, qué valor devuelve la llamada a la función?\n",
    "\n",
    "\n",
    "# cuál es la salida del siguiente fragmento de código?\n",
    "# A) 3 3\n",
    "# B) 3 2\n",
    "# C) ninguna de las anteriores\n",
    "# D) el código es erróneo"
   ]
  },
  {
   "cell_type": "code",
   "execution_count": 26,
   "id": "955995fb",
   "metadata": {},
   "outputs": [
    {
     "name": "stdout",
     "output_type": "stream",
     "text": [
      "3 3\n"
     ]
    }
   ],
   "source": [
    "def test(x=1, y=2):\n",
    "    x = x + y       # ===> x = 3 - y = 2\n",
    "    y += 1          # ===> x = 3 - y = 3\n",
    "    print(x, y)       \n",
    "\n",
    "test(y=2, x=1)"
   ]
  },
  {
   "cell_type": "code",
   "execution_count": 27,
   "id": "919342bf",
   "metadata": {},
   "outputs": [
    {
     "name": "stdout",
     "output_type": "stream",
     "text": [
      "7 4\n"
     ]
    }
   ],
   "source": [
    "test(y=3, x=4)\n",
    "\n",
    "# x = x + y  ===> x = 4 + 3 = 7 ==> x = 7 - y = 3\n",
    "# y = y + 1  =====================> x = 7 - y = 4\n",
    "# print(x,y) =====================> 7 4"
   ]
  },
  {
   "cell_type": "code",
   "execution_count": 28,
   "id": "fddd9d6b",
   "metadata": {},
   "outputs": [
    {
     "name": "stdout",
     "output_type": "stream",
     "text": [
      "7 5\n"
     ]
    }
   ],
   "source": [
    "test(3, 4)    # ==> x = 3, y = 4\n",
    "\n",
    "# x = x + y  ===> x = 3 + 4 = 7 ==> x = 7 - y = 4\n",
    "# y = y + 1  =====================> x = 7 - y = 5\n",
    "# print(x,y) =====================> 7 5"
   ]
  },
  {
   "attachments": {},
   "cell_type": "markdown",
   "id": "8f86211e",
   "metadata": {},
   "source": [
    "## Funciones y argumentos: ejemplo 3"
   ]
  },
  {
   "cell_type": "code",
   "execution_count": null,
   "id": "21f9f2ef",
   "metadata": {},
   "outputs": [],
   "source": [
    "# otro ejemplo parecido, \n",
    "\n",
    "# pero en la llamada no indicamos qué valores tienen \"x\" e \"y\""
   ]
  },
  {
   "cell_type": "code",
   "execution_count": 29,
   "id": "03cb34bf",
   "metadata": {},
   "outputs": [
    {
     "name": "stdout",
     "output_type": "stream",
     "text": [
      "3 3\n"
     ]
    }
   ],
   "source": [
    "def test(x=1, y=2):\n",
    "    x = x + y         # x = 1 + 2 ======> x = 3       \n",
    "    y += 1            # y = y + 1 ======> y = 3\n",
    "    print(x, y)       # print(x,y) =====> 3 3    \n",
    "\n",
    "test()"
   ]
  },
  {
   "attachments": {},
   "cell_type": "markdown",
   "id": "468293b2",
   "metadata": {},
   "source": [
    "## Funciones y argumentos: ejemplo 4"
   ]
  },
  {
   "cell_type": "code",
   "execution_count": null,
   "id": "5f3bfa8c",
   "metadata": {},
   "outputs": [],
   "source": [
    "# Ojo, que no es lo mismo que este otro ejemplo porque aquí NO SABE, \n",
    "# lo que valen 'x' e 'y'"
   ]
  },
  {
   "cell_type": "code",
   "execution_count": 2,
   "id": "f528f7ea",
   "metadata": {},
   "outputs": [
    {
     "data": {
      "text/plain": [
       "'\\ndef test(x, y):\\n    x = x + y         # x = 1 + 2 ======> x = 3       \\n    y += 1            # y = y + 1 ======> y = 3\\n    print(x, y)       # print(x,y) =====> 3 3    \\n\\ntest()'"
      ]
     },
     "execution_count": 2,
     "metadata": {},
     "output_type": "execute_result"
    }
   ],
   "source": [
    "\"\"\"\n",
    "def test(x, y):\n",
    "    x = x + y         # x = 1 + 2 ======> x = 3       \n",
    "    y += 1            # y = y + 1 ======> y = 3\n",
    "    print(x, y)       # print(x,y) =====> 3 3    \n",
    "\n",
    "test()\"\"\""
   ]
  },
  {
   "attachments": {},
   "cell_type": "markdown",
   "id": "0ad47e05",
   "metadata": {},
   "source": [
    "## Funciones y argumentos: ejemplo 5\n",
    "\n",
    "**omitiendo algún valor en la llamada**"
   ]
  },
  {
   "cell_type": "code",
   "execution_count": 32,
   "id": "b747c118",
   "metadata": {
    "scrolled": true
   },
   "outputs": [
    {
     "name": "stdout",
     "output_type": "stream",
     "text": [
      "4 3\n"
     ]
    }
   ],
   "source": [
    "def test(x=1, y=2):\n",
    "    x = x + y         # x =       \n",
    "    y += 1            # y = y + 1 \n",
    "    print(x, y)       # \n",
    "\n",
    "test(2)"
   ]
  },
  {
   "attachments": {},
   "cell_type": "markdown",
   "id": "4e6475a3",
   "metadata": {},
   "source": [
    "## Funciones y argumentos: ejemplo 6"
   ]
  },
  {
   "cell_type": "code",
   "execution_count": 33,
   "id": "6fcbcc7b",
   "metadata": {},
   "outputs": [
    {
     "name": "stdout",
     "output_type": "stream",
     "text": [
      "5 5\n"
     ]
    }
   ],
   "source": [
    "def test(x=1, y=2):\n",
    "    x = x + y         # x = 1 + 4 ======>  x = 5 , y = 4\n",
    "    y += 1            # y = y + 1 ======>  x = 5 , y = 5\n",
    "    print(x, y)       # print(x,y) =====>  5 5 \n",
    "\n",
    "test(y=4)"
   ]
  },
  {
   "attachments": {},
   "cell_type": "markdown",
   "id": "58891f45",
   "metadata": {},
   "source": [
    "## Funciones y argumentos: ejemplo 7\n",
    "\n",
    "**mismo ejemplo sin decir y=4, simplemente 4**"
   ]
  },
  {
   "cell_type": "code",
   "execution_count": 34,
   "id": "96d495e8",
   "metadata": {},
   "outputs": [
    {
     "name": "stdout",
     "output_type": "stream",
     "text": [
      "6 3\n"
     ]
    }
   ],
   "source": [
    "def test(x=1, y=2):\n",
    "    x = x + y         # x = 4 + 2 ======> x = 6, y = 2\n",
    "    y += 1            # y = y + 1 ======> x = 6, y = 3\n",
    "    print(x, y)       # print(x,y) =====> 6 3\n",
    "\n",
    "test(4)"
   ]
  },
  {
   "attachments": {},
   "cell_type": "markdown",
   "id": "91ff0f0f",
   "metadata": {},
   "source": [
    "## Funciones y argumentos: ejemplo 8\n",
    "\n",
    "**otro ejemplo más donde vemos que una coma la admite en la llamada**\n",
    "\n",
    "**sin necesidad de establecer el valor de \"y\"**"
   ]
  },
  {
   "cell_type": "code",
   "execution_count": 35,
   "id": "359d24a9",
   "metadata": {},
   "outputs": [
    {
     "name": "stdout",
     "output_type": "stream",
     "text": [
      "6 3\n"
     ]
    }
   ],
   "source": [
    "def test(x=1, y=2):\n",
    "    x = x + y         # x = 4 + 2 ======> x = 6, y = 2\n",
    "    y += 1            # y = y + 1 ======> x = 6, y = 3\n",
    "    print(x, y)       # print(x,y) =====> 6 3\n",
    "\n",
    "test(4,)"
   ]
  },
  {
   "attachments": {},
   "cell_type": "markdown",
   "id": "06bbb255",
   "metadata": {},
   "source": [
    "## Funciones y argumentos: ejemplo 9\n",
    "\n",
    "**ejemplo donde vemos que no permite poner varias comas**"
   ]
  },
  {
   "cell_type": "code",
   "execution_count": 36,
   "id": "a86b164a",
   "metadata": {},
   "outputs": [
    {
     "ename": "SyntaxError",
     "evalue": "invalid syntax (1457273870.py, line 7)",
     "output_type": "error",
     "traceback": [
      "  \u001b[36mCell\u001b[39m\u001b[36m \u001b[39m\u001b[32mIn[36]\u001b[39m\u001b[32m, line 7\u001b[39m\n\u001b[31m    \u001b[39m\u001b[31mtest(4,,2)\u001b[39m\n           ^\n\u001b[31mSyntaxError\u001b[39m\u001b[31m:\u001b[39m invalid syntax\n"
     ]
    }
   ],
   "source": [
    "def test(x=1, y=2, z=2):\n",
    "    x = x + y         # x = 4 + 2 ======> x = 6, y = 2\n",
    "    y += 1            # y = y + 1 ======> x = 6, y = 3\n",
    "    z = z + 1\n",
    "    print(x, y, z)       # print(x,y) =====> 6 3\n",
    "\n",
    "test(4,,2)\n",
    "\n",
    "# SyntaxError: invalid syntax"
   ]
  },
  {
   "attachments": {},
   "cell_type": "markdown",
   "id": "27d159df",
   "metadata": {},
   "source": [
    "## Funciones y argumentos: ejemplo 10"
   ]
  },
  {
   "cell_type": "code",
   "execution_count": 37,
   "id": "b2b2008e",
   "metadata": {},
   "outputs": [
    {
     "ename": "SyntaxError",
     "evalue": "invalid syntax (69158050.py, line 6)",
     "output_type": "error",
     "traceback": [
      "  \u001b[36mCell\u001b[39m\u001b[36m \u001b[39m\u001b[32mIn[37]\u001b[39m\u001b[32m, line 6\u001b[39m\n\u001b[31m    \u001b[39m\u001b[31mtest(,4)\u001b[39m\n         ^\n\u001b[31mSyntaxError\u001b[39m\u001b[31m:\u001b[39m invalid syntax\n"
     ]
    }
   ],
   "source": [
    "\n",
    "def test(x=1, y=2):\n",
    "    x = x + y         #       \n",
    "    y += 1            # y = y + 1 ======> \n",
    "    print(x, y)       # print(x,y) =====>  \n",
    "\n",
    "test(,4)\n",
    "\n",
    "# SyntaxError: invalid syntax"
   ]
  },
  {
   "attachments": {},
   "cell_type": "markdown",
   "id": "4c88bcbc",
   "metadata": {},
   "source": [
    "****"
   ]
  },
  {
   "attachments": {},
   "cell_type": "markdown",
   "id": "aba084e8",
   "metadata": {},
   "source": [
    "# NO hacer copias de listas \n",
    "\n",
    "y lo que ello implica.."
   ]
  },
  {
   "attachments": {},
   "cell_type": "markdown",
   "id": "2c5791c7",
   "metadata": {},
   "source": [
    "## copias y asignación de listas: ejemplo 1\n",
    "\n",
    "**CUANDO QUIERO UNA COPIA DE UNA LISTA SE DEBE HACER ASI:**"
   ]
  },
  {
   "cell_type": "code",
   "execution_count": 38,
   "id": "dff6e88c",
   "metadata": {},
   "outputs": [
    {
     "data": {
      "text/plain": [
       "[1, 2, 3]"
      ]
     },
     "execution_count": 38,
     "metadata": {},
     "output_type": "execute_result"
    }
   ],
   "source": [
    "listado = [1,2,3]\n",
    "\n",
    "copia_listado = listado.copy()\n",
    "copia_listado"
   ]
  },
  {
   "cell_type": "code",
   "execution_count": 39,
   "id": "011c1575-6b34-4cb5-88c3-d8e7c7f86fa4",
   "metadata": {},
   "outputs": [
    {
     "data": {
      "text/plain": [
       "132160906913984"
      ]
     },
     "execution_count": 39,
     "metadata": {},
     "output_type": "execute_result"
    }
   ],
   "source": [
    "id(listado)"
   ]
  },
  {
   "cell_type": "code",
   "execution_count": 40,
   "id": "fd24a0a4-15da-48a7-94fa-ce0b3d709f83",
   "metadata": {},
   "outputs": [
    {
     "data": {
      "text/plain": [
       "132160906905536"
      ]
     },
     "execution_count": 40,
     "metadata": {},
     "output_type": "execute_result"
    }
   ],
   "source": [
    "id(copia_listado)"
   ]
  },
  {
   "cell_type": "code",
   "execution_count": 41,
   "id": "37b1e1e8",
   "metadata": {},
   "outputs": [
    {
     "data": {
      "text/plain": [
       "[1, 3]"
      ]
     },
     "execution_count": 41,
     "metadata": {},
     "output_type": "execute_result"
    }
   ],
   "source": [
    "del listado[1]\n",
    "listado"
   ]
  },
  {
   "cell_type": "code",
   "execution_count": 42,
   "id": "257150e9",
   "metadata": {},
   "outputs": [
    {
     "data": {
      "text/plain": [
       "[1, 2, 3]"
      ]
     },
     "execution_count": 42,
     "metadata": {},
     "output_type": "execute_result"
    }
   ],
   "source": [
    "copia_listado"
   ]
  },
  {
   "attachments": {},
   "cell_type": "markdown",
   "id": "8116bac9",
   "metadata": {},
   "source": [
    "**hemos visto que aunque hemos modificado la lista inicial \"listado\"**\n",
    "\n",
    "**HEMOS MANTENIDO LOS VALORES INICIALES EN \"COPIA_LISTADO\"**"
   ]
  },
  {
   "attachments": {},
   "cell_type": "markdown",
   "id": "3aad601d",
   "metadata": {},
   "source": [
    "## copias y asignación de listas: ejemplo 2 \n",
    "\n",
    "creo una lista (lista inicial)\n",
    "asigno otra lista y le asigno esa lista inicial\n",
    "modifico un elemento de la lista inicial\n",
    "\n",
    "COMPRUEBO que TAMBIÉN modifica la segunda lista (lista 2)"
   ]
  },
  {
   "cell_type": "code",
   "execution_count": 43,
   "id": "65e9ba78",
   "metadata": {},
   "outputs": [
    {
     "name": "stdout",
     "output_type": "stream",
     "text": [
      "132160906911616\n",
      "132160906911616\n",
      "list2: [4, 3]\n",
      "list1: [4, 3]\n"
     ]
    }
   ],
   "source": [
    "list1 = [1, 3]\n",
    "list2 = list1  # list2 = [1, 3]\n",
    "\n",
    "list1[0] = 4   # list1 = [4, 3]\n",
    "\n",
    "print(id(list1))\n",
    "print(id(list2))\n",
    "\n",
    "print('list2:', list2)  \n",
    "print('list1:', list1)"
   ]
  },
  {
   "attachments": {},
   "cell_type": "markdown",
   "id": "f7ffa005",
   "metadata": {},
   "source": [
    "## copias y asignación de listas: ejemplo 3\n",
    "\n",
    "**ahora modifico la lista 2 y compruebo..**"
   ]
  },
  {
   "cell_type": "code",
   "execution_count": 44,
   "id": "c26cbd31",
   "metadata": {},
   "outputs": [
    {
     "name": "stdout",
     "output_type": "stream",
     "text": [
      "list2: [4, 3]\n",
      "list1: [4, 3]\n"
     ]
    }
   ],
   "source": [
    "list1 = [1, 3]\n",
    "list2 = list1  # list2 = [1, 3]\n",
    "\n",
    "list2[0] = 4   # list2 = [4, 3]\n",
    "\n",
    "print('list2:', list2)  \n",
    "print('list1:', list1)"
   ]
  },
  {
   "attachments": {},
   "cell_type": "markdown",
   "id": "03c2925f",
   "metadata": {},
   "source": [
    "**VEMOS que en el momento que asignas una a otra,**\n",
    "\n",
    "**la otra también se modifica**"
   ]
  },
  {
   "cell_type": "code",
   "execution_count": 45,
   "id": "be034ca2",
   "metadata": {},
   "outputs": [
    {
     "data": {
      "text/plain": [
       "True"
      ]
     },
     "execution_count": 45,
     "metadata": {},
     "output_type": "execute_result"
    }
   ],
   "source": [
    "list1 == list2"
   ]
  },
  {
   "cell_type": "code",
   "execution_count": 46,
   "id": "88b58cb8-2474-4b10-98f3-172c72886502",
   "metadata": {},
   "outputs": [
    {
     "data": {
      "text/plain": [
       "True"
      ]
     },
     "execution_count": 46,
     "metadata": {},
     "output_type": "execute_result"
    }
   ],
   "source": [
    "list1 is list2"
   ]
  },
  {
   "cell_type": "code",
   "execution_count": 47,
   "id": "4ffc2f56",
   "metadata": {},
   "outputs": [
    {
     "name": "stdout",
     "output_type": "stream",
     "text": [
      "son ambas [4,3]\n"
     ]
    }
   ],
   "source": [
    "if list1 == list2:\n",
    "    print('son ambas [4,3]')"
   ]
  },
  {
   "attachments": {},
   "cell_type": "markdown",
   "id": "1fc589bf",
   "metadata": {},
   "source": [
    "**Aqui vemos que:**\n",
    "    \n",
    "**en el momento que no hago una copia y uso el operador = (operador de asignación)**\n",
    "\n",
    "**lo que nos encontramos es que cuando modificas una lista (la lista original)**\n",
    "\n",
    "**estamos también modificando la otra**"
   ]
  },
  {
   "attachments": {},
   "cell_type": "markdown",
   "id": "a1db4118",
   "metadata": {},
   "source": [
    "## copias y asignación de listas: ejemplo 4\n",
    "\n",
    "**asignación de valores (varios valores),** \n",
    "\n",
    "nota, recordar Numpy, porque era similar"
   ]
  },
  {
   "cell_type": "code",
   "execution_count": 48,
   "id": "6fdbbd30",
   "metadata": {},
   "outputs": [
    {
     "data": {
      "text/plain": [
       "[1, 2, 3]"
      ]
     },
     "execution_count": 48,
     "metadata": {},
     "output_type": "execute_result"
    }
   ],
   "source": [
    "numeros = [1, 2, 3]\n",
    "numeros"
   ]
  },
  {
   "cell_type": "code",
   "execution_count": 49,
   "id": "f562726a",
   "metadata": {},
   "outputs": [
    {
     "data": {
      "text/plain": [
       "[1, 2]"
      ]
     },
     "execution_count": 49,
     "metadata": {},
     "output_type": "execute_result"
    }
   ],
   "source": [
    "numeros[0:2] # 0 hasta 2 - 1 = 0 a 1"
   ]
  },
  {
   "cell_type": "code",
   "execution_count": 50,
   "id": "0af7a638",
   "metadata": {},
   "outputs": [
    {
     "data": {
      "text/plain": [
       "[1, 2]"
      ]
     },
     "execution_count": 50,
     "metadata": {},
     "output_type": "execute_result"
    }
   ],
   "source": [
    "numeros[:2] # 0 hasta 1"
   ]
  },
  {
   "cell_type": "code",
   "execution_count": 51,
   "id": "300b2f92",
   "metadata": {},
   "outputs": [
    {
     "data": {
      "text/plain": [
       "2"
      ]
     },
     "execution_count": 51,
     "metadata": {},
     "output_type": "execute_result"
    }
   ],
   "source": [
    "numeros[1]"
   ]
  },
  {
   "cell_type": "code",
   "execution_count": 52,
   "id": "47ab11cc",
   "metadata": {},
   "outputs": [
    {
     "data": {
      "text/plain": [
       "[2]"
      ]
     },
     "execution_count": 52,
     "metadata": {},
     "output_type": "execute_result"
    }
   ],
   "source": [
    "numeros[1:2] # 1 hasta 1"
   ]
  },
  {
   "cell_type": "code",
   "execution_count": 53,
   "id": "06c98e23",
   "metadata": {},
   "outputs": [
    {
     "data": {
      "text/plain": [
       "list"
      ]
     },
     "execution_count": 53,
     "metadata": {},
     "output_type": "execute_result"
    }
   ],
   "source": [
    "type(numeros[1:2])"
   ]
  },
  {
   "cell_type": "code",
   "execution_count": 54,
   "id": "10a6cd1d",
   "metadata": {},
   "outputs": [
    {
     "data": {
      "text/plain": [
       "int"
      ]
     },
     "execution_count": 54,
     "metadata": {},
     "output_type": "execute_result"
    }
   ],
   "source": [
    "type(numeros[1])"
   ]
  },
  {
   "cell_type": "code",
   "execution_count": 55,
   "id": "1900de9d",
   "metadata": {},
   "outputs": [
    {
     "data": {
      "text/plain": [
       "[1, 2, 3]"
      ]
     },
     "execution_count": 55,
     "metadata": {},
     "output_type": "execute_result"
    }
   ],
   "source": [
    "numbers = [1,2,3]\n",
    "numbers"
   ]
  },
  {
   "cell_type": "code",
   "execution_count": 56,
   "id": "c03c90dd",
   "metadata": {},
   "outputs": [
    {
     "data": {
      "text/plain": [
       "[1, 3]"
      ]
     },
     "execution_count": 56,
     "metadata": {},
     "output_type": "execute_result"
    }
   ],
   "source": [
    "del numbers[1:2] # 1 hasta 2 -1 --> de 1 al 1 --> eliminar el valor de posicion 1 --> 2\n",
    "numbers"
   ]
  },
  {
   "cell_type": "code",
   "execution_count": 58,
   "id": "f5aacf6e-0167-4dc8-aa48-c663e393ba20",
   "metadata": {},
   "outputs": [
    {
     "data": {
      "text/plain": [
       "[1, 2, 5, 6, 8, 10]"
      ]
     },
     "execution_count": 58,
     "metadata": {},
     "output_type": "execute_result"
    }
   ],
   "source": [
    "datos = [1, 2, 5, 6, 8, 10]\n",
    "datos"
   ]
  },
  {
   "cell_type": "code",
   "execution_count": 63,
   "id": "a96f5053-d2eb-4185-8252-f08e91737521",
   "metadata": {},
   "outputs": [
    {
     "data": {
      "text/plain": [
       "[1, 5, 8]"
      ]
     },
     "execution_count": 63,
     "metadata": {},
     "output_type": "execute_result"
    }
   ],
   "source": [
    "datos [::2] # recoger datos de dos en dos, saltar dos posiciones"
   ]
  },
  {
   "attachments": {},
   "cell_type": "markdown",
   "id": "18a6f942",
   "metadata": {},
   "source": [
    "## copias y asignación de listas: ejemplo 5\n",
    "\n",
    "**el ejercicio de examen**"
   ]
  },
  {
   "cell_type": "code",
   "execution_count": 64,
   "id": "0963d810",
   "metadata": {},
   "outputs": [
    {
     "name": "stdout",
     "output_type": "stream",
     "text": [
      "vals: [1, 3]\n",
      "nums: [1, 3]\n"
     ]
    }
   ],
   "source": [
    "nums = [1, 2, 3]\n",
    "vals = nums             # vals = [1, 2, 3]\n",
    "del vals[1:2]    \n",
    "# añado:\n",
    "print('vals:', vals)    # borro 2, [1,3]\n",
    "print('nums:', nums)    # = que vals\n",
    "\n",
    "# conclusión: \n",
    "# SI NO HACES UNA COPIA DE LA LISTA, \n",
    "# TE GUARDA LOS CAMBIOS"
   ]
  },
  {
   "attachments": {},
   "cell_type": "markdown",
   "id": "463739ab",
   "metadata": {},
   "source": [
    "## copias y asignación de listas: ejemplo 6\n",
    "\n",
    "lo mismo que ejemplo 5 pero modificando la otra lista"
   ]
  },
  {
   "cell_type": "code",
   "execution_count": 65,
   "id": "292375f6",
   "metadata": {},
   "outputs": [
    {
     "name": "stdout",
     "output_type": "stream",
     "text": [
      "vals: [1, 3]\n",
      "nums: [1, 3]\n"
     ]
    }
   ],
   "source": [
    "nums = [1, 2, 3]\n",
    "vals = nums             # vals = [1, 2, 3]\n",
    "del nums[1:2]    \n",
    "# añado:\n",
    "print('vals:', vals)    # borro 2, [1,3]\n",
    "print('nums:', nums)    # = que vals\n",
    "\n",
    "# conclusión: \n",
    "# SI NO HACES UNA COPIA DE LA LISTA, \n",
    "# TE GUARDA LOS CAMBIOS"
   ]
  },
  {
   "attachments": {},
   "cell_type": "markdown",
   "id": "522d4d4b",
   "metadata": {},
   "source": [
    "## copias y asignación de listas: ejemplo 7\n",
    "\n",
    "**otro ejercicio similar, pero con copias de listas**"
   ]
  },
  {
   "cell_type": "code",
   "execution_count": 66,
   "id": "7443c75d",
   "metadata": {},
   "outputs": [
    {
     "data": {
      "text/plain": [
       "[1, 2, 3]"
      ]
     },
     "execution_count": 66,
     "metadata": {},
     "output_type": "execute_result"
    }
   ],
   "source": [
    "listado = [1,2,3]\n",
    "\n",
    "copia_listado = listado.copy()\n",
    "copia_listado"
   ]
  },
  {
   "cell_type": "code",
   "execution_count": 67,
   "id": "88586148",
   "metadata": {},
   "outputs": [
    {
     "name": "stdout",
     "output_type": "stream",
     "text": [
      "listado: [1000, 2, 3]\n",
      "copia_listado: [1, 2, 3]\n"
     ]
    }
   ],
   "source": [
    "listado[0] = 1000\n",
    "print('listado:', listado)\n",
    "print('copia_listado:', copia_listado)\n",
    "\n",
    "# posibles soluciones\n",
    "\n",
    "# A)\n",
    "# listado = [1,2,3]\n",
    "# copia_listado = [1,2,3]\n",
    "\n",
    "# B)\n",
    "# listado = [1000,2,3]\n",
    "# copia_listado = [1,2,3]\n",
    "\n",
    "# C)\n",
    "# listado = [1000,2,3]\n",
    "# copia_listado = [1000,2,3]\n",
    "\n",
    "# D)\n",
    "# ninguna de las anteriores"
   ]
  },
  {
   "attachments": {},
   "cell_type": "markdown",
   "id": "7514c185",
   "metadata": {},
   "source": [
    "## copias y asignación de listas: ejemplo 8"
   ]
  },
  {
   "cell_type": "code",
   "execution_count": 68,
   "id": "38f91b62",
   "metadata": {},
   "outputs": [
    {
     "name": "stdout",
     "output_type": "stream",
     "text": [
      "lista1 antes de modificar el 10 de index 1 [4, 3]\n",
      "lista2 antes de modificar el 10 de index 1 [4, 3]\n",
      "list1: [4, 10]\n",
      "list2: [4, 10]\n"
     ]
    },
    {
     "data": {
      "text/plain": [
       "'\\nlist1 = [1, 3]\\nlist1 = [4, 3]\\nlist1 = [4, 10]\\n\\n\\nlist2 = [1, 3]\\nlist2 = [4, 3]\\nlist2 = [4, 10]\\n'"
      ]
     },
     "execution_count": 68,
     "metadata": {},
     "output_type": "execute_result"
    }
   ],
   "source": [
    "list1 = [1, 3] # [1, 3]\n",
    "list2 = list1  # [1, 3]\n",
    "list1[0] = 4   # [4, 3]\n",
    "print('lista1 antes de modificar el 10 de index 1', list1)\n",
    "print('lista2 antes de modificar el 10 de index 1', list2)\n",
    "list2[1] = 10  # [4, 10]\n",
    "\n",
    "print('list1:', list1)  \n",
    "print('list2:', list2)\n",
    "\n",
    "# A. [4,10] en ambas listas\n",
    "\n",
    "'''\n",
    "list1 = [1, 3]\n",
    "list1 = [4, 3]\n",
    "list1 = [4, 10]\n",
    "\n",
    "\n",
    "list2 = [1, 3]\n",
    "list2 = [4, 3]\n",
    "list2 = [4, 10]\n",
    "'''"
   ]
  },
  {
   "attachments": {},
   "cell_type": "markdown",
   "id": "d85b81a7",
   "metadata": {},
   "source": [
    "## copias y asignación de listas: ejemplo 9"
   ]
  },
  {
   "cell_type": "code",
   "execution_count": 69,
   "id": "c7076161",
   "metadata": {},
   "outputs": [
    {
     "name": "stdout",
     "output_type": "stream",
     "text": [
      "list1: [10]\n",
      "list2: [10]\n"
     ]
    }
   ],
   "source": [
    "list1 = [1, 3]\n",
    "list2 = list1  \n",
    "list1[0] = 4   \n",
    "list2[1] = 10  # [4, 10]\n",
    "del list1[0] # [10]\n",
    "\n",
    "print('list1:', list1)  \n",
    "print('list2:', list2)\n",
    "\n",
    "# A. \n",
    "#    lista 1 => [10]\n",
    "#    lista 2 => [10]"
   ]
  },
  {
   "attachments": {},
   "cell_type": "markdown",
   "id": "d1935d6d",
   "metadata": {},
   "source": [
    "## copias y asignación de listas: ejemplo 10"
   ]
  },
  {
   "cell_type": "code",
   "execution_count": 70,
   "id": "e281eadb",
   "metadata": {},
   "outputs": [
    {
     "name": "stdout",
     "output_type": "stream",
     "text": [
      "list1: []\n",
      "list2: []\n"
     ]
    }
   ],
   "source": [
    "list1 = [1, 3]\n",
    "list2 = list1  \n",
    "list1[0] = 4   \n",
    "list2[1] = 10  \n",
    "del list1[0] # [10]\n",
    "del list2[0] # []\n",
    "\n",
    "print('list1:', list1)  \n",
    "print('list2:', list2)\n",
    "\n",
    "# []"
   ]
  },
  {
   "attachments": {},
   "cell_type": "markdown",
   "id": "8c39f7f0",
   "metadata": {},
   "source": [
    "## copias y asignación de listas: ejemplo 11"
   ]
  },
  {
   "cell_type": "code",
   "execution_count": 72,
   "id": "80d7f05f",
   "metadata": {},
   "outputs": [
    {
     "data": {
      "text/plain": [
       "\"\\nlist1 = [1, 3]\\nlist2 = list1  \\nlist1[0] = 4   \\nlist2[1] = 10  \\ndel list1[0] # [10]\\ndel list2[1] \\n\\nprint('list1:', list1)  \\nprint('list2:', list2)\\n\""
      ]
     },
     "execution_count": 72,
     "metadata": {},
     "output_type": "execute_result"
    }
   ],
   "source": [
    "# cuál es la salida del siguiente código\n",
    "# A. lista vacía\n",
    "# B. 10\n",
    "# C. el código es erróneo\n",
    "# D. ninguna de las anteriores\n",
    "\n",
    "'''\n",
    "list1 = [1, 3]\n",
    "list2 = list1  \n",
    "list1[0] = 4   \n",
    "list2[1] = 10  \n",
    "del list1[0] # [10]\n",
    "del list2[1] \n",
    "\n",
    "print('list1:', list1)  \n",
    "print('list2:', list2)\n",
    "'''\n",
    "\n",
    "\n",
    "# ERROR QUE ME DEVUELVE:\n",
    "# IndexError: list assignment index out of range\n",
    "\n",
    "# EXPLICACIÓN\n",
    "# cuando tienes en la penúltima línea: [10]\n",
    "# tal y como vimos en el ejemplo 10. TENEMOS 1 ÚNICO ELEMENTO.\n",
    "# SI TIENES 1 ELEMENTO, ====> NO Puedes eliminar el de index 1, solo index 0\n",
    "# (como en el anterior ejemplo)\n",
    "\n",
    "# POR ESO DEVUELVE UN ERROR"
   ]
  },
  {
   "attachments": {},
   "cell_type": "markdown",
   "id": "9ce8839f",
   "metadata": {},
   "source": [
    "****"
   ]
  },
  {
   "attachments": {},
   "cell_type": "markdown",
   "id": "4730d3d5",
   "metadata": {},
   "source": [
    "# Funciones: variables globales y locales\n",
    "\n",
    "(el ejercicio de examen es el primero)\n",
    "\n",
    "**variables globales Vs variables locales en las funciones**"
   ]
  },
  {
   "attachments": {},
   "cell_type": "markdown",
   "id": "e382148b",
   "metadata": {},
   "source": [
    "## Variables globales y locales: ejemplo 1"
   ]
  },
  {
   "cell_type": "code",
   "execution_count": 7,
   "id": "fb53b44e",
   "metadata": {},
   "outputs": [
    {
     "name": "stdout",
     "output_type": "stream",
     "text": [
      "4\n",
      "1\n"
     ]
    }
   ],
   "source": [
    "num = 1\n",
    " \n",
    "def func(num):\n",
    "    num = num + 3   \n",
    "    print(num)      \n",
    "    \n",
    "func(1)              \n",
    " \n",
    "print(num)           "
   ]
  },
  {
   "attachments": {},
   "cell_type": "markdown",
   "id": "aa1f24d3",
   "metadata": {},
   "source": [
    "## Variables globales y locales: ejemplo 2"
   ]
  },
  {
   "cell_type": "code",
   "execution_count": 8,
   "id": "15cb4e5e",
   "metadata": {},
   "outputs": [
    {
     "name": "stdout",
     "output_type": "stream",
     "text": [
      "9\n",
      "1\n"
     ]
    }
   ],
   "source": [
    "num = 1\n",
    " \n",
    "def func(num):\n",
    "    num = num + 3   \n",
    "    print(num)      \n",
    "    \n",
    "func(6)              \n",
    " \n",
    "print(num)  "
   ]
  },
  {
   "attachments": {},
   "cell_type": "markdown",
   "id": "cf072386",
   "metadata": {},
   "source": [
    "## Variables globales y locales: ejemplo 3"
   ]
  },
  {
   "cell_type": "code",
   "execution_count": 9,
   "id": "4013bf47",
   "metadata": {},
   "outputs": [
    {
     "name": "stdout",
     "output_type": "stream",
     "text": [
      "4\n",
      "4\n"
     ]
    }
   ],
   "source": [
    "num = 1\n",
    " \n",
    "def func():\n",
    "    global num\n",
    "    num = num + 3   \n",
    "    print(num)      \n",
    "    \n",
    "func()              \n",
    "print(num)           "
   ]
  },
  {
   "attachments": {},
   "cell_type": "markdown",
   "id": "fb58ae4e",
   "metadata": {},
   "source": [
    "## Variables globales y locales: ejemplo 4"
   ]
  },
  {
   "cell_type": "code",
   "execution_count": 10,
   "id": "af8f6fa9",
   "metadata": {},
   "outputs": [
    {
     "name": "stdout",
     "output_type": "stream",
     "text": [
      "4\n",
      "20\n"
     ]
    }
   ],
   "source": [
    "num = 1\n",
    " \n",
    "def func():\n",
    "    global num\n",
    "    num = num + 3   \n",
    "    print(num)      \n",
    "    \n",
    "func()              \n",
    "num = 2\n",
    "num = 20\n",
    "print(num) "
   ]
  },
  {
   "attachments": {},
   "cell_type": "markdown",
   "id": "0f6ca2d3",
   "metadata": {},
   "source": [
    "## Variables globales y locales: ejemplo 5"
   ]
  },
  {
   "cell_type": "code",
   "execution_count": 12,
   "id": "c085af25",
   "metadata": {},
   "outputs": [
    {
     "data": {
      "text/plain": [
       "'\\nnum = 1\\n\\ndef func():\\n    num = num + 3   \\n    print(num)      \\n\\nfunc()              \\n\\nprint(num)  \\n'"
      ]
     },
     "execution_count": 12,
     "metadata": {},
     "output_type": "execute_result"
    }
   ],
   "source": [
    "'''\n",
    "num = 1\n",
    " \n",
    "def func():\n",
    "    num = num + 3   \n",
    "    print(num)      \n",
    "    \n",
    "func()              \n",
    " \n",
    "print(num)  \n",
    "'''         \n",
    "\n",
    "# UnboundLocalError: local variable 'num' referenced before assignment\n",
    "\n",
    "# 'num' ahora DESCONOCEMOS SU VALOR EN \"num = num + 3\"\n",
    "# PORQUE ACTÚA DE MANERA LOCAL"
   ]
  },
  {
   "attachments": {},
   "cell_type": "markdown",
   "id": "7e7700a1",
   "metadata": {},
   "source": [
    "## Variables globales y locales: ejemplo 6\n",
    "\n",
    "**el mismo ejemplo PERO AHORA SI LE DIGO UN POSIBLE VALOR PARA NUM**\n",
    "\n",
    "pudiera ser también de examen"
   ]
  },
  {
   "cell_type": "code",
   "execution_count": 13,
   "id": "743359e7",
   "metadata": {},
   "outputs": [
    {
     "name": "stdout",
     "output_type": "stream",
     "text": [
      "la llamada a la función: \n",
      "13\n",
      "\n",
      "\n",
      "el valor de num original...: 1\n"
     ]
    }
   ],
   "source": [
    "num = 1\n",
    " \n",
    "def func():\n",
    "    num = 10\n",
    "    num = num + 3    \n",
    "    print(num)       \n",
    "    \n",
    "print('la llamada a la función: ')\n",
    "func()                              \n",
    "print('\\n')\n",
    " \n",
    "print('el valor de num original...:', num)              "
   ]
  },
  {
   "attachments": {},
   "cell_type": "markdown",
   "id": "9aa0c8cc",
   "metadata": {},
   "source": [
    "## Variables globales y locales: ejemplo 7\n",
    "\n",
    "ojo, que, aunque la variable sea global ESTAMOS REASIGNANDO VALORES A LA VARIABLE"
   ]
  },
  {
   "cell_type": "code",
   "execution_count": 14,
   "id": "7a356f17",
   "metadata": {},
   "outputs": [
    {
     "name": "stdout",
     "output_type": "stream",
     "text": [
      "la llamada a la función: \n",
      "13\n",
      "\n",
      "\n",
      "el valor de num original...: 13\n"
     ]
    }
   ],
   "source": [
    "num = 1\n",
    " \n",
    "def func():\n",
    "    global num\n",
    "    num = 10\n",
    "    num = num + 3    \n",
    "    print(num)       \n",
    "    \n",
    "print('la llamada a la función: ')\n",
    "func()                              \n",
    "print('\\n')\n",
    " \n",
    "print('el valor de num original...:', num)  "
   ]
  },
  {
   "attachments": {},
   "cell_type": "markdown",
   "id": "8c62856f",
   "metadata": {},
   "source": [
    "## Variables globales y locales: ejemplo 8\n",
    "\n",
    "LA PALABRA GLOBAL DESPUÉS DE \"num = 10\""
   ]
  },
  {
   "cell_type": "code",
   "execution_count": 16,
   "id": "6628bc8f",
   "metadata": {},
   "outputs": [
    {
     "data": {
      "text/plain": [
       "\"\\nnum = 1\\n\\ndef func():\\n    num = 10\\n    global num\\n    num = num + 3    \\n    print(num)       \\n\\nprint('la llamada a la función: ')\\nfunc()                              \\nprint('\\n')\\n\\nprint('el valor de num original...:', num)  \\n\""
      ]
     },
     "execution_count": 16,
     "metadata": {},
     "output_type": "execute_result"
    }
   ],
   "source": [
    "\"\"\"\n",
    "num = 1\n",
    " \n",
    "def func():\n",
    "    num = 10\n",
    "    global num\n",
    "    num = num + 3    \n",
    "    print(num)       \n",
    "    \n",
    "print('la llamada a la función: ')\n",
    "func()                              \n",
    "print('\\n')\n",
    " \n",
    "print('el valor de num original...:', num)  \n",
    "\"\"\"\n",
    "\n",
    "# SyntaxError: name 'num' is assigned to before global declaration"
   ]
  },
  {
   "attachments": {},
   "cell_type": "markdown",
   "id": "cc2b3019",
   "metadata": {},
   "source": [
    "## Variables globales y locales: ejemplo 9\n",
    "\n",
    "ojo, que, aunque la variable sea global ESTAMOS REASIGNANDO VALORES A LA VARIABLE\n",
    "\n",
    "**AQUI, PARA VERLO DEFINITIVAMENTE, HEMOS REASIGNADO VARIAS VECES**"
   ]
  },
  {
   "cell_type": "code",
   "execution_count": 17,
   "id": "ba706754",
   "metadata": {},
   "outputs": [
    {
     "name": "stdout",
     "output_type": "stream",
     "text": [
      "la llamada a la función: \n",
      "33\n",
      "\n",
      "\n",
      "el valor de num original...: 33\n"
     ]
    }
   ],
   "source": [
    "num = 1\n",
    " \n",
    "def func():\n",
    "    global num\n",
    "    num = 10\n",
    "    num = 20\n",
    "    num = 30\n",
    "    num = num + 3    \n",
    "    print(num)       \n",
    "    \n",
    "print('la llamada a la función: ')\n",
    "func()                              \n",
    "print('\\n')\n",
    " \n",
    "print('el valor de num original...:', num)  "
   ]
  },
  {
   "attachments": {},
   "cell_type": "markdown",
   "id": "3157ae7b",
   "metadata": {},
   "source": [
    "## Variables globales y locales: ejemplo 10\n",
    "\n",
    "un ejemplo diferente (el cual si que funciona)\n",
    "\n",
    "es una posible corrección al código del examen"
   ]
  },
  {
   "cell_type": "code",
   "execution_count": 18,
   "id": "d454eb76",
   "metadata": {},
   "outputs": [
    {
     "name": "stdout",
     "output_type": "stream",
     "text": [
      "4\n",
      "4\n"
     ]
    }
   ],
   "source": [
    "num = 1\n",
    " \n",
    "def func():\n",
    "    global num\n",
    "    num = num + 3    \n",
    "    print(num)       \n",
    "    \n",
    "func()              \n",
    " \n",
    "print(num)           "
   ]
  },
  {
   "attachments": {},
   "cell_type": "markdown",
   "id": "f99d8342",
   "metadata": {},
   "source": [
    "****"
   ]
  },
  {
   "attachments": {},
   "cell_type": "markdown",
   "id": "87498ee1",
   "metadata": {},
   "source": [
    "# Ejemplo con try except \n",
    "\n",
    "(el primero es el de examen)"
   ]
  },
  {
   "cell_type": "code",
   "execution_count": 21,
   "id": "174633a9",
   "metadata": {},
   "outputs": [
    {
     "ename": "SyntaxError",
     "evalue": "'break' outside loop (409217762.py, line 3)",
     "output_type": "error",
     "traceback": [
      "  \u001b[36mCell\u001b[39m\u001b[36m \u001b[39m\u001b[32mIn[21]\u001b[39m\u001b[32m, line 3\u001b[39m\n\u001b[31m    \u001b[39m\u001b[31mbreak\u001b[39m\n    ^\n\u001b[31mSyntaxError\u001b[39m\u001b[31m:\u001b[39m 'break' outside loop\n"
     ]
    }
   ],
   "source": [
    "\n",
    "try:\n",
    "    print(5/0)\n",
    "    break\n",
    "except:\n",
    "    print(\"Sorry, something went wrong...\")\n",
    "except (ValueError, ZeroDivisionError):\n",
    "    print(\"Too bad...\")\n",
    "\n",
    "    \n",
    "# SyntaxError: 'break' outside loop"
   ]
  },
  {
   "cell_type": "code",
   "execution_count": null,
   "id": "f9b883c0",
   "metadata": {},
   "outputs": [],
   "source": [
    "# ejemplo 2 de este tipo (este si funciona)\n",
    "\n",
    "# se ha intentado que ejecute la parte de ZeroDivisionError"
   ]
  },
  {
   "cell_type": "code",
   "execution_count": 22,
   "id": "c9a270dd",
   "metadata": {},
   "outputs": [
    {
     "name": "stdout",
     "output_type": "stream",
     "text": [
      "Too bad...\n"
     ]
    }
   ],
   "source": [
    "try:\n",
    "    print(5/0)\n",
    "except (ValueError, ZeroDivisionError):\n",
    "    print(\"Too bad...\")\n",
    "except:\n",
    "    print(\"Sorry, something went wrong...\")"
   ]
  },
  {
   "cell_type": "code",
   "execution_count": 23,
   "id": "9fdae045",
   "metadata": {},
   "outputs": [
    {
     "name": "stdout",
     "output_type": "stream",
     "text": [
      "Sorry, something went wrong...\n"
     ]
    }
   ],
   "source": [
    "try:\n",
    "    print(5/0)\n",
    "except (ValueError):\n",
    "    print(\"Too bad...\")\n",
    "except:\n",
    "    print(\"Sorry, something went wrong...\")"
   ]
  },
  {
   "cell_type": "code",
   "execution_count": 29,
   "id": "3665e1e6",
   "metadata": {},
   "outputs": [
    {
     "name": "stdout",
     "output_type": "stream",
     "text": [
      "Sorry, something went wrong...\n"
     ]
    }
   ],
   "source": [
    "try:\n",
    "    print(5/0)\n",
    "except ValueError:\n",
    "    print(\"Too bad...\")\n",
    "except:\n",
    "    print(\"Sorry, something went wrong...\")"
   ]
  },
  {
   "attachments": {},
   "cell_type": "markdown",
   "id": "203f62fa",
   "metadata": {},
   "source": [
    "**UNA POSIBILIDAD**"
   ]
  },
  {
   "cell_type": "code",
   "execution_count": 30,
   "id": "622c8be9",
   "metadata": {},
   "outputs": [
    {
     "name": "stdout",
     "output_type": "stream",
     "text": [
      "<class 'ZeroDivisionError'>\n",
      "division by zero\n"
     ]
    }
   ],
   "source": [
    "try:\n",
    "    print(5/0)\n",
    "except Exception as e:\n",
    "    print(type(e))\n",
    "    print(str(e))"
   ]
  },
  {
   "cell_type": "code",
   "execution_count": 31,
   "id": "92f97aa2",
   "metadata": {},
   "outputs": [
    {
     "ename": "SyntaxError",
     "evalue": "default 'except:' must be last (389378294.py, line 3)",
     "output_type": "error",
     "traceback": [
      "  \u001b[36mCell\u001b[39m\u001b[36m \u001b[39m\u001b[32mIn[31]\u001b[39m\u001b[32m, line 3\u001b[39m\n\u001b[31m    \u001b[39m\u001b[31mexcept:\u001b[39m\n    ^\n\u001b[31mSyntaxError\u001b[39m\u001b[31m:\u001b[39m default 'except:' must be last\n"
     ]
    }
   ],
   "source": [
    "try:\n",
    "    print(5/0)\n",
    "except:\n",
    "    print(\"Sorry, something went wrong...\")\n",
    "except (ValueError, ZeroDivisionError):\n",
    "    print(\"Too bad...\")\n",
    "    \n",
    "# SyntaxError: 'break' outside loop"
   ]
  },
  {
   "attachments": {},
   "cell_type": "markdown",
   "id": "1574aec9",
   "metadata": {},
   "source": [
    "****"
   ]
  },
  {
   "attachments": {},
   "cell_type": "markdown",
   "id": "2c8c34dc",
   "metadata": {},
   "source": [
    "# Ejemplo con while\n",
    "\n",
    "**EJERCICIO MUY PROTOTIPO EN PCEP**"
   ]
  },
  {
   "attachments": {},
   "cell_type": "markdown",
   "id": "e085e4a5",
   "metadata": {},
   "source": [
    "## While: ejemplo 1"
   ]
  },
  {
   "cell_type": "code",
   "execution_count": 32,
   "id": "8db5566e",
   "metadata": {},
   "outputs": [
    {
     "name": "stdout",
     "output_type": "stream",
     "text": [
      "antes 0\n",
      "despues 2\n",
      "*\n",
      "antes 2\n",
      "despues 4\n",
      "*\n"
     ]
    }
   ],
   "source": [
    "i = 0\n",
    "while i <= 3:    # ------------------>  0-1-2-3 (posibilidades)\n",
    "    print(\"antes\", i)\n",
    "    i += 2       # i = i + 2  ------->  0-2     (4 ya no valdría)\n",
    "    print(\"despues\", i)\n",
    "    print('*')   # ejecuta 2 veces -->  **"
   ]
  },
  {
   "attachments": {},
   "cell_type": "markdown",
   "id": "39637edd",
   "metadata": {},
   "source": [
    "## while: ejemplo 2: \n",
    "\n",
    "EL MISMO CÓDIGO PERO: print('*') YA NO SE ENCUENTRA INDENTADO.\n",
    "\n",
    "ESTÁ **FUERA** DEL WHILE (DESPUÉS DEL WHILE)"
   ]
  },
  {
   "cell_type": "code",
   "execution_count": 33,
   "id": "a7584bd4",
   "metadata": {},
   "outputs": [
    {
     "name": "stdout",
     "output_type": "stream",
     "text": [
      "YA HA SUMADO 2\n",
      "estamos DENTRO del WHILE\n",
      "en el siguiente valor de i: 2\n",
      "\n",
      "\n",
      "YA HA SUMADO 2\n",
      "estamos DENTRO del WHILE\n",
      "en el siguiente valor de i: 4\n",
      "\n",
      "\n",
      "\n",
      "\n",
      "Termina el bucle while\n",
      "\n",
      "\n",
      "AHORA IMPRIMOS UN SOLO ASTERISCO\n",
      "*\n"
     ]
    }
   ],
   "source": [
    "i = 0\n",
    "while i <= 3:    # ------------------>  0-1-2-3 (posibilidades)\n",
    "    i += 2       # i = i + 2  ------->  0-2     (4 ya no valdría)\n",
    "    print('YA HA SUMADO 2')\n",
    "    print('estamos DENTRO del WHILE')\n",
    "    print('en el siguiente valor de i:', i)\n",
    "    print('\\n')\n",
    "    \n",
    "print('\\n')\n",
    "print('Termina el bucle while')\n",
    "print('\\n')\n",
    "\n",
    "print('AHORA IMPRIMOS UN SOLO ASTERISCO')\n",
    "print('*')  "
   ]
  },
  {
   "attachments": {},
   "cell_type": "markdown",
   "id": "26c79eb7",
   "metadata": {},
   "source": [
    "## while: ejemplo 3\n",
    "\n",
    "suma 1 en vez de 2"
   ]
  },
  {
   "cell_type": "code",
   "execution_count": 34,
   "id": "ebd88a1e",
   "metadata": {},
   "outputs": [
    {
     "name": "stdout",
     "output_type": "stream",
     "text": [
      "*\n",
      "*\n",
      "*\n",
      "*\n"
     ]
    }
   ],
   "source": [
    "i = 0\n",
    "while i <= 3:    # ------------------>  0-1-2-3 (posibilidades)\n",
    "    i += 1       # i = i + 1  ------->    1-2-3-4\n",
    "    print('*')   # ejecuta 2 veces -->    * * * *\n",
    "    \n",
    "    \n",
    "# i = 0 ==> i = 0 + 1 ==> i = 1\n",
    "\n",
    "# ...\n",
    "\n",
    "# 3<=3   ===> si  \n",
    "# 4 <= 3 + 1\n",
    "\n",
    "# 4<=3  ===> NO"
   ]
  },
  {
   "attachments": {},
   "cell_type": "markdown",
   "id": "b86da345",
   "metadata": {},
   "source": [
    "****"
   ]
  },
  {
   "attachments": {},
   "cell_type": "markdown",
   "id": "6f6e5670",
   "metadata": {},
   "source": [
    "# Ejercicio prototipo: cuál es el resultado de.."
   ]
  },
  {
   "attachments": {},
   "cell_type": "markdown",
   "id": "1bbbccd1",
   "metadata": {},
   "source": [
    "## repaso: diferencia entre * y esto: **"
   ]
  },
  {
   "cell_type": "code",
   "execution_count": 35,
   "id": "a72a2c57",
   "metadata": {},
   "outputs": [
    {
     "data": {
      "text/plain": [
       "6"
      ]
     },
     "execution_count": 35,
     "metadata": {},
     "output_type": "execute_result"
    }
   ],
   "source": [
    "2*3   # multiplicación"
   ]
  },
  {
   "cell_type": "code",
   "execution_count": 36,
   "id": "dbe25aff",
   "metadata": {},
   "outputs": [
    {
     "data": {
      "text/plain": [
       "8"
      ]
     },
     "execution_count": 36,
     "metadata": {},
     "output_type": "execute_result"
    }
   ],
   "source": [
    "2**3   # 2 elevado a 3 (2*2*2)"
   ]
  },
  {
   "attachments": {},
   "cell_type": "markdown",
   "id": "2b20f4d9",
   "metadata": {},
   "source": [
    "## ejercico de examen:\n",
    "\n",
    "se puede encontrar en PCEP y en PCAP"
   ]
  },
  {
   "cell_type": "code",
   "execution_count": 37,
   "id": "3ad2f31f",
   "metadata": {},
   "outputs": [
    {
     "data": {
      "text/plain": [
       "512"
      ]
     },
     "execution_count": 37,
     "metadata": {},
     "output_type": "execute_result"
    }
   ],
   "source": [
    "2**3**2 \n",
    "# izquierda a derecha: 2**3 = 8 --> 8**2 = 64     ===> No correcto\n",
    "# derecha a izquierda: 3**2 = 9 --> 2**9 = 512    ===> SI es correcto"
   ]
  },
  {
   "cell_type": "code",
   "execution_count": null,
   "id": "c6ee44d1",
   "metadata": {},
   "outputs": [],
   "source": [
    "# 2**(3**2) ==> 2**9"
   ]
  },
  {
   "cell_type": "code",
   "execution_count": 38,
   "id": "368c416c",
   "metadata": {},
   "outputs": [
    {
     "data": {
      "text/plain": [
       "2"
      ]
     },
     "execution_count": 38,
     "metadata": {},
     "output_type": "execute_result"
    }
   ],
   "source": [
    "2**1\n",
    "\n",
    "# 2==>4==>8==>16==>32==>64==>128==>256==>512"
   ]
  },
  {
   "cell_type": "code",
   "execution_count": 39,
   "id": "f506fb80",
   "metadata": {},
   "outputs": [
    {
     "data": {
      "text/plain": [
       "512"
      ]
     },
     "execution_count": 39,
     "metadata": {},
     "output_type": "execute_result"
    }
   ],
   "source": [
    "2**9"
   ]
  },
  {
   "attachments": {},
   "cell_type": "markdown",
   "id": "8f07c94b",
   "metadata": {},
   "source": [
    "****"
   ]
  },
  {
   "attachments": {},
   "cell_type": "markdown",
   "id": "1cfda706",
   "metadata": {},
   "source": [
    "# Ejercicio con funciones y bucle while"
   ]
  },
  {
   "attachments": {},
   "cell_type": "markdown",
   "id": "1401854b",
   "metadata": {},
   "source": [
    "## funciones y while: ejemplo 1"
   ]
  },
  {
   "cell_type": "code",
   "execution_count": null,
   "id": "482c10d9",
   "metadata": {},
   "outputs": [],
   "source": [
    "\"\"\"\n",
    "def func(text, num):\n",
    "    while num > 0:\n",
    "        print(text)\n",
    "    num = num - 1\n",
    "\n",
    "func('Hello', 3)\n",
    "\"\"\"\n",
    "\n",
    "\n",
    "# bucle infinito"
   ]
  },
  {
   "attachments": {},
   "cell_type": "markdown",
   "id": "a28a9539",
   "metadata": {},
   "source": [
    "## funciones y while: ejemplo 2"
   ]
  },
  {
   "cell_type": "code",
   "execution_count": 40,
   "id": "f3cbdb36",
   "metadata": {},
   "outputs": [
    {
     "name": "stdout",
     "output_type": "stream",
     "text": [
      "Hello\n",
      "Hello\n",
      "Hello\n"
     ]
    }
   ],
   "source": [
    "# Aqui si sería 3 Hello la solución\n",
    "\n",
    "def func(text, num):\n",
    "    while num > 0:\n",
    "        print(text)\n",
    "        num = num - 1\n",
    "    \n",
    "func('Hello', 3)"
   ]
  },
  {
   "attachments": {},
   "cell_type": "markdown",
   "id": "7011344e",
   "metadata": {},
   "source": [
    "****"
   ]
  },
  {
   "attachments": {},
   "cell_type": "markdown",
   "id": "ae94a16d",
   "metadata": {},
   "source": [
    "# Ejercicio con and, or, not y condicionales"
   ]
  },
  {
   "attachments": {},
   "cell_type": "markdown",
   "id": "4e260067",
   "metadata": {},
   "source": [
    "## Algunos links con info"
   ]
  },
  {
   "attachments": {},
   "cell_type": "markdown",
   "id": "54b52c1c",
   "metadata": {},
   "source": [
    "https://realpython.com/lessons/operator-precedence/#:~:text=For%20Boolean%20operations%2C%20all%20and,the%20or%20operations%20are%20performed.\n",
    "    \n",
    "https://stackoverflow.com/questions/12494568/boolean-operators-precedence\n",
    "        \n",
    "https://www.programiz.com/python-programming/precedence-associativity\n",
    "            \n",
    "https://www.scaler.com/topics/operator-precedence-in-python/\n",
    "                \n",
    "https://stackoverflow.com/questions/16679272/priority-of-the-logical-operators-order-of-operations-for-not-and-or-in-pyth\n",
    "\n",
    "https://blog.finxter.com/how-does-and-precedence-work-in-a-python-boolean-expression/"
   ]
  },
  {
   "attachments": {},
   "cell_type": "markdown",
   "id": "4799bff0",
   "metadata": {},
   "source": [
    "## Ejercicios iniciales"
   ]
  },
  {
   "cell_type": "code",
   "execution_count": 41,
   "id": "afdfa11e",
   "metadata": {},
   "outputs": [
    {
     "data": {
      "text/plain": [
       "True"
      ]
     },
     "execution_count": 41,
     "metadata": {},
     "output_type": "execute_result"
    }
   ],
   "source": [
    "x = True\n",
    "x"
   ]
  },
  {
   "cell_type": "code",
   "execution_count": 42,
   "id": "edbc1a7a",
   "metadata": {},
   "outputs": [
    {
     "data": {
      "text/plain": [
       "False"
      ]
     },
     "execution_count": 42,
     "metadata": {},
     "output_type": "execute_result"
    }
   ],
   "source": [
    "not x"
   ]
  },
  {
   "cell_type": "code",
   "execution_count": 43,
   "id": "1873429e",
   "metadata": {},
   "outputs": [
    {
     "data": {
      "text/plain": [
       "False"
      ]
     },
     "execution_count": 43,
     "metadata": {},
     "output_type": "execute_result"
    }
   ],
   "source": [
    "True and False"
   ]
  },
  {
   "cell_type": "code",
   "execution_count": 44,
   "id": "de5127d9",
   "metadata": {},
   "outputs": [
    {
     "data": {
      "text/plain": [
       "True"
      ]
     },
     "execution_count": 44,
     "metadata": {},
     "output_type": "execute_result"
    }
   ],
   "source": [
    "True and True"
   ]
  },
  {
   "cell_type": "code",
   "execution_count": 45,
   "id": "3379c99c",
   "metadata": {},
   "outputs": [
    {
     "data": {
      "text/plain": [
       "True"
      ]
     },
     "execution_count": 45,
     "metadata": {},
     "output_type": "execute_result"
    }
   ],
   "source": [
    "True or True"
   ]
  },
  {
   "cell_type": "code",
   "execution_count": 46,
   "id": "4d0b1ca6",
   "metadata": {},
   "outputs": [
    {
     "data": {
      "text/plain": [
       "True"
      ]
     },
     "execution_count": 46,
     "metadata": {},
     "output_type": "execute_result"
    }
   ],
   "source": [
    "True or False"
   ]
  },
  {
   "cell_type": "code",
   "execution_count": 47,
   "id": "da518838",
   "metadata": {},
   "outputs": [
    {
     "data": {
      "text/plain": [
       "False"
      ]
     },
     "execution_count": 47,
     "metadata": {},
     "output_type": "execute_result"
    }
   ],
   "source": [
    "False or False"
   ]
  },
  {
   "cell_type": "code",
   "execution_count": 48,
   "id": "b15b81b4",
   "metadata": {},
   "outputs": [
    {
     "data": {
      "text/plain": [
       "True"
      ]
     },
     "execution_count": 48,
     "metadata": {},
     "output_type": "execute_result"
    }
   ],
   "source": [
    "True or False or False"
   ]
  },
  {
   "cell_type": "code",
   "execution_count": null,
   "id": "8c3944b5",
   "metadata": {},
   "outputs": [],
   "source": [
    "# ejercicios con varios and y or"
   ]
  },
  {
   "attachments": {},
   "cell_type": "markdown",
   "id": "8a828379",
   "metadata": {},
   "source": [
    "condición1 and condición2 or condición3 and condición4\n",
    "\n",
    "(condición1 and condición2) or (condición3 and condición4)\n",
    "\n",
    "resultado12                 or       resultado34"
   ]
  },
  {
   "cell_type": "code",
   "execution_count": 49,
   "id": "3b8c48c0",
   "metadata": {},
   "outputs": [
    {
     "data": {
      "text/plain": [
       "True"
      ]
     },
     "execution_count": 49,
     "metadata": {},
     "output_type": "execute_result"
    }
   ],
   "source": [
    "True and False or True and True   # F or T  ===> T"
   ]
  },
  {
   "cell_type": "code",
   "execution_count": 50,
   "id": "f5d2b613",
   "metadata": {},
   "outputs": [
    {
     "data": {
      "text/plain": [
       "True"
      ]
     },
     "execution_count": 50,
     "metadata": {},
     "output_type": "execute_result"
    }
   ],
   "source": [
    "False and False or True and True  # F or T ===> T"
   ]
  },
  {
   "cell_type": "code",
   "execution_count": 51,
   "id": "fdba7f4d",
   "metadata": {},
   "outputs": [
    {
     "data": {
      "text/plain": [
       "False"
      ]
     },
     "execution_count": 51,
     "metadata": {},
     "output_type": "execute_result"
    }
   ],
   "source": [
    "True and False or False and True  # F or F ===> F"
   ]
  },
  {
   "attachments": {},
   "cell_type": "markdown",
   "id": "67458d50",
   "metadata": {},
   "source": [
    "## Ejercicio 1: ejercicio de examen"
   ]
  },
  {
   "cell_type": "code",
   "execution_count": 52,
   "id": "3ee703ba",
   "metadata": {},
   "outputs": [
    {
     "name": "stdout",
     "output_type": "stream",
     "text": [
      "3\n"
     ]
    }
   ],
   "source": [
    "x = True\n",
    "y = False\n",
    "z = False\n",
    " \n",
    "if not x or y:    # False or False        =====> FALSE\n",
    "    print(1)\n",
    "elif not x or not y and z: # False or (True and False)   ====>  FALSE\n",
    "    print(2)\n",
    "elif not x or y or not y and x: # False or False or (True and True)  ====> TRUE\n",
    "    print(3) # esto imprime\n",
    "else:\n",
    "    print(4)"
   ]
  },
  {
   "attachments": {},
   "cell_type": "markdown",
   "id": "917e75c0",
   "metadata": {},
   "source": [
    "## Ejercicio 2"
   ]
  },
  {
   "cell_type": "code",
   "execution_count": 53,
   "id": "47ae4e63",
   "metadata": {},
   "outputs": [
    {
     "name": "stdout",
     "output_type": "stream",
     "text": [
      "2\n"
     ]
    }
   ],
   "source": [
    "x = True\n",
    "y = False\n",
    "z = False\n",
    " \n",
    "if not x or y:    # False or False  ===> FALSE\n",
    "    print(1)\n",
    "elif x and not y or z: # (True and True) or False  ====> TRUE\n",
    "    print(2) # esto imprime\n",
    "elif not x or y or not y and x: # False or False or (True and True)  ===> TRUE\n",
    "    print(3)\n",
    "else:\n",
    "    print(4)"
   ]
  },
  {
   "attachments": {},
   "cell_type": "markdown",
   "id": "f213e6b2",
   "metadata": {},
   "source": [
    "## Ejercicio 3"
   ]
  },
  {
   "cell_type": "code",
   "execution_count": 54,
   "id": "be4c8795",
   "metadata": {},
   "outputs": [
    {
     "name": "stdout",
     "output_type": "stream",
     "text": [
      "2\n"
     ]
    }
   ],
   "source": [
    "x = True\n",
    "y = False\n",
    "z = False\n",
    " \n",
    "if not x or y:    # False or False\n",
    "    print(1)\n",
    "elif x and y or not z: # (True and False) or True\n",
    "    print(2) # esto imprime\n",
    "elif not x or y or not y and x: # False or False or (True and True)\n",
    "    print(3)\n",
    "else:\n",
    "    print(4)"
   ]
  },
  {
   "attachments": {},
   "cell_type": "markdown",
   "id": "110eee5e",
   "metadata": {},
   "source": [
    "## Ejercicio 4"
   ]
  },
  {
   "cell_type": "code",
   "execution_count": 55,
   "id": "d795260b",
   "metadata": {},
   "outputs": [
    {
     "name": "stdout",
     "output_type": "stream",
     "text": [
      "3\n"
     ]
    }
   ],
   "source": [
    "x = True\n",
    "y = False\n",
    "z = False\n",
    " \n",
    "if not x or y:    # False or False      ===> FALSE\n",
    "    print(1)\n",
    "elif x and y or z: # (True and False) or False    ====> FALSE\n",
    "    print(2)\n",
    "elif x and not y or not y and x: # (True and True) or (True and True)\n",
    "    print(3) # esto imprime\n",
    "else:\n",
    "    print(4)"
   ]
  },
  {
   "attachments": {},
   "cell_type": "markdown",
   "id": "31ccb24a",
   "metadata": {},
   "source": [
    "## Ejercicio 5"
   ]
  },
  {
   "cell_type": "code",
   "execution_count": 56,
   "id": "c9c5b89b",
   "metadata": {},
   "outputs": [
    {
     "name": "stdout",
     "output_type": "stream",
     "text": [
      "4\n"
     ]
    }
   ],
   "source": [
    "x = True\n",
    "y = False\n",
    "z = False\n",
    " \n",
    "if not x or y:    # False or False      ===> FALSE\n",
    "    print(1)\n",
    "elif x and y or z: # (True and False) or False    ====> FALSE\n",
    "    print(2)\n",
    "elif x and y or y and x: # (True and False) or (False and True)\n",
    "    print(3)\n",
    "else:\n",
    "    print(4) # esto imprime"
   ]
  },
  {
   "attachments": {},
   "cell_type": "markdown",
   "id": "3c7c5f0f",
   "metadata": {},
   "source": [
    "# Operaciones básicas"
   ]
  },
  {
   "attachments": {},
   "cell_type": "markdown",
   "id": "fc2cd06a",
   "metadata": {},
   "source": [
    "## repaso inicial de la división"
   ]
  },
  {
   "cell_type": "code",
   "execution_count": 59,
   "id": "2b8553bd",
   "metadata": {},
   "outputs": [
    {
     "data": {
      "text/plain": [
       "1.5"
      ]
     },
     "execution_count": 59,
     "metadata": {},
     "output_type": "execute_result"
    }
   ],
   "source": [
    "3/2  # división con decimales (EL RESULTADO SIEMPRE ES DECIMAL)"
   ]
  },
  {
   "cell_type": "code",
   "execution_count": 60,
   "id": "19af8de7",
   "metadata": {},
   "outputs": [
    {
     "data": {
      "text/plain": [
       "1"
      ]
     },
     "execution_count": 60,
     "metadata": {},
     "output_type": "execute_result"
    }
   ],
   "source": [
    "3 // 2  # cociente entero ( EL RESULTADO SIEMPRE ES ENTERO)"
   ]
  },
  {
   "cell_type": "code",
   "execution_count": 61,
   "id": "d7dcc1e7",
   "metadata": {},
   "outputs": [
    {
     "data": {
      "text/plain": [
       "1"
      ]
     },
     "execution_count": 61,
     "metadata": {},
     "output_type": "execute_result"
    }
   ],
   "source": [
    "3 % 2   # resto de la división"
   ]
  },
  {
   "cell_type": "code",
   "execution_count": 62,
   "id": "03a20b44",
   "metadata": {},
   "outputs": [
    {
     "data": {
      "text/plain": [
       "3.3333333333333335"
      ]
     },
     "execution_count": 62,
     "metadata": {},
     "output_type": "execute_result"
    }
   ],
   "source": [
    "10/3"
   ]
  },
  {
   "cell_type": "code",
   "execution_count": 63,
   "id": "38c1b6ce",
   "metadata": {},
   "outputs": [
    {
     "data": {
      "text/plain": [
       "3"
      ]
     },
     "execution_count": 63,
     "metadata": {},
     "output_type": "execute_result"
    }
   ],
   "source": [
    "10//3"
   ]
  },
  {
   "cell_type": "code",
   "execution_count": 64,
   "id": "5f11c1ab",
   "metadata": {},
   "outputs": [
    {
     "data": {
      "text/plain": [
       "1"
      ]
     },
     "execution_count": 64,
     "metadata": {},
     "output_type": "execute_result"
    }
   ],
   "source": [
    "10%3"
   ]
  },
  {
   "cell_type": "code",
   "execution_count": 65,
   "id": "aa4e7b3c",
   "metadata": {},
   "outputs": [
    {
     "data": {
      "text/plain": [
       "5.0"
      ]
     },
     "execution_count": 65,
     "metadata": {},
     "output_type": "execute_result"
    }
   ],
   "source": [
    "10/2   # ojo, el resultado es decimal, porque SIEMPRE es decimal"
   ]
  },
  {
   "cell_type": "code",
   "execution_count": 66,
   "id": "a35a9d55",
   "metadata": {},
   "outputs": [
    {
     "data": {
      "text/plain": [
       "16"
      ]
     },
     "execution_count": 66,
     "metadata": {},
     "output_type": "execute_result"
    }
   ],
   "source": [
    "4**2  # 4 ELEVADO AL CUADRADO"
   ]
  },
  {
   "cell_type": "code",
   "execution_count": 67,
   "id": "7dba2f1d",
   "metadata": {},
   "outputs": [
    {
     "data": {
      "text/plain": [
       "16.81"
      ]
     },
     "execution_count": 67,
     "metadata": {},
     "output_type": "execute_result"
    }
   ],
   "source": [
    "4.1 ** 2"
   ]
  },
  {
   "attachments": {},
   "cell_type": "markdown",
   "id": "87df3007",
   "metadata": {},
   "source": [
    "## ejercicio de examen resuelto paso a paso"
   ]
  },
  {
   "cell_type": "code",
   "execution_count": 68,
   "id": "1b1f67ab",
   "metadata": {},
   "outputs": [
    {
     "name": "stdout",
     "output_type": "stream",
     "text": [
      "17.5\n"
     ]
    }
   ],
   "source": [
    "x = 1 / 2 + 3 // 3 + 4 ** 2\n",
    "\n",
    "#    0.5  +   1     +  16     # 17.5\n",
    "print(x)"
   ]
  },
  {
   "attachments": {},
   "cell_type": "markdown",
   "id": "f3a14095",
   "metadata": {},
   "source": [
    "## ejemplo similar y de examen también (prototipo)"
   ]
  },
  {
   "cell_type": "code",
   "execution_count": 69,
   "id": "ea2a42e7",
   "metadata": {},
   "outputs": [
    {
     "name": "stdout",
     "output_type": "stream",
     "text": [
      "18.0\n"
     ]
    }
   ],
   "source": [
    "y = 2 / 2 + 3 // 3 + 4 ** 2\n",
    "print(y)\n",
    "\n",
    "# en el anterior fragmento de código el resultado es..\n",
    "# A. 18\n",
    "# B. 18.0\n",
    "# C. 17\n",
    "# D. ninguna de las anteriores"
   ]
  },
  {
   "cell_type": "code",
   "execution_count": 70,
   "id": "157b90ac",
   "metadata": {},
   "outputs": [
    {
     "data": {
      "text/plain": [
       "18.0"
      ]
     },
     "execution_count": 70,
     "metadata": {},
     "output_type": "execute_result"
    }
   ],
   "source": [
    "# el ejercicio paso a paso\n",
    "y = 2 / 2 + 3 // 3 + 4 ** 2\n",
    "y\n",
    "#  y = (2 / 2) + (3 // 3) + (4 ** 2)\n",
    "#  y =   1.0   +    1     +    16\n",
    "#  y =   18.0\n",
    "\n",
    "# CUANDO 1 DE ELLOS ES DECIMAL, EN UNA OPERACIÓN (+ EN ESTE CASO)\n",
    "# CONVIERTE EN DECIMAL A TODO EL RESULTADO"
   ]
  },
  {
   "attachments": {},
   "cell_type": "markdown",
   "id": "92266975",
   "metadata": {},
   "source": [
    "## OTROS EJEMPLOS.."
   ]
  },
  {
   "cell_type": "code",
   "execution_count": 71,
   "id": "2fa8280e",
   "metadata": {},
   "outputs": [
    {
     "data": {
      "text/plain": [
       "(0.5, 1.5, 1, 16, 0)"
      ]
     },
     "execution_count": 71,
     "metadata": {},
     "output_type": "execute_result"
    }
   ],
   "source": [
    "1/2, 3/2, 3//3, 4**2, 1//2"
   ]
  },
  {
   "cell_type": "code",
   "execution_count": 72,
   "id": "05c39024",
   "metadata": {},
   "outputs": [
    {
     "name": "stdout",
     "output_type": "stream",
     "text": [
      "división: 1.6666666666666667 , cociente:  1 , resto: 2\n"
     ]
    }
   ],
   "source": [
    "print('división:', 5/3, ', cociente: ', 5//3, ', resto:', 5%3)"
   ]
  },
  {
   "cell_type": "code",
   "execution_count": 73,
   "id": "8c40e34c",
   "metadata": {},
   "outputs": [
    {
     "data": {
      "text/plain": [
       "17.5"
      ]
     },
     "execution_count": 73,
     "metadata": {},
     "output_type": "execute_result"
    }
   ],
   "source": [
    "# paso a paso\n",
    "\n",
    "x = 1 / 2 + 3 // 3 + 4 ** 2\n",
    "x\n",
    "# x = (1 / 2) + (3 // 3) + (4 ** 2)\n",
    "# x =  0.5   +    1     +    16    = 17.5"
   ]
  },
  {
   "attachments": {},
   "cell_type": "markdown",
   "id": "bdcf8588",
   "metadata": {},
   "source": [
    "****"
   ]
  },
  {
   "attachments": {},
   "cell_type": "markdown",
   "id": "c490487a",
   "metadata": {},
   "source": [
    "# Asignación múltiple de variables"
   ]
  },
  {
   "cell_type": "code",
   "execution_count": null,
   "id": "db8209ba",
   "metadata": {},
   "outputs": [],
   "source": [
    "## ejemplo inicial"
   ]
  },
  {
   "cell_type": "code",
   "execution_count": 74,
   "id": "640d924f",
   "metadata": {},
   "outputs": [
    {
     "name": "stdout",
     "output_type": "stream",
     "text": [
      "10\n",
      "20\n"
     ]
    }
   ],
   "source": [
    "x = 10\n",
    "y = 20\n",
    "print(x)\n",
    "print(y)"
   ]
  },
  {
   "cell_type": "code",
   "execution_count": 75,
   "id": "1c602f60",
   "metadata": {},
   "outputs": [
    {
     "name": "stdout",
     "output_type": "stream",
     "text": [
      "15\n",
      "25\n"
     ]
    }
   ],
   "source": [
    "x,y = 15,25\n",
    "print(x)\n",
    "print(y)"
   ]
  },
  {
   "cell_type": "code",
   "execution_count": 76,
   "id": "59b69970",
   "metadata": {},
   "outputs": [
    {
     "name": "stdout",
     "output_type": "stream",
     "text": [
      "0\n",
      "15\n",
      "25\n",
      "-4\n",
      "100\n"
     ]
    }
   ],
   "source": [
    "x, y, z, t, w  = 0, 15, 25, -4, 100\n",
    "print(x)\n",
    "print(y)\n",
    "print(z)\n",
    "print(t)\n",
    "print(w)"
   ]
  },
  {
   "attachments": {},
   "cell_type": "markdown",
   "id": "809a88e2",
   "metadata": {},
   "source": [
    "## ejercicio de examen"
   ]
  },
  {
   "cell_type": "code",
   "execution_count": 77,
   "id": "f6566b39",
   "metadata": {},
   "outputs": [
    {
     "data": {
      "text/plain": [
       "(10, -20)"
      ]
     },
     "execution_count": 77,
     "metadata": {},
     "output_type": "execute_result"
    }
   ],
   "source": [
    "t,u = 10,-20\n",
    "t,u"
   ]
  },
  {
   "cell_type": "code",
   "execution_count": 78,
   "id": "c1b55cea",
   "metadata": {},
   "outputs": [
    {
     "name": "stdout",
     "output_type": "stream",
     "text": [
      "1 1 2\n"
     ]
    }
   ],
   "source": [
    "# cuál es el resultado? \n",
    "# A) 1 1 1\n",
    "# B) 1 1 2\n",
    "# C) Ninguna de las anteriores\n",
    "# D) El código es erróneo\n",
    "\n",
    "x = 1\n",
    "y = 2\n",
    "\n",
    "x, y, z = x, x, y \n",
    "# x,y,z = 1, 1, 2\n",
    "# esto lo que realmente quiere decir es que..\n",
    "# x = 1 ====================================================> x = 1\n",
    "# y = 1\n",
    "# z = 2\n",
    "# es decir se lo hemos asignado en una sola línea\n",
    "\n",
    "z, y, z = x, y, z   \n",
    "# z,y,z = 1, 1, 2\n",
    "# de igual manera que justo arriba, esto significa que..\n",
    "# z = 1\n",
    "# y = 1 ====================================================> y = 1\n",
    "# z = 2 ====================================================> z = 2\n",
    "\n",
    "print(x, y, z)     # 1 1 2 "
   ]
  },
  {
   "attachments": {},
   "cell_type": "markdown",
   "id": "5efa7e40",
   "metadata": {},
   "source": [
    "****"
   ]
  },
  {
   "attachments": {},
   "cell_type": "markdown",
   "id": "86facd56",
   "metadata": {},
   "source": [
    "# argumentos en diferentes posiciones"
   ]
  },
  {
   "cell_type": "code",
   "execution_count": 79,
   "id": "28e7f5ed",
   "metadata": {},
   "outputs": [
    {
     "name": "stdout",
     "output_type": "stream",
     "text": [
      "9\n"
     ]
    }
   ],
   "source": [
    "def fun(x, y, z):                 \n",
    "    # x = 0, y = 3, z = 1\n",
    "    return x + 2 * y + 3 * z  \n",
    "       #   0 + (2 * 3) + (3 * 1)\n",
    "       #   0 +  6      +    3\n",
    "       # 9\n",
    "    \n",
    "print(fun(0, z=1, y=3))   # ==> 9\n",
    "\n",
    "# duda? es 9 o no funciona ==> La conclusión es que sí que funciona\n",
    "\n",
    "# CONCEPTO:\n",
    "# PODEMOS (AUNQUE NO DEBEMOS) modificar el orden de las variables en la llamada\n",
    "# con respecto a la definición de la propia función\n",
    "# (para ello, habría que indicar qué variable tiene qué valor)"
   ]
  },
  {
   "cell_type": "code",
   "execution_count": 80,
   "id": "85f49b3f",
   "metadata": {},
   "outputs": [
    {
     "name": "stdout",
     "output_type": "stream",
     "text": [
      "DENTRO DE LA FUNCIÓN: x, y, z, son:  0 3 1\n",
      "9\n"
     ]
    }
   ],
   "source": [
    "def fun(x, y, z):\n",
    "    print('DENTRO DE LA FUNCIÓN: x, y, z, son: ', x,y,z)  # 0,3,1\n",
    "    # aunque esté en diferentes posiciones lo coge igualmente\n",
    "    return x + 2 * y + 3 * z   # 0 + 2*3 + 3*1 = 0+6+3 = 9\n",
    "\n",
    "    \n",
    "print(fun(0, z=1, y=3))"
   ]
  },
  {
   "attachments": {},
   "cell_type": "markdown",
   "id": "ff5a777e",
   "metadata": {},
   "source": [
    "# print y los separadores"
   ]
  },
  {
   "cell_type": "code",
   "execution_count": 81,
   "id": "a619d218",
   "metadata": {},
   "outputs": [
    {
     "name": "stdout",
     "output_type": "stream",
     "text": [
      "1 1 1\n"
     ]
    }
   ],
   "source": [
    "z = y = x = 1\n",
    "print(x, y, z)"
   ]
  },
  {
   "attachments": {},
   "cell_type": "markdown",
   "id": "3006c03b",
   "metadata": {},
   "source": [
    "## ejemplo 1"
   ]
  },
  {
   "cell_type": "code",
   "execution_count": 89,
   "id": "8128151d",
   "metadata": {},
   "outputs": [
    {
     "name": "stdout",
     "output_type": "stream",
     "text": [
      "111\n"
     ]
    }
   ],
   "source": [
    "# ¿ cuál es el resultado del siguiente fragmento de código?\n",
    "# A) 1 1 1\n",
    "# B) 111\n",
    "# C) ninguna de las anteriores\n",
    "# D) el código es erróneo\n",
    "\n",
    "z = y = x = 1\n",
    "print(x, y, z, sep='')"
   ]
  },
  {
   "attachments": {},
   "cell_type": "markdown",
   "id": "77269ef0",
   "metadata": {},
   "source": [
    "## ejemplo 2"
   ]
  },
  {
   "cell_type": "code",
   "execution_count": 90,
   "id": "4f3755e7",
   "metadata": {},
   "outputs": [
    {
     "name": "stdout",
     "output_type": "stream",
     "text": [
      "1 1 1\n"
     ]
    }
   ],
   "source": [
    "z = y = x = 1\n",
    "print(x, y, z, sep=' ')"
   ]
  },
  {
   "attachments": {},
   "cell_type": "markdown",
   "id": "1c2f317e",
   "metadata": {},
   "source": [
    "## ejemplo 3"
   ]
  },
  {
   "cell_type": "code",
   "execution_count": 91,
   "id": "4370bbd7",
   "metadata": {},
   "outputs": [
    {
     "name": "stdout",
     "output_type": "stream",
     "text": [
      "x: 1\n",
      "y: 1\n",
      "z: 1\n",
      "\n",
      "\n",
      "1*1*1\n"
     ]
    }
   ],
   "source": [
    "# cuál es la salida aqui?\n",
    "# A) 1*1*1\n",
    "# B) *1*1*1*\n",
    "# C) ninguna de las anteriores\n",
    "# D) el código es erróneo\n",
    "\n",
    "z = y = x = 1\n",
    "print('x:', x)\n",
    "print('y:', y)\n",
    "print('z:', z)\n",
    "print(\"\\n\")\n",
    "print(x, y, z, sep='*')"
   ]
  },
  {
   "attachments": {},
   "cell_type": "markdown",
   "id": "99aa34da",
   "metadata": {},
   "source": [
    "****"
   ]
  },
  {
   "attachments": {},
   "cell_type": "markdown",
   "id": "08053e8c",
   "metadata": {},
   "source": [
    "# pop en una lista"
   ]
  },
  {
   "cell_type": "code",
   "execution_count": 92,
   "id": "7eae2bfa",
   "metadata": {},
   "outputs": [
    {
     "name": "stdout",
     "output_type": "stream",
     "text": [
      "[3, 4, 20, 5, 25, 1, 3]\n"
     ]
    }
   ],
   "source": [
    "nums = [3, 4, 5, 20, 5, 25, 1, 3]\n",
    "nums.pop(2)                        # borra el elemento en una posición concreta\n",
    "print(nums)\n",
    "\n",
    "# [3, 4, 5, 20, 5, 25, 1, 3]\n",
    "# [3, 4,  , 20, 5, 25, 1, 3]"
   ]
  },
  {
   "attachments": {},
   "cell_type": "markdown",
   "id": "a45d0508",
   "metadata": {},
   "source": [
    "****"
   ]
  },
  {
   "attachments": {},
   "cell_type": "markdown",
   "id": "ea5bb633",
   "metadata": {},
   "source": [
    "# División en Python"
   ]
  },
  {
   "cell_type": "code",
   "execution_count": 93,
   "id": "256ec1f4",
   "metadata": {},
   "outputs": [
    {
     "name": "stdout",
     "output_type": "stream",
     "text": [
      "división: 1.6666666666666667\n",
      "cociente: 1\n",
      "resto: 2\n"
     ]
    }
   ],
   "source": [
    "x = 5\n",
    "y = 3\n",
    "\n",
    "print('división:', x / y)   # 5/3     = 1.66\n",
    "print('cociente:', x // y)  # 3 * (1) = 3\n",
    "print('resto:',    x % y)   # 3 + (2) = 5"
   ]
  },
  {
   "cell_type": "code",
   "execution_count": 94,
   "id": "a3ef06f6",
   "metadata": {},
   "outputs": [
    {
     "data": {
      "text/plain": [
       "(float, int, int)"
      ]
     },
     "execution_count": 94,
     "metadata": {},
     "output_type": "execute_result"
    }
   ],
   "source": [
    "type(x / y), type(x // y), type(x % y)"
   ]
  },
  {
   "cell_type": "code",
   "execution_count": 95,
   "id": "c93b6960",
   "metadata": {},
   "outputs": [
    {
     "data": {
      "text/plain": [
       "(float, 3.0)"
      ]
     },
     "execution_count": 95,
     "metadata": {},
     "output_type": "execute_result"
    }
   ],
   "source": [
    "type(6 / 2), 6 / 2"
   ]
  },
  {
   "attachments": {},
   "cell_type": "markdown",
   "id": "7bc9c4ae",
   "metadata": {},
   "source": [
    "****"
   ]
  },
  {
   "attachments": {},
   "cell_type": "markdown",
   "id": "47e67c58",
   "metadata": {},
   "source": [
    "# Ejemplo con diccionarios"
   ]
  },
  {
   "attachments": {},
   "cell_type": "markdown",
   "id": "b3dc6cf8",
   "metadata": {},
   "source": [
    "## diciconarios: repaso previo"
   ]
  },
  {
   "cell_type": "code",
   "execution_count": 96,
   "id": "4dea5732",
   "metadata": {},
   "outputs": [
    {
     "data": {
      "text/plain": [
       "0"
      ]
     },
     "execution_count": 96,
     "metadata": {},
     "output_type": "execute_result"
    }
   ],
   "source": [
    "L = []\n",
    "len(L)"
   ]
  },
  {
   "cell_type": "code",
   "execution_count": 97,
   "id": "acecd08f",
   "metadata": {},
   "outputs": [
    {
     "name": "stdout",
     "output_type": "stream",
     "text": [
      "dct: {}\n",
      "len(dct): 0\n"
     ]
    }
   ],
   "source": [
    "dct = {}\n",
    "print('dct:', dct)\n",
    "print('len(dct):', len(dct))"
   ]
  },
  {
   "cell_type": "code",
   "execution_count": 98,
   "id": "d23e4165",
   "metadata": {},
   "outputs": [
    {
     "data": {
      "text/plain": [
       "{'clave1': [10, 20, 30], 'clave2': [15, 25, 35]}"
      ]
     },
     "execution_count": 98,
     "metadata": {},
     "output_type": "execute_result"
    }
   ],
   "source": [
    "# {'key1': value1, 'key2': value2}\n",
    "\n",
    "diccionario1 = {'clave1': [10,20,30], 'clave2': [15,25,35]}\n",
    "diccionario1"
   ]
  },
  {
   "cell_type": "code",
   "execution_count": 99,
   "id": "eed800bc",
   "metadata": {},
   "outputs": [
    {
     "data": {
      "text/html": [
       "<div>\n",
       "<style scoped>\n",
       "    .dataframe tbody tr th:only-of-type {\n",
       "        vertical-align: middle;\n",
       "    }\n",
       "\n",
       "    .dataframe tbody tr th {\n",
       "        vertical-align: top;\n",
       "    }\n",
       "\n",
       "    .dataframe thead th {\n",
       "        text-align: right;\n",
       "    }\n",
       "</style>\n",
       "<table border=\"1\" class=\"dataframe\">\n",
       "  <thead>\n",
       "    <tr style=\"text-align: right;\">\n",
       "      <th></th>\n",
       "      <th>clave1</th>\n",
       "      <th>clave2</th>\n",
       "    </tr>\n",
       "  </thead>\n",
       "  <tbody>\n",
       "    <tr>\n",
       "      <th>0</th>\n",
       "      <td>10</td>\n",
       "      <td>15</td>\n",
       "    </tr>\n",
       "    <tr>\n",
       "      <th>1</th>\n",
       "      <td>20</td>\n",
       "      <td>25</td>\n",
       "    </tr>\n",
       "    <tr>\n",
       "      <th>2</th>\n",
       "      <td>30</td>\n",
       "      <td>35</td>\n",
       "    </tr>\n",
       "  </tbody>\n",
       "</table>\n",
       "</div>"
      ],
      "text/plain": [
       "   clave1  clave2\n",
       "0      10      15\n",
       "1      20      25\n",
       "2      30      35"
      ]
     },
     "execution_count": 99,
     "metadata": {},
     "output_type": "execute_result"
    }
   ],
   "source": [
    "import pandas as pd\n",
    "\n",
    "df = pd.DataFrame({'clave1': (10,20,30), 'clave2': (15,25,35)})\n",
    "df"
   ]
  },
  {
   "cell_type": "code",
   "execution_count": 100,
   "id": "f1948750",
   "metadata": {},
   "outputs": [
    {
     "data": {
      "text/plain": [
       "0    10\n",
       "1    20\n",
       "2    30\n",
       "Name: clave1, dtype: int64"
      ]
     },
     "execution_count": 100,
     "metadata": {},
     "output_type": "execute_result"
    }
   ],
   "source": [
    "df['clave1']"
   ]
  },
  {
   "cell_type": "code",
   "execution_count": 101,
   "id": "d34df1c0",
   "metadata": {},
   "outputs": [
    {
     "data": {
      "text/html": [
       "<div>\n",
       "<style scoped>\n",
       "    .dataframe tbody tr th:only-of-type {\n",
       "        vertical-align: middle;\n",
       "    }\n",
       "\n",
       "    .dataframe tbody tr th {\n",
       "        vertical-align: top;\n",
       "    }\n",
       "\n",
       "    .dataframe thead th {\n",
       "        text-align: right;\n",
       "    }\n",
       "</style>\n",
       "<table border=\"1\" class=\"dataframe\">\n",
       "  <thead>\n",
       "    <tr style=\"text-align: right;\">\n",
       "      <th></th>\n",
       "      <th>clave1</th>\n",
       "      <th>clave2</th>\n",
       "      <th>clave3</th>\n",
       "    </tr>\n",
       "  </thead>\n",
       "  <tbody>\n",
       "    <tr>\n",
       "      <th>0</th>\n",
       "      <td>10</td>\n",
       "      <td>15</td>\n",
       "      <td>12</td>\n",
       "    </tr>\n",
       "    <tr>\n",
       "      <th>1</th>\n",
       "      <td>20</td>\n",
       "      <td>25</td>\n",
       "      <td>22</td>\n",
       "    </tr>\n",
       "    <tr>\n",
       "      <th>2</th>\n",
       "      <td>30</td>\n",
       "      <td>35</td>\n",
       "      <td>32</td>\n",
       "    </tr>\n",
       "  </tbody>\n",
       "</table>\n",
       "</div>"
      ],
      "text/plain": [
       "   clave1  clave2  clave3\n",
       "0      10      15      12\n",
       "1      20      25      22\n",
       "2      30      35      32"
      ]
     },
     "execution_count": 101,
     "metadata": {},
     "output_type": "execute_result"
    }
   ],
   "source": [
    "df['clave3'] = [12,22,32]\n",
    "df"
   ]
  },
  {
   "cell_type": "code",
   "execution_count": 102,
   "id": "c67ad331",
   "metadata": {},
   "outputs": [
    {
     "data": {
      "text/plain": [
       "{'clave1': [10, 20, 30], 'clave2': [15, 25, 35]}"
      ]
     },
     "execution_count": 102,
     "metadata": {},
     "output_type": "execute_result"
    }
   ],
   "source": [
    "# vuelvo a imprimir para verlo\n",
    "diccionario1"
   ]
  },
  {
   "cell_type": "code",
   "execution_count": 103,
   "id": "e2df1d80",
   "metadata": {},
   "outputs": [
    {
     "data": {
      "text/plain": [
       "[10, 20, 30]"
      ]
     },
     "execution_count": 103,
     "metadata": {},
     "output_type": "execute_result"
    }
   ],
   "source": [
    "diccionario1['clave1']"
   ]
  },
  {
   "cell_type": "code",
   "execution_count": 104,
   "id": "0d4e27d8",
   "metadata": {},
   "outputs": [
    {
     "data": {
      "text/plain": [
       "[15, 25, 35]"
      ]
     },
     "execution_count": 104,
     "metadata": {},
     "output_type": "execute_result"
    }
   ],
   "source": [
    "diccionario1['clave2']"
   ]
  },
  {
   "cell_type": "code",
   "execution_count": 105,
   "id": "5d3020c1",
   "metadata": {},
   "outputs": [
    {
     "data": {
      "text/plain": [
       "10"
      ]
     },
     "execution_count": 105,
     "metadata": {},
     "output_type": "execute_result"
    }
   ],
   "source": [
    "diccionario1['clave1'][0]"
   ]
  },
  {
   "cell_type": "code",
   "execution_count": 106,
   "id": "2705e31e",
   "metadata": {},
   "outputs": [
    {
     "data": {
      "text/plain": [
       "{'clave1': [1000, 20, 30], 'clave2': [15, 25, 35]}"
      ]
     },
     "execution_count": 106,
     "metadata": {},
     "output_type": "execute_result"
    }
   ],
   "source": [
    "diccionario1['clave1'][0] = 1000\n",
    "diccionario1"
   ]
  },
  {
   "cell_type": "code",
   "execution_count": null,
   "id": "c4dfe876",
   "metadata": {},
   "outputs": [],
   "source": [
    "# otro pequeño ejercicio con explicaciones, previo a los ejemplos"
   ]
  },
  {
   "cell_type": "code",
   "execution_count": 107,
   "id": "c5263ce5",
   "metadata": {},
   "outputs": [
    {
     "data": {
      "text/plain": [
       "{'key1': (1, 2), 'key2': (2, 1)}"
      ]
     },
     "execution_count": 107,
     "metadata": {},
     "output_type": "execute_result"
    }
   ],
   "source": [
    "dct = {}\n",
    "dct['key1'] = (1, 2)\n",
    "dct['key2'] = (2, 1)\n",
    "dct"
   ]
  },
  {
   "attachments": {},
   "cell_type": "markdown",
   "id": "7e9de824",
   "metadata": {},
   "source": [
    "## diccionarios: ejemplo 1"
   ]
  },
  {
   "cell_type": "code",
   "execution_count": 108,
   "id": "7e9642c4",
   "metadata": {},
   "outputs": [
    {
     "name": "stdout",
     "output_type": "stream",
     "text": [
      "el diccionario venía vacío\n",
      "el diccionario ahora tiene elementos, y son: {'clave1': (1, 2), 'clave2': (2, 1)}\n",
      "ahora imprimo: primero valor 1 y valor 2\n",
      "y dentro de cada uno SEÑALO index 0 de esa tupla e index 1\n",
      "dct y clave1 nos dan el valor 1: (1, 2)\n",
      "index 0:  1\n",
      "index 1:  2\n",
      "dct y clave 2 nos dan el valor 2: (2, 1)\n",
      "index 0:  2\n",
      "index 1:  1\n",
      "dict_keys(['clave1', 'clave2'])\n"
     ]
    }
   ],
   "source": [
    "dct = {}\n",
    "print('el diccionario venía vacío')\n",
    "dct['clave1'] = (1, 2)\n",
    "dct['clave2'] = (2, 1)\n",
    "\n",
    "print('el diccionario ahora tiene elementos, y son:', dct)\n",
    "# {'1': (1,2), \n",
    "#  '2': (2,1)}\n",
    "\n",
    "print('ahora imprimo: primero valor 1 y valor 2')\n",
    "print('y dentro de cada uno SEÑALO index 0 de esa tupla e index 1')\n",
    "print('dct y clave1 nos dan el valor 1:', dct['clave1'])\n",
    "print('index 0: ', dct['clave1'][0])\n",
    "print('index 1: ', dct['clave1'][1])\n",
    "\n",
    "print('dct y clave 2 nos dan el valor 2:', dct['clave2'])\n",
    "print('index 0: ', dct['clave2'][0])\n",
    "print('index 1: ', dct['clave2'][1])\n",
    "\n",
    "\n",
    "print(dct.keys())"
   ]
  },
  {
   "attachments": {},
   "cell_type": "markdown",
   "id": "64ac0dfe",
   "metadata": {},
   "source": [
    "## diccionarios: ejemplo 2 (el ejercicio del examen)"
   ]
  },
  {
   "cell_type": "code",
   "execution_count": 109,
   "id": "fa241ade",
   "metadata": {},
   "outputs": [
    {
     "name": "stdout",
     "output_type": "stream",
     "text": [
      "{'1': (1, 2), '2': (2, 1)}\n",
      "dict_keys(['1', '2'])\n",
      "21"
     ]
    }
   ],
   "source": [
    "dct = {}\n",
    "dct['1'] = (1, 2)\n",
    "dct['2'] = (2, 1)\n",
    "print(dct)\n",
    "\n",
    "# {'1': (1,2), \n",
    "#  '2': (2,1)}\n",
    "\n",
    "print(dct.keys())\n",
    "\n",
    "for x in dct.keys():\n",
    "    print(dct[x][1], end='')\n",
    "    # dct[\"1\"][1] --> 2\n",
    "    # dct['2'][1] --> 1\n",
    "    # 21"
   ]
  },
  {
   "attachments": {},
   "cell_type": "markdown",
   "id": "5ddc5b44",
   "metadata": {},
   "source": [
    "## diccionarios: ejemplo 3"
   ]
  },
  {
   "cell_type": "code",
   "execution_count": 110,
   "id": "9ae0d72f",
   "metadata": {},
   "outputs": [
    {
     "name": "stdout",
     "output_type": "stream",
     "text": [
      "2\n",
      "1\n"
     ]
    }
   ],
   "source": [
    "# otro ejemplo, donde podemos ver que primero imprime el 2, después el 1\n",
    "\n",
    "dct = {}\n",
    "dct['1'] = (1, 2)\n",
    "dct['2'] = (2, 1)\n",
    "\n",
    "# {'1': (1,2), \n",
    "#  '2': (2,1)}\n",
    "\n",
    "for x in dct.keys():\n",
    "    print(dct[x][1])"
   ]
  },
  {
   "attachments": {},
   "cell_type": "markdown",
   "id": "b45dd59c",
   "metadata": {},
   "source": [
    "****"
   ]
  },
  {
   "attachments": {},
   "cell_type": "markdown",
   "id": "a5e464f7",
   "metadata": {},
   "source": [
    "# string a lista"
   ]
  },
  {
   "cell_type": "code",
   "execution_count": 111,
   "id": "9275fda8",
   "metadata": {},
   "outputs": [
    {
     "name": "stdout",
     "output_type": "stream",
     "text": [
      "['h', 'e', 'l', 'l', 'o']\n"
     ]
    }
   ],
   "source": [
    "print(list('hello'))"
   ]
  },
  {
   "attachments": {},
   "cell_type": "markdown",
   "id": "7cd27a1b",
   "metadata": {},
   "source": [
    "****"
   ]
  },
  {
   "attachments": {},
   "cell_type": "markdown",
   "id": "863f3828",
   "metadata": {},
   "source": [
    "# Ejemplo con funciones"
   ]
  },
  {
   "cell_type": "code",
   "execution_count": 112,
   "id": "b65e72a2",
   "metadata": {},
   "outputs": [
    {
     "name": "stdout",
     "output_type": "stream",
     "text": [
      "p1 y p2 iniciales: 3 [1, 2, 3]\n",
      "p1 y p2 finales: 1 [42, 2, 3]\n",
      "\n",
      "\n",
      "x e y después de la función: 3 [42, 2, 3]\n",
      "ahora x e y[0]: 3 42\n"
     ]
    }
   ],
   "source": [
    "def func(p1, p2):\n",
    "    print('p1 y p2 iniciales:', p1, p2)\n",
    "    p1 = 1\n",
    "    p2[0] = 42\n",
    "    print('p1 y p2 finales:', p1, p2) \n",
    "\n",
    "# --------------------------------------------\n",
    "x = 3\n",
    "y = [1, 2, 3]\n",
    " \n",
    "func(x, y)       # func(3, [1,2,3])     \n",
    "# ---------------------------------------------\n",
    "\n",
    "print(\"\\n\")\n",
    "\n",
    "print('x e y después de la función:', x, y) \n",
    "\n",
    "print('ahora x e y[0]:', x, y[0])   \n",
    "\n",
    "\n",
    "# ----\n",
    "# las listas se pueden modificar."
   ]
  },
  {
   "attachments": {},
   "cell_type": "markdown",
   "id": "ea880855",
   "metadata": {},
   "source": [
    "****"
   ]
  },
  {
   "attachments": {},
   "cell_type": "markdown",
   "id": "6cb15625",
   "metadata": {},
   "source": [
    "# float de un string"
   ]
  },
  {
   "cell_type": "code",
   "execution_count": 113,
   "id": "4a94b7b2",
   "metadata": {},
   "outputs": [
    {
     "name": "stdout",
     "output_type": "stream",
     "text": [
      "1.3\n"
     ]
    }
   ],
   "source": [
    "print(float('1.3'))"
   ]
  },
  {
   "attachments": {},
   "cell_type": "markdown",
   "id": "cd799b16",
   "metadata": {},
   "source": [
    "****"
   ]
  },
  {
   "attachments": {},
   "cell_type": "markdown",
   "id": "f099bda9",
   "metadata": {},
   "source": [
    "# try except algunos ejemplos"
   ]
  },
  {
   "attachments": {},
   "cell_type": "markdown",
   "id": "b70ad104",
   "metadata": {},
   "source": [
    "## excepciones: ejemplo 1"
   ]
  },
  {
   "cell_type": "code",
   "execution_count": 117,
   "id": "ceadda9f",
   "metadata": {},
   "outputs": [
    {
     "name": "stdin",
     "output_type": "stream",
     "text": [
      "Enter the first value:  kangaroo\n",
      "Enter the second value:  0\n"
     ]
    },
    {
     "name": "stdout",
     "output_type": "stream",
     "text": [
      "a: 8\n",
      "b: 2\n",
      "4.0\n"
     ]
    }
   ],
   "source": [
    "try:\n",
    "    first_prompt = input(\"Enter the first value: \")     # kangaroo\n",
    "    a = len(first_prompt)                               # len(kangaroo) = 8\n",
    "    second_prompt = input(\"Enter the second value: \")   # 0\n",
    "    b = len(second_prompt) * 2                          # 2*len(0) = 2*1 = 2\n",
    "    print('a:', a)\n",
    "    print('b:', b)\n",
    "    print(a/b)                                          # 8/2 = 4\n",
    "except ZeroDivisionError:\n",
    "    print(\"Do not divide by zero!\")\n",
    "except ValueError:\n",
    "    print(\"Wrong value.\")\n",
    "except:\n",
    "    print(\"Error.Error.Error.\")"
   ]
  },
  {
   "attachments": {},
   "cell_type": "markdown",
   "id": "a155ff27",
   "metadata": {},
   "source": [
    "## excepciones: ejemplo 2"
   ]
  },
  {
   "cell_type": "code",
   "execution_count": 118,
   "id": "0916aff4",
   "metadata": {},
   "outputs": [
    {
     "name": "stdin",
     "output_type": "stream",
     "text": [
      "Enter the first value:  kangaroo\n",
      "Enter the second value:  0\n"
     ]
    },
    {
     "name": "stdout",
     "output_type": "stream",
     "text": [
      "Error.Error.Error.\n"
     ]
    }
   ],
   "source": [
    "try:\n",
    "    first_prompt = input(\"Enter the first value: \")     # kangaroo\n",
    "    a = first_prompt\n",
    "    second_prompt = input(\"Enter the second value: \")   # 0\n",
    "    b = second_prompt\n",
    "    print(a/b)\n",
    "except ZeroDivisionError:\n",
    "    print(\"Do not divide by zero!\")\n",
    "except ValueError:\n",
    "    print(\"Wrong value.\")\n",
    "except:\n",
    "    print(\"Error.Error.Error.\")\n"
   ]
  },
  {
   "attachments": {},
   "cell_type": "markdown",
   "id": "da0cc779",
   "metadata": {},
   "source": [
    "## excepciones: ejemplo 3"
   ]
  },
  {
   "cell_type": "code",
   "execution_count": 119,
   "id": "6b506167",
   "metadata": {},
   "outputs": [
    {
     "name": "stdin",
     "output_type": "stream",
     "text": [
      "Enter the first value:  10\n",
      "Enter the second value:  0\n"
     ]
    },
    {
     "name": "stdout",
     "output_type": "stream",
     "text": [
      "a: 10\n",
      "b: 0\n",
      "Error.Error.Error.\n"
     ]
    }
   ],
   "source": [
    "try:\n",
    "    first_prompt = input(\"Enter the first value: \")     # 10\n",
    "    a = first_prompt\n",
    "    second_prompt = input(\"Enter the second value: \")   # 0\n",
    "    b = second_prompt\n",
    "    print('a:', a)\n",
    "    print('b:', b)\n",
    "    print(a/b)\n",
    "except ZeroDivisionError:\n",
    "    print(\"Do not divide by zero!\")\n",
    "except ValueError:\n",
    "    print(\"Wrong value.\")\n",
    "except:\n",
    "    print(\"Error.Error.Error.\")"
   ]
  },
  {
   "attachments": {},
   "cell_type": "markdown",
   "id": "d86ccad0",
   "metadata": {},
   "source": [
    "****"
   ]
  },
  {
   "attachments": {},
   "cell_type": "markdown",
   "id": "c10e5d32",
   "metadata": {},
   "source": [
    "# Suma de strings vs Suma de números"
   ]
  },
  {
   "cell_type": "code",
   "execution_count": 120,
   "id": "ecaab932",
   "metadata": {},
   "outputs": [
    {
     "name": "stdin",
     "output_type": "stream",
     "text": [
      " 2\n",
      " 4\n"
     ]
    },
    {
     "name": "stdout",
     "output_type": "stream",
     "text": [
      "6\n"
     ]
    }
   ],
   "source": [
    "# enteros\n",
    "\n",
    "x = int(input())  # 2\n",
    "y = int(input())  # 4\n",
    "print(x + y)"
   ]
  },
  {
   "cell_type": "code",
   "execution_count": 121,
   "id": "1a4f2361",
   "metadata": {},
   "outputs": [
    {
     "name": "stdin",
     "output_type": "stream",
     "text": [
      " 2\n",
      " 4\n"
     ]
    },
    {
     "name": "stdout",
     "output_type": "stream",
     "text": [
      "2.0\n",
      "4.0\n",
      "6.0\n"
     ]
    }
   ],
   "source": [
    "# DECIMALES\n",
    "\n",
    "x = float(input())  # 2\n",
    "y = float(input())  # 4\n",
    "print(x)\n",
    "print(y)\n",
    "print(x + y)"
   ]
  },
  {
   "cell_type": "code",
   "execution_count": 122,
   "id": "36d533f6",
   "metadata": {},
   "outputs": [
    {
     "name": "stdin",
     "output_type": "stream",
     "text": [
      " 2\n",
      " 4\n"
     ]
    },
    {
     "name": "stdout",
     "output_type": "stream",
     "text": [
      "2\n",
      "<class 'str'>\n",
      "4\n",
      "<class 'str'>\n",
      "\n",
      "\n",
      "24\n"
     ]
    }
   ],
   "source": [
    "# strings\n",
    "\n",
    "# EL EJERCICIO DE EXAMEN\n",
    "\n",
    "x = input()    # 2\n",
    "y = input()    # 4\n",
    "print(x)\n",
    "print(type(x))\n",
    "print(y)\n",
    "print(type(y))\n",
    "print('\\n')\n",
    "print(x + y)\n",
    "\n",
    "# '2' + '4' ===> '24'"
   ]
  },
  {
   "cell_type": "code",
   "execution_count": null,
   "id": "c7b941de",
   "metadata": {},
   "outputs": [],
   "source": [
    "# recordamos suma de strings con \"hola\" \"mundo\""
   ]
  },
  {
   "cell_type": "code",
   "execution_count": 124,
   "id": "00cb88a9",
   "metadata": {},
   "outputs": [
    {
     "name": "stdin",
     "output_type": "stream",
     "text": [
      " hola\n",
      " 4\n"
     ]
    },
    {
     "name": "stdout",
     "output_type": "stream",
     "text": [
      "hola\n",
      "<class 'str'>\n",
      "4\n",
      "<class 'str'>\n",
      "\n",
      "\n",
      "hola4\n"
     ]
    }
   ],
   "source": [
    "# strings\n",
    "\n",
    "# EL EJERCICIO DE EXAMEN\n",
    "\n",
    "x = input()    # hola\n",
    "y = input()    # mundo\n",
    "print(x)\n",
    "print(type(x))\n",
    "print(y)\n",
    "print(type(y))\n",
    "print('\\n')\n",
    "print(x + y)"
   ]
  },
  {
   "attachments": {},
   "cell_type": "markdown",
   "id": "96e49c2f",
   "metadata": {},
   "source": [
    "****"
   ]
  },
  {
   "cell_type": "markdown",
   "id": "eb3f08ea-718a-4f45-a0b0-f31cbde2dacd",
   "metadata": {},
   "source": [
    "# Desplazar los Bits"
   ]
  },
  {
   "cell_type": "markdown",
   "id": "2f848cee-5f1a-4da7-8e5c-f1dcd29ec860",
   "metadata": {},
   "source": [
    "Desplazar un valor un bit a la **izquierda** corresponde a multiplicarlo por dos, respectivamente desplazar un bit a la **derecha** es como dividir entre dos.\n",
    "\n",
    "Los operadores de cambio en Python son un par de dígrafos '<<' y '>>', sugiriendo claramente en que dirección actuará el cambio.\n",
    "\n",
    "value << bits\n",
    "value >> bits\n",
    "\n",
    "Ejemplo:\n",
    "\n",
    "17 >> 1 ---> 17//2 (17 dividido entre 2 a la potencia de 1) --> es 8 (desplazarse hacia la derecha en un bit equivale a la división entera de dos)\n",
    "\n",
    "17 << 2 --> 17 * 4 (17 dividido entre 2 a la potencia de 2) --> es 68 (desplazarse hacia la izquierda en dos bits equivale a la multiplicación entera por cuatro)"
   ]
  },
  {
   "cell_type": "code",
   "execution_count": 125,
   "id": "daa07a5e-d5dc-410d-af4b-42205b13ed28",
   "metadata": {},
   "outputs": [
    {
     "data": {
      "text/plain": [
       "8"
      ]
     },
     "execution_count": 125,
     "metadata": {},
     "output_type": "execute_result"
    }
   ],
   "source": [
    "17 >> 1\n",
    "# a = 17 --> n = 1 --> 17 / 2¹ = 8"
   ]
  },
  {
   "cell_type": "code",
   "execution_count": 126,
   "id": "440c0e13-0f6d-4aec-98c0-b774044f2680",
   "metadata": {},
   "outputs": [
    {
     "data": {
      "text/plain": [
       "68"
      ]
     },
     "execution_count": 126,
     "metadata": {},
     "output_type": "execute_result"
    }
   ],
   "source": [
    "17 << 2\n",
    "# a = 17 --> n = 2 --> 17 * 2² = 68"
   ]
  },
  {
   "attachments": {},
   "cell_type": "markdown",
   "id": "10960af8",
   "metadata": {},
   "source": [
    "## Bitwise right shift"
   ]
  },
  {
   "cell_type": "code",
   "execution_count": null,
   "id": "a8a0ad8e",
   "metadata": {},
   "outputs": [],
   "source": [
    "# The bitwise right shift operator (>>) is analogous to the left one, \n",
    "# but instead of moving bits to the left, \n",
    "# it pushes them to the right by the specified number of places. "
   ]
  },
  {
   "cell_type": "code",
   "execution_count": 127,
   "id": "d7228221",
   "metadata": {},
   "outputs": [
    {
     "data": {
      "text/plain": [
       "5"
      ]
     },
     "execution_count": 127,
     "metadata": {},
     "output_type": "execute_result"
    }
   ],
   "source": [
    "a = 10   \n",
    "#   0000 1010 (binario)\n",
    "a >> 1\n",
    "#   0000 0101 (binario) ====> 5 decimal\n",
    "\n",
    "# 10 / 2¹ = 10/2 = 5"
   ]
  },
  {
   "attachments": {},
   "cell_type": "markdown",
   "id": "c9ef35d4",
   "metadata": {},
   "source": [
    "## Bitwise left shift"
   ]
  },
  {
   "cell_type": "code",
   "execution_count": 128,
   "id": "f5a20f19",
   "metadata": {},
   "outputs": [
    {
     "name": "stdout",
     "output_type": "stream",
     "text": [
      "a: 5\n",
      "b: 10\n",
      "c: 20\n",
      "c: 40\n"
     ]
    }
   ],
   "source": [
    "a = 5\n",
    "print('a:', a)\n",
    "#  0000 0101  (binario)\n",
    "b = a << 1 # a * 2^n --> 5 * 2¹=10\n",
    "print('b:', b)\n",
    "#  0000 1010  (binario)  ===> 10\n",
    "c = a << 2 # 5 * 2² = 20\n",
    "print('c:', c)\n",
    "#  0001 0100  (binario)  ===> 20\n",
    "\n",
    "d = a << 3 # 5 * 2³ = 40\n",
    "print('c:', d)"
   ]
  },
  {
   "attachments": {},
   "cell_type": "markdown",
   "id": "9280bafc",
   "metadata": {},
   "source": [
    "****"
   ]
  },
  {
   "attachments": {},
   "cell_type": "markdown",
   "id": "1d64ae7f",
   "metadata": {},
   "source": [
    "# string y count"
   ]
  },
  {
   "cell_type": "code",
   "execution_count": null,
   "id": "157098a8",
   "metadata": {},
   "outputs": [],
   "source": [
    "# string.count(value, start, end)"
   ]
  },
  {
   "cell_type": "code",
   "execution_count": 129,
   "id": "1bfe1733",
   "metadata": {},
   "outputs": [
    {
     "name": "stdout",
     "output_type": "stream",
     "text": [
      "2\n"
     ]
    }
   ],
   "source": [
    "# https://www.w3schools.com/python/ref_string_count.asp\n",
    "\n",
    "txt = \"I love apples, apple are my favorite fruit\"\n",
    "\n",
    "x = txt.count(\"apple\")\n",
    "\n",
    "print(x)"
   ]
  },
  {
   "cell_type": "code",
   "execution_count": 130,
   "id": "535b5661",
   "metadata": {},
   "outputs": [
    {
     "data": {
      "text/plain": [
       "28"
      ]
     },
     "execution_count": 130,
     "metadata": {},
     "output_type": "execute_result"
    }
   ],
   "source": [
    "string = \"Python is awesome, isn't it?\"\n",
    "substring = \"i\"\n",
    "\n",
    "len(string)"
   ]
  },
  {
   "cell_type": "code",
   "execution_count": null,
   "id": "2d2921d1",
   "metadata": {},
   "outputs": [],
   "source": [
    "# string = \"Python is awesome, isn't it?\"\n",
    "#             6  + 2     7       5    2   + los espacios + la coma + el ? del final"
   ]
  },
  {
   "cell_type": "code",
   "execution_count": 131,
   "id": "d387b10a",
   "metadata": {},
   "outputs": [
    {
     "name": "stdout",
     "output_type": "stream",
     "text": [
      "The count is: 0\n"
     ]
    }
   ],
   "source": [
    "# count after first 'i' and before the last 'i'\n",
    "count = string.count(substring, 0, 5)\n",
    "\n",
    "# print count\n",
    "print(\"The count is:\", count)"
   ]
  },
  {
   "cell_type": "code",
   "execution_count": 132,
   "id": "49a62d7f",
   "metadata": {},
   "outputs": [
    {
     "name": "stdout",
     "output_type": "stream",
     "text": [
      "The count is: 1\n"
     ]
    }
   ],
   "source": [
    "# count after first 'i' and before the last 'i'\n",
    "count = string.count(substring, 0, 8)\n",
    "\n",
    "# print count\n",
    "print(\"The count is:\", count)"
   ]
  },
  {
   "cell_type": "code",
   "execution_count": 133,
   "id": "e214c614",
   "metadata": {},
   "outputs": [
    {
     "name": "stdout",
     "output_type": "stream",
     "text": [
      "The count is: 0\n"
     ]
    }
   ],
   "source": [
    "# count after first 'i' and before the last 'i'\n",
    "count = string.count(substring, 0, 7)\n",
    "\n",
    "# print count\n",
    "print(\"The count is:\", count)"
   ]
  },
  {
   "cell_type": "code",
   "execution_count": 134,
   "id": "0ecb83d6",
   "metadata": {},
   "outputs": [
    {
     "name": "stdout",
     "output_type": "stream",
     "text": [
      "The count is: 1\n"
     ]
    }
   ],
   "source": [
    "# count after first 'i' and before the last 'i'\n",
    "count = string.count(substring, 8, 25)\n",
    "\n",
    "# print count\n",
    "print(\"The count is:\", count)"
   ]
  },
  {
   "cell_type": "code",
   "execution_count": 135,
   "id": "0827d20d",
   "metadata": {},
   "outputs": [
    {
     "name": "stdout",
     "output_type": "stream",
     "text": [
      "The count is: 2\n"
     ]
    }
   ],
   "source": [
    "# count after first 'i' and before the last 'i'\n",
    "count = string.count(substring, 8, 28)\n",
    "\n",
    "# print count\n",
    "print(\"The count is:\", count)"
   ]
  },
  {
   "cell_type": "code",
   "execution_count": 136,
   "id": "fa5cb711",
   "metadata": {},
   "outputs": [
    {
     "name": "stdout",
     "output_type": "stream",
     "text": [
      "The count is: 1\n"
     ]
    }
   ],
   "source": [
    "# count after first 'i' and before the last 'i'\n",
    "count = string.count(substring, 0, 10)\n",
    "\n",
    "# print count\n",
    "print(\"The count is:\", count)"
   ]
  },
  {
   "cell_type": "code",
   "execution_count": null,
   "id": "58e6d88f",
   "metadata": {},
   "outputs": [],
   "source": [
    "# otro ejemplo"
   ]
  },
  {
   "cell_type": "code",
   "execution_count": 137,
   "id": "c4a0f221",
   "metadata": {},
   "outputs": [
    {
     "name": "stdout",
     "output_type": "stream",
     "text": [
      "2\n"
     ]
    }
   ],
   "source": [
    "data = 'abbabadaadbbaccabc'\n",
    "print(data.count('ab', 1))"
   ]
  },
  {
   "cell_type": "code",
   "execution_count": 138,
   "id": "7783e8d5",
   "metadata": {},
   "outputs": [
    {
     "name": "stdout",
     "output_type": "stream",
     "text": [
      "2\n"
     ]
    }
   ],
   "source": [
    "data = 'abbabadaadbbaccabc'\n",
    "print(data.count('ab', 1, len(data)))"
   ]
  },
  {
   "cell_type": "code",
   "execution_count": 139,
   "id": "c79094b0",
   "metadata": {},
   "outputs": [
    {
     "name": "stdout",
     "output_type": "stream",
     "text": [
      "0\n"
     ]
    }
   ],
   "source": [
    "data = 'abbabadaadbbaccabc'\n",
    "print(data.count('ab', 0, 1))"
   ]
  },
  {
   "attachments": {},
   "cell_type": "markdown",
   "id": "3b701cbf",
   "metadata": {},
   "source": [
    "****"
   ]
  },
  {
   "attachments": {},
   "cell_type": "markdown",
   "id": "6d0cb416",
   "metadata": {},
   "source": [
    "# Un ejemplo con Try Except"
   ]
  },
  {
   "cell_type": "code",
   "execution_count": 140,
   "id": "6d384d76-c148-43bf-b316-af0211d453a4",
   "metadata": {},
   "outputs": [
    {
     "name": "stdin",
     "output_type": "stream",
     "text": [
      "Enter a value:  5\n"
     ]
    },
    {
     "name": "stdout",
     "output_type": "stream",
     "text": [
      "<class 'str'>\n",
      "Very very bad input...\n"
     ]
    }
   ],
   "source": [
    "try:\n",
    "    value = input(\"Enter a value: \")\n",
    "    print(type(value))\n",
    "    print(value/value)\n",
    "except ValueError:\n",
    "    print(\"Bad input...\")\n",
    "except ZeroDivisionError:\n",
    "    print(\"Very bad input...\")\n",
    "except TypeError:\n",
    "    print(\"Very very bad input...\")\n",
    "except:\n",
    "    print(\"Booo!\")\n",
    "    \n",
    "# TypeError.."
   ]
  },
  {
   "attachments": {},
   "cell_type": "markdown",
   "id": "6dc66e13",
   "metadata": {},
   "source": [
    "****"
   ]
  },
  {
   "attachments": {},
   "cell_type": "markdown",
   "id": "ee3927c1",
   "metadata": {},
   "source": [
    "# Función con diccionario"
   ]
  },
  {
   "attachments": {},
   "cell_type": "markdown",
   "id": "d76cac2e",
   "metadata": {},
   "source": [
    "## funciones y diccionarios: ejemplo 1"
   ]
  },
  {
   "cell_type": "code",
   "execution_count": 141,
   "id": "a303cbcc",
   "metadata": {},
   "outputs": [
    {
     "name": "stdout",
     "output_type": "stream",
     "text": [
      "None\n"
     ]
    }
   ],
   "source": [
    "data = {}\n",
    " \n",
    "def func(d, key, value):\n",
    "    d[key] = value\n",
    "\n",
    "print(func(data, '1', 'Peter'))\n",
    "\n",
    "# la función no tiene retorno"
   ]
  },
  {
   "attachments": {},
   "cell_type": "markdown",
   "id": "161cd5b3",
   "metadata": {},
   "source": [
    "## funciones y diccionarios: ejemplo 2"
   ]
  },
  {
   "cell_type": "code",
   "execution_count": 142,
   "id": "d1bfad30",
   "metadata": {},
   "outputs": [
    {
     "name": "stdout",
     "output_type": "stream",
     "text": [
      "{'1': 'Peter'}\n"
     ]
    }
   ],
   "source": [
    "data = {}\n",
    " \n",
    "def func(d, key, value):\n",
    "    d[key] = value\n",
    "    return d\n",
    "\n",
    "print(func(data, '1', 'Peter'))"
   ]
  },
  {
   "attachments": {},
   "cell_type": "markdown",
   "id": "872fcac4",
   "metadata": {},
   "source": [
    "****"
   ]
  },
  {
   "attachments": {},
   "cell_type": "markdown",
   "id": "5a159dc5",
   "metadata": {},
   "source": [
    "# len(\"\\\\\")"
   ]
  },
  {
   "cell_type": "code",
   "execution_count": 148,
   "id": "5c679c49",
   "metadata": {},
   "outputs": [
    {
     "ename": "SyntaxError",
     "evalue": "unterminated string literal (detected at line 1) (4154789746.py, line 1)",
     "output_type": "error",
     "traceback": [
      "  \u001b[36mCell\u001b[39m\u001b[36m \u001b[39m\u001b[32mIn[148]\u001b[39m\u001b[32m, line 1\u001b[39m\n\u001b[31m    \u001b[39m\u001b[31mx = '\\'\u001b[39m\n        ^\n\u001b[31mSyntaxError\u001b[39m\u001b[31m:\u001b[39m unterminated string literal (detected at line 1)\n"
     ]
    }
   ],
   "source": [
    "\n",
    "x = '\\'\n",
    "print(len(x))\n",
    "\n",
    "# SyntaxError: EOL while scanning string literal"
   ]
  },
  {
   "cell_type": "code",
   "execution_count": 149,
   "id": "ca91a9a3",
   "metadata": {},
   "outputs": [
    {
     "name": "stdout",
     "output_type": "stream",
     "text": [
      "1\n"
     ]
    }
   ],
   "source": [
    "x = '\\\\'\n",
    "print(len(x))"
   ]
  },
  {
   "cell_type": "code",
   "execution_count": 150,
   "id": "ce9f8313",
   "metadata": {},
   "outputs": [
    {
     "name": "stdout",
     "output_type": "stream",
     "text": [
      "2\n"
     ]
    }
   ],
   "source": [
    "x = '\\\\\\\\'\n",
    "print(len(x))"
   ]
  },
  {
   "cell_type": "code",
   "execution_count": 151,
   "id": "1f29b858",
   "metadata": {},
   "outputs": [
    {
     "ename": "SyntaxError",
     "evalue": "unterminated string literal (detected at line 1) (252663340.py, line 1)",
     "output_type": "error",
     "traceback": [
      "  \u001b[36mCell\u001b[39m\u001b[36m \u001b[39m\u001b[32mIn[151]\u001b[39m\u001b[32m, line 1\u001b[39m\n\u001b[31m    \u001b[39m\u001b[31mx = '\\\\\\'\u001b[39m\n        ^\n\u001b[31mSyntaxError\u001b[39m\u001b[31m:\u001b[39m unterminated string literal (detected at line 1)\n"
     ]
    }
   ],
   "source": [
    "x = '\\\\\\'\n",
    "print(len(x))\n",
    "\n",
    "# SyntaxError: EOL while scanning string literal"
   ]
  },
  {
   "attachments": {},
   "cell_type": "markdown",
   "id": "9d373003",
   "metadata": {},
   "source": [
    "****"
   ]
  },
  {
   "attachments": {},
   "cell_type": "markdown",
   "id": "23232d32",
   "metadata": {},
   "source": [
    "# len(salto de linea)"
   ]
  },
  {
   "cell_type": "code",
   "execution_count": null,
   "id": "a6a4ee1d",
   "metadata": {},
   "outputs": [],
   "source": [
    "# comentario"
   ]
  },
  {
   "cell_type": "code",
   "execution_count": null,
   "id": "ad67018e",
   "metadata": {},
   "outputs": [],
   "source": [
    "# comentario de linea 1\n",
    "# comentario de linea 2"
   ]
  },
  {
   "cell_type": "code",
   "execution_count": null,
   "id": "96197208",
   "metadata": {},
   "outputs": [],
   "source": [
    "\"\"\"\n",
    "comentario de linea 1\n",
    "comentario de linea 2\n",
    "comentario de linea 3\n",
    "\"\"\""
   ]
  },
  {
   "cell_type": "code",
   "execution_count": 152,
   "id": "fc9f0baf",
   "metadata": {},
   "outputs": [
    {
     "name": "stdout",
     "output_type": "stream",
     "text": [
      "0\n"
     ]
    }
   ],
   "source": [
    "x = \"\"\"\"\"\"\n",
    "print(len(x))"
   ]
  },
  {
   "cell_type": "code",
   "execution_count": 153,
   "id": "cc4d5c28",
   "metadata": {},
   "outputs": [
    {
     "name": "stdout",
     "output_type": "stream",
     "text": [
      "1\n"
     ]
    }
   ],
   "source": [
    "x = \"\"\"\n",
    "\"\"\"\n",
    "print(len(x))"
   ]
  },
  {
   "cell_type": "code",
   "execution_count": 154,
   "id": "7ca0b72a",
   "metadata": {},
   "outputs": [
    {
     "name": "stdout",
     "output_type": "stream",
     "text": [
      "2\n"
     ]
    }
   ],
   "source": [
    "x = \"\"\"\n",
    "\n",
    "\"\"\"\n",
    "print(len(x))"
   ]
  },
  {
   "cell_type": "code",
   "execution_count": 155,
   "id": "cf55385f",
   "metadata": {},
   "outputs": [
    {
     "name": "stdout",
     "output_type": "stream",
     "text": [
      "3\n"
     ]
    }
   ],
   "source": [
    "# hay un espacio en blanco en la línea donde comienza x, antes del salto de línea\n",
    "x = \"\"\" \n",
    "\n",
    "\"\"\"\n",
    "print(len(x))"
   ]
  },
  {
   "cell_type": "code",
   "execution_count": 156,
   "id": "a52cc008",
   "metadata": {},
   "outputs": [
    {
     "name": "stdout",
     "output_type": "stream",
     "text": [
      "5\n"
     ]
    }
   ],
   "source": [
    "x = \"\"\"Hola\n",
    "\"\"\"\n",
    "print(len(x))"
   ]
  },
  {
   "cell_type": "code",
   "execution_count": 157,
   "id": "533aa46e",
   "metadata": {},
   "outputs": [
    {
     "name": "stdout",
     "output_type": "stream",
     "text": [
      "11\n"
     ]
    }
   ],
   "source": [
    "x = \"\"\"Hola mundo\n",
    "\"\"\"\n",
    "print(len(x))\n",
    "\n",
    "# 4 por \"hola\"\n",
    "# 1 por el espacio en blanco\n",
    "# 5 por \"mundo\"\n",
    "# 1 por el salto de línea"
   ]
  },
  {
   "attachments": {},
   "cell_type": "markdown",
   "id": "585959ff",
   "metadata": {},
   "source": [
    "****"
   ]
  },
  {
   "attachments": {},
   "cell_type": "markdown",
   "id": "f93a5abd",
   "metadata": {},
   "source": [
    "# Ejercicio prototipo de Funciones"
   ]
  },
  {
   "attachments": {},
   "cell_type": "markdown",
   "id": "fe54b996",
   "metadata": {},
   "source": [
    "## ejemplo 1 de funciones "
   ]
  },
  {
   "cell_type": "code",
   "execution_count": 158,
   "id": "f3c2914d",
   "metadata": {},
   "outputs": [
    {
     "name": "stdout",
     "output_type": "stream",
     "text": [
      "0\n"
     ]
    }
   ],
   "source": [
    "def func(x, y):\n",
    "    if x == y:\n",
    "        return x\n",
    "    else:\n",
    "        return func(x, y-1)\n",
    " \n",
    " \n",
    "print(func(0, 3))  \n",
    "\n",
    "# func(0, 3)  => return func(x, y-1) ==> return func(0, 2)\n",
    "# func(0, 2)  => return func(0, 1)\n",
    "# func(0, 1)  => return func(0, 0)\n",
    "# func(0, 0)  => return x => 0"
   ]
  },
  {
   "attachments": {},
   "cell_type": "markdown",
   "id": "42c089cd",
   "metadata": {},
   "source": [
    "## ejemplo 2 de funciones: ejemplo 1 modificado"
   ]
  },
  {
   "cell_type": "code",
   "execution_count": 159,
   "id": "0251613b",
   "metadata": {},
   "outputs": [
    {
     "name": "stdout",
     "output_type": "stream",
     "text": [
      "Hemos llegado a x=y=0\n"
     ]
    }
   ],
   "source": [
    "def func(x, y):\n",
    "    if x == y:\n",
    "        return 'Hemos llegado a x=y=0'\n",
    "    else:\n",
    "        return func(x, y-1)\n",
    " \n",
    " \n",
    "print(func(0, 3))  \n",
    "\n",
    "# func(0, 3)  => return func(x, y-1)\n",
    "# func(0, 2)  => return func(0, 1)\n",
    "# func(0, 1)  => return func(0, 0)\n",
    "# func(0, 0)  => return 'Hemos llegado a x=y=0'"
   ]
  },
  {
   "attachments": {},
   "cell_type": "markdown",
   "id": "4cd36c5e",
   "metadata": {},
   "source": [
    "## ejemplo 3 de funciones: otra ligera modificación del ejercicio 1 (paso a paso)"
   ]
  },
  {
   "cell_type": "code",
   "execution_count": 160,
   "id": "971b3274",
   "metadata": {},
   "outputs": [
    {
     "name": "stdout",
     "output_type": "stream",
     "text": [
      "x es: 0 .. y es: 3 ..por lo de (y-1)\n",
      "x es: 0 .. y es: 2 ..por lo de (y-1)\n",
      "x es: 0 .. y es: 1 ..por lo de (y-1)\n",
      "0\n"
     ]
    }
   ],
   "source": [
    "def func(x, y):\n",
    "    if x == y:\n",
    "        return x\n",
    "    else:\n",
    "        print('x es:', x,'.. y es:', y, '..por lo de (y-1)')\n",
    "        return func(x, y-1)\n",
    " \n",
    " \n",
    "print(func(0, 3))  \n",
    "\n",
    "# func(0, 3)  => return func(x, y-1)\n",
    "# func(0, 2)  => return func(0, 1)\n",
    "# func(0, 1)  => return func(0, 0)\n",
    "# func(0, 0)  => return 'Hemos llegado a x=y=0'"
   ]
  },
  {
   "attachments": {},
   "cell_type": "markdown",
   "id": "7a674fc7",
   "metadata": {},
   "source": [
    "## ejemplo 4 de funciones \n",
    "\n",
    "**otro ejemplo en el cual, no llega a ningún sitio**"
   ]
  },
  {
   "cell_type": "code",
   "execution_count": 161,
   "id": "27911e85",
   "metadata": {},
   "outputs": [
    {
     "ename": "RecursionError",
     "evalue": "maximum recursion depth exceeded",
     "output_type": "error",
     "traceback": [
      "\u001b[31m---------------------------------------------------------------------------\u001b[39m",
      "\u001b[31mRecursionError\u001b[39m                            Traceback (most recent call last)",
      "\u001b[36mCell\u001b[39m\u001b[36m \u001b[39m\u001b[32mIn[161]\u001b[39m\u001b[32m, line 8\u001b[39m\n\u001b[32m      4\u001b[39m     \u001b[38;5;28;01melse\u001b[39;00m:\n\u001b[32m      5\u001b[39m         \u001b[38;5;28;01mreturn\u001b[39;00m func(x, y-\u001b[32m1\u001b[39m)\n\u001b[32m----> \u001b[39m\u001b[32m8\u001b[39m \u001b[38;5;28mprint\u001b[39m(\u001b[43mfunc\u001b[49m\u001b[43m(\u001b[49m\u001b[32;43m0\u001b[39;49m\u001b[43m,\u001b[49m\u001b[43m \u001b[49m\u001b[43m-\u001b[49m\u001b[32;43m3\u001b[39;49m\u001b[43m)\u001b[49m)\n\u001b[32m     10\u001b[39m \u001b[38;5;66;03m# RecursionError: maximum recursion depth exceeded in comparison\u001b[39;00m\n",
      "\u001b[36mCell\u001b[39m\u001b[36m \u001b[39m\u001b[32mIn[161]\u001b[39m\u001b[32m, line 5\u001b[39m, in \u001b[36mfunc\u001b[39m\u001b[34m(x, y)\u001b[39m\n\u001b[32m      3\u001b[39m     \u001b[38;5;28;01mreturn\u001b[39;00m x\n\u001b[32m      4\u001b[39m \u001b[38;5;28;01melse\u001b[39;00m:\n\u001b[32m----> \u001b[39m\u001b[32m5\u001b[39m     \u001b[38;5;28;01mreturn\u001b[39;00m \u001b[43mfunc\u001b[49m\u001b[43m(\u001b[49m\u001b[43mx\u001b[49m\u001b[43m,\u001b[49m\u001b[43m \u001b[49m\u001b[43my\u001b[49m\u001b[43m-\u001b[49m\u001b[32;43m1\u001b[39;49m\u001b[43m)\u001b[49m\n",
      "\u001b[36mCell\u001b[39m\u001b[36m \u001b[39m\u001b[32mIn[161]\u001b[39m\u001b[32m, line 5\u001b[39m, in \u001b[36mfunc\u001b[39m\u001b[34m(x, y)\u001b[39m\n\u001b[32m      3\u001b[39m     \u001b[38;5;28;01mreturn\u001b[39;00m x\n\u001b[32m      4\u001b[39m \u001b[38;5;28;01melse\u001b[39;00m:\n\u001b[32m----> \u001b[39m\u001b[32m5\u001b[39m     \u001b[38;5;28;01mreturn\u001b[39;00m \u001b[43mfunc\u001b[49m\u001b[43m(\u001b[49m\u001b[43mx\u001b[49m\u001b[43m,\u001b[49m\u001b[43m \u001b[49m\u001b[43my\u001b[49m\u001b[43m-\u001b[49m\u001b[32;43m1\u001b[39;49m\u001b[43m)\u001b[49m\n",
      "    \u001b[31m[... skipping similar frames: func at line 5 (2974 times)]\u001b[39m\n",
      "\u001b[36mCell\u001b[39m\u001b[36m \u001b[39m\u001b[32mIn[161]\u001b[39m\u001b[32m, line 5\u001b[39m, in \u001b[36mfunc\u001b[39m\u001b[34m(x, y)\u001b[39m\n\u001b[32m      3\u001b[39m     \u001b[38;5;28;01mreturn\u001b[39;00m x\n\u001b[32m      4\u001b[39m \u001b[38;5;28;01melse\u001b[39;00m:\n\u001b[32m----> \u001b[39m\u001b[32m5\u001b[39m     \u001b[38;5;28;01mreturn\u001b[39;00m \u001b[43mfunc\u001b[49m\u001b[43m(\u001b[49m\u001b[43mx\u001b[49m\u001b[43m,\u001b[49m\u001b[43m \u001b[49m\u001b[43my\u001b[49m\u001b[43m-\u001b[49m\u001b[32;43m1\u001b[39;49m\u001b[43m)\u001b[49m\n",
      "\u001b[31mRecursionError\u001b[39m: maximum recursion depth exceeded"
     ]
    }
   ],
   "source": [
    "def func(x, y):\n",
    "    if x == y:\n",
    "        return x\n",
    "    else:\n",
    "        return func(x, y-1)\n",
    " \n",
    " \n",
    "print(func(0, -3))\n",
    "\n",
    "# RecursionError: maximum recursion depth exceeded in comparison"
   ]
  },
  {
   "attachments": {},
   "cell_type": "markdown",
   "id": "7e80c626",
   "metadata": {},
   "source": [
    "****"
   ]
  },
  {
   "attachments": {},
   "cell_type": "markdown",
   "id": "32378559",
   "metadata": {},
   "source": [
    "# pycache"
   ]
  },
  {
   "cell_type": "code",
   "execution_count": null,
   "id": "86cf930b",
   "metadata": {},
   "outputs": [],
   "source": [
    "# https://towardsdatascience.com/pycache-python-991424aabad8"
   ]
  },
  {
   "attachments": {},
   "cell_type": "markdown",
   "id": "a0617326",
   "metadata": {},
   "source": [
    "****"
   ]
  },
  {
   "attachments": {},
   "cell_type": "markdown",
   "id": "57da77cb",
   "metadata": {},
   "source": [
    "# LIFO / FIFO"
   ]
  },
  {
   "cell_type": "code",
   "execution_count": null,
   "id": "2d017557",
   "metadata": {},
   "outputs": [],
   "source": [
    "# Last In First Out (LIFO)\n",
    "# First In First Out (FIFO)"
   ]
  },
  {
   "attachments": {},
   "cell_type": "markdown",
   "id": "96021f83",
   "metadata": {},
   "source": [
    "****"
   ]
  },
  {
   "attachments": {},
   "cell_type": "markdown",
   "id": "aff3f1a0",
   "metadata": {},
   "source": [
    "# ASCII / UNICODE"
   ]
  },
  {
   "cell_type": "code",
   "execution_count": null,
   "id": "86366398",
   "metadata": {},
   "outputs": [],
   "source": [
    "# https://elcodigoascii.com.ar/\n",
    "\n",
    "# https://dinahosting.com/blog/que-es-utf-8/"
   ]
  },
  {
   "attachments": {},
   "cell_type": "markdown",
   "id": "602f6db1",
   "metadata": {},
   "source": [
    "<img src='caracteres_ASCII.png'>"
   ]
  },
  {
   "cell_type": "code",
   "execution_count": 162,
   "id": "d016fd52",
   "metadata": {},
   "outputs": [
    {
     "data": {
      "text/plain": [
       "48"
      ]
     },
     "execution_count": 162,
     "metadata": {},
     "output_type": "execute_result"
    }
   ],
   "source": [
    "ord('0')"
   ]
  },
  {
   "cell_type": "code",
   "execution_count": 163,
   "id": "b4cf51bf",
   "metadata": {},
   "outputs": [
    {
     "data": {
      "text/plain": [
       "'0'"
      ]
     },
     "execution_count": 163,
     "metadata": {},
     "output_type": "execute_result"
    }
   ],
   "source": [
    "chr(48)"
   ]
  },
  {
   "cell_type": "code",
   "execution_count": 164,
   "id": "db631bd2",
   "metadata": {},
   "outputs": [
    {
     "data": {
      "text/plain": [
       "int"
      ]
     },
     "execution_count": 164,
     "metadata": {},
     "output_type": "execute_result"
    }
   ],
   "source": [
    "type(ord('0'))  # 48"
   ]
  },
  {
   "cell_type": "code",
   "execution_count": 165,
   "id": "cc3a85de",
   "metadata": {},
   "outputs": [
    {
     "data": {
      "text/plain": [
       "str"
      ]
     },
     "execution_count": 165,
     "metadata": {},
     "output_type": "execute_result"
    }
   ],
   "source": [
    "type(chr(48)) # '0'"
   ]
  },
  {
   "cell_type": "code",
   "execution_count": 166,
   "id": "94bdcf07",
   "metadata": {},
   "outputs": [
    {
     "data": {
      "text/plain": [
       "(57, '9')"
      ]
     },
     "execution_count": 166,
     "metadata": {},
     "output_type": "execute_result"
    }
   ],
   "source": [
    "ord('9'), chr(57)"
   ]
  },
  {
   "cell_type": "code",
   "execution_count": 167,
   "id": "6748c96d",
   "metadata": {},
   "outputs": [
    {
     "data": {
      "text/plain": [
       "66"
      ]
     },
     "execution_count": 167,
     "metadata": {},
     "output_type": "execute_result"
    }
   ],
   "source": [
    "# tiene sentido la siguiente línea de código?\n",
    "\n",
    "# chr(B)   ==> no tiene sentido, le faltan las comillas simples\n",
    "# chr('B') ==> no tiene sentido porque queremos el número\n",
    "\n",
    "ord('B')"
   ]
  },
  {
   "cell_type": "code",
   "execution_count": 168,
   "id": "9e03bea7",
   "metadata": {},
   "outputs": [
    {
     "data": {
      "text/plain": [
       "'f'"
      ]
     },
     "execution_count": 168,
     "metadata": {},
     "output_type": "execute_result"
    }
   ],
   "source": [
    "# dime el código necesario para imprimir la 'f'\n",
    "\n",
    "# chr('102')   ==> no tiene sentido, porque 102 es número, no string\n",
    "\n",
    "chr(102)"
   ]
  },
  {
   "cell_type": "code",
   "execution_count": null,
   "id": "f0b10ff4",
   "metadata": {},
   "outputs": [],
   "source": [
    "# escriba las lineas de código necesarias para conseguirÇ\n",
    "# los números de 'a' y de 'A'"
   ]
  },
  {
   "cell_type": "code",
   "execution_count": 169,
   "id": "ada6d6d1",
   "metadata": {},
   "outputs": [
    {
     "data": {
      "text/plain": [
       "97"
      ]
     },
     "execution_count": 169,
     "metadata": {},
     "output_type": "execute_result"
    }
   ],
   "source": [
    "# 'a'\n",
    "\n",
    "ord('a')"
   ]
  },
  {
   "cell_type": "code",
   "execution_count": 170,
   "id": "9c76146a",
   "metadata": {},
   "outputs": [
    {
     "data": {
      "text/plain": [
       "65"
      ]
     },
     "execution_count": 170,
     "metadata": {},
     "output_type": "execute_result"
    }
   ],
   "source": [
    "# 'A'\n",
    "\n",
    "ord('A')"
   ]
  },
  {
   "cell_type": "code",
   "execution_count": 171,
   "id": "efc97bb5",
   "metadata": {},
   "outputs": [
    {
     "data": {
      "text/plain": [
       "32"
      ]
     },
     "execution_count": 171,
     "metadata": {},
     "output_type": "execute_result"
    }
   ],
   "source": [
    "ord('a') - ord('A')   \n",
    "# 97     -   65\n",
    "#      32"
   ]
  },
  {
   "cell_type": "code",
   "execution_count": 172,
   "id": "be472b1a",
   "metadata": {},
   "outputs": [
    {
     "data": {
      "text/plain": [
       "2"
      ]
     },
     "execution_count": 172,
     "metadata": {},
     "output_type": "execute_result"
    }
   ],
   "source": [
    "ord('c') - ord('a')\n",
    "# 99     -   97\n",
    "#        2"
   ]
  },
  {
   "cell_type": "code",
   "execution_count": 173,
   "id": "f15b5503",
   "metadata": {},
   "outputs": [
    {
     "data": {
      "text/plain": [
       "' '"
      ]
     },
     "execution_count": 173,
     "metadata": {},
     "output_type": "execute_result"
    }
   ],
   "source": [
    "chr(32)"
   ]
  },
  {
   "cell_type": "code",
   "execution_count": 174,
   "id": "1d57de9a",
   "metadata": {},
   "outputs": [
    {
     "data": {
      "text/plain": [
       "\"'\""
      ]
     },
     "execution_count": 174,
     "metadata": {},
     "output_type": "execute_result"
    }
   ],
   "source": [
    "chr(39)"
   ]
  },
  {
   "cell_type": "code",
   "execution_count": 175,
   "id": "70a2ccd8",
   "metadata": {},
   "outputs": [
    {
     "data": {
      "text/plain": [
       "39"
      ]
     },
     "execution_count": 175,
     "metadata": {},
     "output_type": "execute_result"
    }
   ],
   "source": [
    "ord(\"'\")"
   ]
  },
  {
   "cell_type": "code",
   "execution_count": 176,
   "id": "0b8e0fb0",
   "metadata": {},
   "outputs": [],
   "source": [
    "# ejemplo"
   ]
  },
  {
   "cell_type": "code",
   "execution_count": 177,
   "id": "d04b3b5c",
   "metadata": {},
   "outputs": [
    {
     "data": {
      "text/plain": [
       "98"
      ]
     },
     "execution_count": 177,
     "metadata": {},
     "output_type": "execute_result"
    }
   ],
   "source": [
    "ord('b')"
   ]
  },
  {
   "cell_type": "code",
   "execution_count": 178,
   "id": "2cff00af",
   "metadata": {},
   "outputs": [
    {
     "name": "stdout",
     "output_type": "stream",
     "text": [
      "s\n"
     ]
    }
   ],
   "source": [
    "print(chr(ord('p') + 3))  # s\n",
    "\n",
    "# en la 'p' el ord es el 112\n",
    "#     chr(  112    + 3)\n",
    "#     chr(    115)\n",
    "# en el 115 se encuentra la 's'\n",
    "#         s"
   ]
  },
  {
   "cell_type": "code",
   "execution_count": 179,
   "id": "6d7ff2e8",
   "metadata": {},
   "outputs": [
    {
     "data": {
      "text/plain": [
       "'s'"
      ]
     },
     "execution_count": 179,
     "metadata": {},
     "output_type": "execute_result"
    }
   ],
   "source": [
    "chr(ord('p') + 3)    "
   ]
  },
  {
   "cell_type": "code",
   "execution_count": null,
   "id": "617219ab",
   "metadata": {},
   "outputs": [],
   "source": [
    "# OTRO EJEMPLO (EJERCICIO PROTOTIPO)"
   ]
  },
  {
   "cell_type": "code",
   "execution_count": 180,
   "id": "c7278934",
   "metadata": {},
   "outputs": [
    {
     "data": {
      "text/plain": [
       "True"
      ]
     },
     "execution_count": 180,
     "metadata": {},
     "output_type": "execute_result"
    }
   ],
   "source": [
    "'mike' > 'Mike'"
   ]
  },
  {
   "cell_type": "code",
   "execution_count": 181,
   "id": "57a7b96a",
   "metadata": {},
   "outputs": [],
   "source": [
    "# The expression:\n",
    "\n",
    "# 'mike' > 'Mike'\n",
    "\n",
    "# is\n",
    "\n",
    "# A. erroneous\n",
    "# B. False\n",
    "# C. True"
   ]
  },
  {
   "cell_type": "code",
   "execution_count": 182,
   "id": "e6e24fce",
   "metadata": {},
   "outputs": [
    {
     "data": {
      "text/plain": [
       "(109, 77, True)"
      ]
     },
     "execution_count": 182,
     "metadata": {},
     "output_type": "execute_result"
    }
   ],
   "source": [
    "ord('m'), ord('M'), ord('m') > ord('M')"
   ]
  },
  {
   "cell_type": "code",
   "execution_count": 183,
   "id": "9a623552",
   "metadata": {},
   "outputs": [
    {
     "data": {
      "text/plain": [
       "True"
      ]
     },
     "execution_count": 183,
     "metadata": {},
     "output_type": "execute_result"
    }
   ],
   "source": [
    "'mike' > 'Mike'"
   ]
  },
  {
   "cell_type": "code",
   "execution_count": 184,
   "id": "5f63997b",
   "metadata": {},
   "outputs": [],
   "source": [
    "# Solución\n",
    "# C"
   ]
  },
  {
   "attachments": {},
   "cell_type": "markdown",
   "id": "0087b4f1",
   "metadata": {},
   "source": [
    "****"
   ]
  },
  {
   "attachments": {},
   "cell_type": "markdown",
   "id": "125ba718",
   "metadata": {},
   "source": [
    "# operadores booleanos"
   ]
  },
  {
   "cell_type": "code",
   "execution_count": null,
   "id": "c78f99f2",
   "metadata": {},
   "outputs": [],
   "source": [
    "## not"
   ]
  },
  {
   "cell_type": "code",
   "execution_count": 185,
   "id": "3f507eb5",
   "metadata": {},
   "outputs": [
    {
     "data": {
      "text/plain": [
       "True"
      ]
     },
     "execution_count": 185,
     "metadata": {},
     "output_type": "execute_result"
    }
   ],
   "source": [
    "x = True\n",
    "x"
   ]
  },
  {
   "cell_type": "code",
   "execution_count": 186,
   "id": "db4141cc",
   "metadata": {},
   "outputs": [
    {
     "data": {
      "text/plain": [
       "False"
      ]
     },
     "execution_count": 186,
     "metadata": {},
     "output_type": "execute_result"
    }
   ],
   "source": [
    "not x"
   ]
  },
  {
   "cell_type": "code",
   "execution_count": null,
   "id": "6f808139",
   "metadata": {},
   "outputs": [],
   "source": [
    "# qué pasa si sumo True con números?"
   ]
  },
  {
   "cell_type": "code",
   "execution_count": 187,
   "id": "1104c2d8",
   "metadata": {},
   "outputs": [
    {
     "data": {
      "text/plain": [
       "3"
      ]
     },
     "execution_count": 187,
     "metadata": {},
     "output_type": "execute_result"
    }
   ],
   "source": [
    "True + 2  # True es 1"
   ]
  },
  {
   "cell_type": "code",
   "execution_count": 188,
   "id": "1658c36d",
   "metadata": {},
   "outputs": [
    {
     "data": {
      "text/plain": [
       "2"
      ]
     },
     "execution_count": 188,
     "metadata": {},
     "output_type": "execute_result"
    }
   ],
   "source": [
    "False + 2  # False es 0"
   ]
  },
  {
   "cell_type": "code",
   "execution_count": 189,
   "id": "0fc3d79e",
   "metadata": {},
   "outputs": [
    {
     "data": {
      "text/plain": [
       "4.5"
      ]
     },
     "execution_count": 189,
     "metadata": {},
     "output_type": "execute_result"
    }
   ],
   "source": [
    "True + 3.5"
   ]
  },
  {
   "cell_type": "code",
   "execution_count": 190,
   "id": "777b7140",
   "metadata": {},
   "outputs": [
    {
     "data": {
      "text/plain": [
       "3.5"
      ]
     },
     "execution_count": 190,
     "metadata": {},
     "output_type": "execute_result"
    }
   ],
   "source": [
    "False + 3.5"
   ]
  },
  {
   "attachments": {},
   "cell_type": "markdown",
   "id": "75045c1f",
   "metadata": {},
   "source": [
    "# and"
   ]
  },
  {
   "cell_type": "code",
   "execution_count": 191,
   "id": "6f7cdb51",
   "metadata": {},
   "outputs": [
    {
     "name": "stdout",
     "output_type": "stream",
     "text": [
      "and: 0 0 0 1\n"
     ]
    }
   ],
   "source": [
    "print('and:', 0&0, 0&1, 1&0, 1&1)"
   ]
  },
  {
   "attachments": {},
   "cell_type": "markdown",
   "id": "d36d5927",
   "metadata": {},
   "source": [
    "# or"
   ]
  },
  {
   "cell_type": "code",
   "execution_count": 192,
   "id": "e3d30d97",
   "metadata": {},
   "outputs": [
    {
     "name": "stdout",
     "output_type": "stream",
     "text": [
      "or: 0 1 1 1\n"
     ]
    }
   ],
   "source": [
    "print('or:', 0|0, 0|1, 1|0, 1|1)"
   ]
  },
  {
   "attachments": {},
   "cell_type": "markdown",
   "id": "6581c849",
   "metadata": {},
   "source": [
    "# XOR (PUERTA LÓGICA)"
   ]
  },
  {
   "cell_type": "code",
   "execution_count": 193,
   "id": "32e3481c",
   "metadata": {},
   "outputs": [
    {
     "name": "stdout",
     "output_type": "stream",
     "text": [
      "XOR: 0 1 1 0\n"
     ]
    }
   ],
   "source": [
    "print('XOR:', 0^0, 0^1, 1^0, 1^1)   \n",
    "\n",
    "# 2^3 (NO ES 2 AL CUBO)\n",
    "# 2**3"
   ]
  },
  {
   "cell_type": "code",
   "execution_count": 194,
   "id": "5314c2fd",
   "metadata": {},
   "outputs": [
    {
     "data": {
      "text/plain": [
       "1"
      ]
     },
     "execution_count": 194,
     "metadata": {},
     "output_type": "execute_result"
    }
   ],
   "source": [
    "2^3   # NO ES 2 AL CUBO!!!"
   ]
  },
  {
   "attachments": {},
   "cell_type": "markdown",
   "id": "474306d7",
   "metadata": {},
   "source": [
    "## ejercicio de examen"
   ]
  },
  {
   "cell_type": "code",
   "execution_count": 195,
   "id": "fbd6bb47",
   "metadata": {},
   "outputs": [
    {
     "name": "stdout",
     "output_type": "stream",
     "text": [
      "1 1\n"
     ]
    }
   ],
   "source": [
    "x = 0\n",
    "y = 1\n",
    "x = x ^ y    # x = 0 ^ 1 => x = 1\n",
    "y = x ^ y    # y = 1 ^ 1 => y = 0\n",
    "y = x ^ y    # y = 1 ^ 0 => y = 1\n",
    "print(x, y)  # x = 1   y = 1"
   ]
  },
  {
   "attachments": {},
   "cell_type": "markdown",
   "id": "72af62aa",
   "metadata": {},
   "source": [
    "# and, or, xor"
   ]
  },
  {
   "cell_type": "code",
   "execution_count": 196,
   "id": "747f7605",
   "metadata": {},
   "outputs": [
    {
     "name": "stdout",
     "output_type": "stream",
     "text": [
      "2\n"
     ]
    }
   ],
   "source": [
    "a = 1                       # => a = 1   \n",
    "b = 0                       # => b = 0\n",
    "c = a & b          # 1 AND 0  => c = 0   # &  # and\n",
    "d = a | b          # 1 OR  0  => d = 1\n",
    "e = a ^ b          # 1 XOR 0  => e = 1\n",
    "\n",
    "print(c + d + e)       # 0 + 1 + 1 = 2"
   ]
  },
  {
   "cell_type": "code",
   "execution_count": null,
   "id": "538683fa",
   "metadata": {},
   "outputs": [],
   "source": [
    "# explicación de algunas cosas, repaso"
   ]
  },
  {
   "cell_type": "code",
   "execution_count": 197,
   "id": "17c10fae",
   "metadata": {},
   "outputs": [
    {
     "data": {
      "text/plain": [
       "False"
      ]
     },
     "execution_count": 197,
     "metadata": {},
     "output_type": "execute_result"
    }
   ],
   "source": [
    "# and, & => y\n",
    "# or, | = ó\n",
    "a = True\n",
    "b = not a\n",
    "b"
   ]
  },
  {
   "attachments": {},
   "cell_type": "markdown",
   "id": "e48ba5e5",
   "metadata": {},
   "source": [
    "****"
   ]
  },
  {
   "attachments": {},
   "cell_type": "markdown",
   "id": "df5b5aff",
   "metadata": {},
   "source": [
    "# True en las sumas"
   ]
  },
  {
   "cell_type": "code",
   "execution_count": 198,
   "id": "f77837f0",
   "metadata": {},
   "outputs": [
    {
     "name": "stdout",
     "output_type": "stream",
     "text": [
      "a: 19\n",
      "b: 10.0\n",
      "TRUE\n"
     ]
    }
   ],
   "source": [
    "w = 7\n",
    "x = 3\n",
    "y = 4\n",
    "z = True           # 1 en las sumas\n",
    "a = w + x * y      # 7 + 3 * 4 => a = 19\n",
    "b = w + x / z      # 7 + 3 / 1 => b = 10.0\n",
    "\n",
    "# b = 7 + 3 / True ====> b = 7 + (3/1) ==> b = 10\n",
    "\n",
    "\n",
    "print('a:', a)\n",
    "print('b:', b)\n",
    "\n",
    "if a > b:\n",
    "    print('TRUE')\n",
    "else:\n",
    "    print('FALSE')"
   ]
  },
  {
   "attachments": {},
   "cell_type": "markdown",
   "id": "5255558f",
   "metadata": {},
   "source": [
    "****"
   ]
  },
  {
   "attachments": {},
   "cell_type": "markdown",
   "id": "bf72aa19",
   "metadata": {},
   "source": [
    "# STRINGS"
   ]
  },
  {
   "cell_type": "code",
   "execution_count": 199,
   "id": "a0091a55",
   "metadata": {},
   "outputs": [
    {
     "data": {
      "text/plain": [
       "'ab'"
      ]
     },
     "execution_count": 199,
     "metadata": {},
     "output_type": "execute_result"
    }
   ],
   "source": [
    "# EJEMPLO 1\n",
    "\n",
    "'a'+'b'"
   ]
  },
  {
   "cell_type": "code",
   "execution_count": 200,
   "id": "577b0b1e",
   "metadata": {},
   "outputs": [
    {
     "data": {
      "text/plain": [
       "'14'"
      ]
     },
     "execution_count": 200,
     "metadata": {},
     "output_type": "execute_result"
    }
   ],
   "source": [
    "# EJEMPLO 2\n",
    "\n",
    "'1'+'4'"
   ]
  },
  {
   "cell_type": "code",
   "execution_count": 201,
   "id": "0c9d2759",
   "metadata": {},
   "outputs": [
    {
     "data": {
      "text/plain": [
       "'14'"
      ]
     },
     "execution_count": 201,
     "metadata": {},
     "output_type": "execute_result"
    }
   ],
   "source": [
    "# EJEMPLO 3\n",
    "\n",
    "str(1) + str(4)   #  str(14)"
   ]
  },
  {
   "cell_type": "code",
   "execution_count": 203,
   "id": "940275ad",
   "metadata": {},
   "outputs": [],
   "source": [
    "## Suma de String + un número: EJEMPLO 4\n",
    "\n",
    "# '1' + 4\n",
    "\n",
    "# TypeError: can only concatenate str (not \"int\") to str"
   ]
  },
  {
   "cell_type": "code",
   "execution_count": 215,
   "id": "0fc38e53",
   "metadata": {},
   "outputs": [
    {
     "data": {
      "text/plain": [
       "'aaaa'"
      ]
     },
     "execution_count": 215,
     "metadata": {},
     "output_type": "execute_result"
    }
   ],
   "source": [
    "## Multiplicación de Strings: EJEMPLO 5\n",
    "\n",
    "4 * 'a'"
   ]
  },
  {
   "attachments": {},
   "cell_type": "markdown",
   "id": "84d32038",
   "metadata": {},
   "source": [
    "****"
   ]
  },
  {
   "attachments": {},
   "cell_type": "markdown",
   "id": "cb5f1121",
   "metadata": {},
   "source": [
    "# VARIABLE GLOBAL y variable local"
   ]
  },
  {
   "cell_type": "code",
   "execution_count": 216,
   "id": "be1212c3",
   "metadata": {},
   "outputs": [
    {
     "name": "stdout",
     "output_type": "stream",
     "text": [
      "1\n"
     ]
    }
   ],
   "source": [
    "v = 1 \n",
    " \n",
    "def fun():\n",
    "    global v   \n",
    "    v = 2      \n",
    "    return v\n",
    " \n",
    "print(v) "
   ]
  },
  {
   "cell_type": "code",
   "execution_count": 217,
   "id": "4af84eef",
   "metadata": {},
   "outputs": [
    {
     "name": "stdout",
     "output_type": "stream",
     "text": [
      "antes de llamar a la función v vale: 1 (print del test)\n",
      "\n",
      "\n",
      "aqui llamo a la función: 2 (antes solo definida)\n",
      "v después de llamar a la función vale: 2 (v es global)\n"
     ]
    }
   ],
   "source": [
    "# explicación 1\n",
    "\n",
    "v = 1 \n",
    " \n",
    "def fun():\n",
    "    global v   \n",
    "    v = 2     \n",
    "    return v\n",
    " \n",
    "print('antes de llamar a la función v vale:', v, '(print del test)')\n",
    "print(\"\\n\")\n",
    "print('aqui llamo a la función:' ,fun(), '(antes solo definida)')\n",
    "print('v después de llamar a la función vale:', v, '(v es global)') "
   ]
  },
  {
   "cell_type": "code",
   "execution_count": 218,
   "id": "75c9452c",
   "metadata": {},
   "outputs": [
    {
     "name": "stdout",
     "output_type": "stream",
     "text": [
      "antes de llamar a la función v vale: 1 (print del test)\n",
      "\n",
      "\n",
      "aqui llamo a la función: 2 (antes solo definida)\n",
      "v después de llamar a la función vale: 1 (v es local)\n"
     ]
    }
   ],
   "source": [
    "# explicación 2\n",
    "\n",
    "v = 1 \n",
    " \n",
    "def fun():  \n",
    "    v = 2     \n",
    "    return v\n",
    " \n",
    "print('antes de llamar a la función v vale:', v, '(print del test)')\n",
    "print(\"\\n\")\n",
    "print('aqui llamo a la función:' ,fun(), '(antes solo definida)')\n",
    "print('v después de llamar a la función vale:', v, '(v es local)')"
   ]
  },
  {
   "attachments": {},
   "cell_type": "markdown",
   "id": "239ed85c",
   "metadata": {},
   "source": [
    "****"
   ]
  },
  {
   "attachments": {},
   "cell_type": "markdown",
   "id": "65bb2b9a",
   "metadata": {},
   "source": [
    "# LENGUAJES INTERPRETADOS"
   ]
  },
  {
   "cell_type": "code",
   "execution_count": null,
   "id": "e6667133",
   "metadata": {},
   "outputs": [],
   "source": [
    "# https://www.freecodecamp.org/espanol/news/lenguajes-compilados-vs-interpretados/\n",
    "\n",
    "# https://aulab.es/noticia/18/diferencia-entre-lenguajes-de-programacion-compilados-e-interpretados"
   ]
  },
  {
   "attachments": {},
   "cell_type": "markdown",
   "id": "2df9b972",
   "metadata": {},
   "source": [
    "****"
   ]
  },
  {
   "attachments": {},
   "cell_type": "markdown",
   "id": "17f89fbd",
   "metadata": {},
   "source": [
    "# ejemplo if elif elif .. else"
   ]
  },
  {
   "cell_type": "code",
   "execution_count": null,
   "id": "6eb866bd",
   "metadata": {},
   "outputs": [],
   "source": [
    "# conversor de notas\n",
    "\n",
    "# 1: 90 through 100 -> A\n",
    "# 2: 80 through  89 -> B\n",
    "# 3: 70 through  79 -> C\n",
    "# 4: 65 through  69 -> D\n",
    "# 5:  0 through  64 -> F"
   ]
  },
  {
   "attachments": {},
   "cell_type": "markdown",
   "id": "56d3f21e",
   "metadata": {},
   "source": [
    "**forma 1**"
   ]
  },
  {
   "cell_type": "code",
   "execution_count": 220,
   "id": "e8d89fd5",
   "metadata": {},
   "outputs": [
    {
     "name": "stdin",
     "output_type": "stream",
     "text": [
      "Enter a numeric grade: 75\n"
     ]
    },
    {
     "name": "stdout",
     "output_type": "stream",
     "text": [
      "Your letter grade is: C\n"
     ]
    }
   ],
   "source": [
    "# Letter Grade Converter\n",
    "grade = int(input('Enter a numeric grade:'))\n",
    "if grade >= 90:    \n",
    "    letter_grade = 'A'\n",
    "elif grade >= 80:  \n",
    "    letter_grade = 'B'\n",
    "elif grade >= 70:  \n",
    "    letter_grade = 'C'\n",
    "elif grade >= 65:  \n",
    "    letter_grade = 'D'\n",
    "else:\n",
    "    letter_grade = 'F'\n",
    "print('Your letter grade is:', letter_grade)"
   ]
  },
  {
   "attachments": {},
   "cell_type": "markdown",
   "id": "67e0b81b",
   "metadata": {},
   "source": [
    "**forma 2: en pocas líneas**"
   ]
  },
  {
   "cell_type": "code",
   "execution_count": 221,
   "id": "5f977fd4",
   "metadata": {},
   "outputs": [
    {
     "name": "stdin",
     "output_type": "stream",
     "text": [
      "Enter a numeric grade: 75\n"
     ]
    },
    {
     "name": "stdout",
     "output_type": "stream",
     "text": [
      "Your letter grade is: C\n"
     ]
    }
   ],
   "source": [
    "# Letter Grade Converter\n",
    "grade = int(input('Enter a numeric grade:'))\n",
    "if grade >= 90:    letter_grade = 'A'\n",
    "elif grade >= 80:  letter_grade = 'B'\n",
    "elif grade >= 70:  letter_grade = 'C'\n",
    "elif grade >= 65:  letter_grade = 'D'\n",
    "else:              letter_grade = 'F'\n",
    "print('Your letter grade is:', letter_grade)"
   ]
  },
  {
   "attachments": {},
   "cell_type": "markdown",
   "id": "26588137",
   "metadata": {},
   "source": [
    "****"
   ]
  },
  {
   "attachments": {},
   "cell_type": "markdown",
   "id": "70169477",
   "metadata": {},
   "source": [
    "# ejemplo con continue"
   ]
  },
  {
   "cell_type": "code",
   "execution_count": null,
   "id": "9e18094a",
   "metadata": {},
   "outputs": [],
   "source": [
    "# Which one of the lines should you put in the snippet below to match the expected output?\n",
    "\n",
    "\n",
    "# Expected output:\n",
    "\n",
    "# 1245\n",
    "\n",
    "\n",
    "# Code:\n",
    "\n",
    "# c = 0\n",
    "# while c < 5:\n",
    "#     c = c + 1\n",
    "#     if c == 3:\n",
    "#         # enter code here\n",
    "#     print(c, end=\"\")\n",
    "\n",
    "# A. exit\n",
    "# B. continue\n",
    "# C. print()\n",
    "# D. break"
   ]
  },
  {
   "cell_type": "code",
   "execution_count": 222,
   "id": "3b98fbae",
   "metadata": {},
   "outputs": [
    {
     "name": "stdout",
     "output_type": "stream",
     "text": [
      "1245"
     ]
    }
   ],
   "source": [
    "c = 0\n",
    "while c < 5:\n",
    "    c = c + 1\n",
    "    if c == 3:\n",
    "        continue\n",
    "    print(c, end=\"\")"
   ]
  },
  {
   "attachments": {},
   "cell_type": "markdown",
   "id": "31f3b277",
   "metadata": {},
   "source": [
    "****"
   ]
  },
  {
   "attachments": {},
   "cell_type": "markdown",
   "id": "eb5f966d",
   "metadata": {},
   "source": [
    "# Bucles en una linea"
   ]
  },
  {
   "cell_type": "code",
   "execution_count": 223,
   "id": "d3acfc20",
   "metadata": {},
   "outputs": [
    {
     "name": "stdout",
     "output_type": "stream",
     "text": [
      "True\n"
     ]
    }
   ],
   "source": [
    "x =15 \n",
    "\n",
    "if x > 10:\n",
    "    print(True)\n",
    "else:\n",
    "    print(False)"
   ]
  },
  {
   "cell_type": "code",
   "execution_count": 224,
   "id": "acbd3218",
   "metadata": {},
   "outputs": [
    {
     "name": "stdout",
     "output_type": "stream",
     "text": [
      "True\n"
     ]
    }
   ],
   "source": [
    "x = 15\n",
    "mayor_10 = True if x > 10 else False\n",
    "\n",
    "print(mayor_10)"
   ]
  },
  {
   "attachments": {},
   "cell_type": "markdown",
   "id": "d7b3e082",
   "metadata": {},
   "source": [
    "****"
   ]
  },
  {
   "attachments": {},
   "cell_type": "markdown",
   "id": "d6d65376",
   "metadata": {},
   "source": [
    "# Caso del if elif\n",
    "\n",
    "**solo ejecuta la primera sentencia correcta que encuentra**"
   ]
  },
  {
   "cell_type": "code",
   "execution_count": 225,
   "id": "07803b44",
   "metadata": {},
   "outputs": [],
   "source": [
    "def funcion_if(x):\n",
    "    if x > 9:    print('numero:', x, ', evaluamos: x > 9')\n",
    "    elif x > 7:  print('numero:', x, ', evaluamos: x > 7')\n",
    "    elif x > 5:  print('numero:', x, ', evaluamos: x > 5')\n",
    "    else:        print('numero:', x, ', evaluamos: else')"
   ]
  },
  {
   "cell_type": "code",
   "execution_count": 226,
   "id": "0b7367b4",
   "metadata": {},
   "outputs": [
    {
     "name": "stdout",
     "output_type": "stream",
     "text": [
      "numero: 10 , evaluamos: x > 9\n"
     ]
    }
   ],
   "source": [
    "funcion_if(10)"
   ]
  },
  {
   "cell_type": "code",
   "execution_count": 227,
   "id": "5e07e987",
   "metadata": {},
   "outputs": [
    {
     "name": "stdout",
     "output_type": "stream",
     "text": [
      "numero: 8 , evaluamos: x > 7\n"
     ]
    }
   ],
   "source": [
    "funcion_if(8)"
   ]
  },
  {
   "cell_type": "code",
   "execution_count": 228,
   "id": "6619cf66",
   "metadata": {},
   "outputs": [
    {
     "name": "stdout",
     "output_type": "stream",
     "text": [
      "numero: 6 , evaluamos: x > 5\n"
     ]
    }
   ],
   "source": [
    "funcion_if(6)"
   ]
  },
  {
   "cell_type": "code",
   "execution_count": 229,
   "id": "987ca38a",
   "metadata": {},
   "outputs": [
    {
     "name": "stdout",
     "output_type": "stream",
     "text": [
      "numero: 4 , evaluamos: else\n"
     ]
    }
   ],
   "source": [
    "funcion_if(4)"
   ]
  },
  {
   "attachments": {},
   "cell_type": "markdown",
   "id": "720d1dc8",
   "metadata": {},
   "source": [
    "****"
   ]
  },
  {
   "cell_type": "markdown",
   "id": "3072eb9f-cde3-4a0b-9739-37a162cfd70a",
   "metadata": {},
   "source": [
    "# While...Else, For...Else"
   ]
  },
  {
   "cell_type": "markdown",
   "id": "74e04902-3e22-4807-9e8c-de915ebb0bd4",
   "metadata": {},
   "source": [
    "Podemos encontrarnos que después de un bucle **for** aparece asociado un **else**, también ocurre en el caso de **while**, en ambos casos lo que haya en el else se ejecuta siempre al final **for** o **while**. Veamos algunos ejemplos:"
   ]
  },
  {
   "cell_type": "markdown",
   "id": "9f49bc24-c46a-44a8-b73d-34491f3db299",
   "metadata": {},
   "source": [
    "## Ejemplo 1: for...else"
   ]
  },
  {
   "cell_type": "code",
   "execution_count": 235,
   "id": "8533021f-e6fd-47eb-b152-a3c406dbcf4f",
   "metadata": {},
   "outputs": [
    {
     "name": "stdout",
     "output_type": "stream",
     "text": [
      "4\n"
     ]
    }
   ],
   "source": [
    "# ¿ Cuál será el valor de x?\n",
    "\n",
    "x  = 0\n",
    "\n",
    "for j in range(2): # posibilidades de 0, 1\n",
    "    for i in range(2): # posibilidades de 0, 1\n",
    "        if i == j:\n",
    "            x += 1\n",
    "    else:\n",
    "        x += 1\n",
    "\n",
    "    # Primera vuelta se compara el 0  de j con las opciones de i que son 0, 1\n",
    "    # j=0, i=0 --> i == j -- x = 0 + 1 --> x = 1\n",
    "    # j=0, i=1 --> i != j --> x = 1\n",
    "    # Acaba la primera vuelta y entra en el else: x = 1 + 1 --> x = 2\n",
    "\n",
    "    # Segunda vuelta compara el 1 de j con las opciones de i que son 0, 1\n",
    "    # j=1, i=0 --> i != j --> x = 2\n",
    "    # j=1, i=1 --> i == j --> x = 2 + 1 --> x = 3\n",
    "    # Acaba la Segunda vuelta y entra en el else: x = 3 + 1 --> x = 4\n",
    "\n",
    "    # resultado: 4\n",
    "print(x)\n",
    "\n",
    "# A. 2\n",
    "# B. 1\n",
    "# C. 4\n",
    "# D. 5\n",
    "\n",
    "# Solución: C"
   ]
  },
  {
   "cell_type": "markdown",
   "id": "68266e62-24ec-4be8-8b30-eea59a545ad6",
   "metadata": {},
   "source": [
    "## Ejemplo 2: for...else"
   ]
  },
  {
   "cell_type": "code",
   "execution_count": 236,
   "id": "fa329ced-6460-48ca-9bc9-4141c07c2645",
   "metadata": {},
   "outputs": [
    {
     "name": "stdout",
     "output_type": "stream",
     "text": [
      "3\n"
     ]
    }
   ],
   "source": [
    "# ¿Cuál será el valor de x en el siguiente código?\n",
    "\n",
    "x = 0\n",
    "\n",
    "for i in range(4): # 0, 1, 2, 3\n",
    "    if 2 * i < 4:\n",
    "        x += 1\n",
    "    # i = 0 --> 2 * 0 < 4 --> x = 0 + 1 --> x = 1\n",
    "    # i = 1 --> 2 * 1 < 4 --> x = 1 + 1 --> x = 2\n",
    "    # i = 2 --> 2 * 2 < 4 --> No se cumple se para!!\n",
    "else:\n",
    "    x += 1\n",
    "    # x = 2 --> x = 2 + 1 --> x = 3\n",
    "\n",
    "# Resultado: 3\n",
    "print(x)\n",
    "\n",
    "# A. 2\n",
    "# B. 3\n",
    "# C. Error en el código\n",
    "# D. 5\n",
    "\n",
    "# Solución: B"
   ]
  },
  {
   "cell_type": "markdown",
   "id": "80074bae-7295-40ce-a062-10cface2d370",
   "metadata": {},
   "source": [
    "## Ejemplo 3: While...else"
   ]
  },
  {
   "cell_type": "code",
   "execution_count": null,
   "id": "636770b0-d580-469d-b916-897f7ef74166",
   "metadata": {},
   "outputs": [],
   "source": [
    "# ¿Cuántos '#' mostrá el siguiente código?\n",
    "\n",
    "# x = 0\n",
    "# while x < 30: # 0 < 30 \n",
    "#    x *= 2 # x = 0 * 2 = 0 --> Siempre será 0!!!!\n",
    "#    if x > 10:\n",
    "#        continue\n",
    "#    print(\"#\") # Imprime #\n",
    "# else:\n",
    "#    print(\"#\")\n",
    "\n",
    "# A. 2\n",
    "# B. Bucle infinito\n",
    "# C. 4\n",
    "# D. Error de código\n",
    "\n",
    "# Solución: B"
   ]
  },
  {
   "cell_type": "markdown",
   "id": "7f01ff9c-207e-4785-8115-279ceca0e8e7",
   "metadata": {},
   "source": [
    "## Ejemplo 4: while...else"
   ]
  },
  {
   "cell_type": "code",
   "execution_count": 237,
   "id": "7266eeac-130a-4147-afd8-559938529213",
   "metadata": {},
   "outputs": [
    {
     "name": "stdout",
     "output_type": "stream",
     "text": [
      "#\n"
     ]
    }
   ],
   "source": [
    "# ¿Cuántos '#' mostrá el siguiente código?\n",
    "\n",
    "x = 0\n",
    "\n",
    "while x != 0: # 0 != 0 --> no se cumple NO ENTRA!!!!\n",
    "    x -= 1\n",
    "    print(\"#\", end='')\n",
    "else:\n",
    "    print(\"#\") # Sólo imprime 1!!!\n",
    "\n",
    "# A. 1\n",
    "# B. Bucle infinito\n",
    "# C. 4\n",
    "# D. Error de código\n",
    "\n",
    "# Solución: A"
   ]
  },
  {
   "cell_type": "markdown",
   "id": "5660b65f-4423-4d45-a4f8-0b0b984fcb37",
   "metadata": {},
   "source": [
    "## Ejemplo 5: while...con break ...else"
   ]
  },
  {
   "cell_type": "code",
   "execution_count": 238,
   "id": "fac2611d-dacd-4550-873f-8bc327d8bafc",
   "metadata": {},
   "outputs": [
    {
     "name": "stdout",
     "output_type": "stream",
     "text": [
      "*\n"
     ]
    }
   ],
   "source": [
    "i = 4\n",
    "\n",
    "while i > 0:\n",
    "    i -= 2      # i = i - 2\n",
    "    print('*')  # *\n",
    "    if i == 2:  # cumple la condición\n",
    "        break   # se sale\n",
    "else:\n",
    "    print('*')"
   ]
  },
  {
   "cell_type": "markdown",
   "id": "e46f3fdf-7438-4ff6-b895-f05e5c04b7fd",
   "metadata": {},
   "source": [
    "En este caso el bucle while se para y el else no se ejecutaría!!!"
   ]
  },
  {
   "attachments": {},
   "cell_type": "markdown",
   "id": "45f34e2d-ee7f-430f-9075-cb0306db8698",
   "metadata": {},
   "source": [
    "****"
   ]
  },
  {
   "cell_type": "markdown",
   "id": "3f1ac5b0-11a0-43ae-a5a5-2c7abbf681f1",
   "metadata": {},
   "source": [
    "# Lambda"
   ]
  },
  {
   "cell_type": "code",
   "execution_count": 239,
   "id": "0f4f37c1-291f-4d85-94e3-72ae844be8cf",
   "metadata": {},
   "outputs": [
    {
     "data": {
      "text/plain": [
       "12"
      ]
     },
     "execution_count": 239,
     "metadata": {},
     "output_type": "execute_result"
    }
   ],
   "source": [
    "def funcion_1(x, y):\n",
    "    return x * y\n",
    "\n",
    "funcion_1(4, 3)"
   ]
  },
  {
   "cell_type": "code",
   "execution_count": 240,
   "id": "a1e9e91a-f318-4481-b1f5-dc233e63a717",
   "metadata": {},
   "outputs": [
    {
     "data": {
      "text/plain": [
       "12"
      ]
     },
     "execution_count": 240,
     "metadata": {},
     "output_type": "execute_result"
    }
   ],
   "source": [
    "(lambda x, y: x * y)(4, 3)"
   ]
  },
  {
   "cell_type": "code",
   "execution_count": 241,
   "id": "b0f18fc3-6d88-44ba-a0eb-4081ed6d3ec4",
   "metadata": {},
   "outputs": [
    {
     "data": {
      "text/plain": [
       "12"
      ]
     },
     "execution_count": 241,
     "metadata": {},
     "output_type": "execute_result"
    }
   ],
   "source": [
    "funcion_lambda = lambda x, y: x * y\n",
    "\n",
    "funcion_lambda(4,3)"
   ]
  },
  {
   "attachments": {},
   "cell_type": "markdown",
   "id": "4c631cce-c4fb-4762-8121-36816713d956",
   "metadata": {},
   "source": [
    "****"
   ]
  },
  {
   "cell_type": "markdown",
   "id": "ebe0c103-255c-4cff-ab90-3c80f9b99755",
   "metadata": {},
   "source": [
    "# List comprehension"
   ]
  },
  {
   "cell_type": "code",
   "execution_count": 242,
   "id": "e0719e02-3b6a-4f84-9c3c-1daa1b27d7e2",
   "metadata": {},
   "outputs": [
    {
     "data": {
      "text/plain": [
       "[10, 41, 45, 75, 87, 5]"
      ]
     },
     "execution_count": 242,
     "metadata": {},
     "output_type": "execute_result"
    }
   ],
   "source": [
    "listado = []\n",
    "lista_inicial = [10, 41, 45, 75, 87, 5]\n",
    "\n",
    "for i in lista_inicial:\n",
    "    listado.append(i)\n",
    "listado"
   ]
  },
  {
   "cell_type": "code",
   "execution_count": 243,
   "id": "7ad20d14-0212-453a-82bf-9655473a54b5",
   "metadata": {},
   "outputs": [
    {
     "data": {
      "text/plain": [
       "[10, 41, 45, 75, 87, 5]"
      ]
     },
     "execution_count": 243,
     "metadata": {},
     "output_type": "execute_result"
    }
   ],
   "source": [
    "lista_inicial = [10, 41, 45, 75, 87, 5]\n",
    "\n",
    "[i for i in lista_inicial]"
   ]
  },
  {
   "cell_type": "code",
   "execution_count": 244,
   "id": "21abad8f-0001-4c55-b8c3-36eb196a56ff",
   "metadata": {},
   "outputs": [
    {
     "data": {
      "text/plain": [
       "[-1, -1, 45, 75, 87, -1]"
      ]
     },
     "execution_count": 244,
     "metadata": {},
     "output_type": "execute_result"
    }
   ],
   "source": [
    "listado = []\n",
    "lista_inicial = [10, 41, 45, 75, 87, 5]\n",
    "\n",
    "for i in lista_inicial:\n",
    "    if i >= 45:\n",
    "        listado.append(i)\n",
    "    else: \n",
    "        listado.append(-1)\n",
    "listado"
   ]
  },
  {
   "cell_type": "code",
   "execution_count": 245,
   "id": "55255ab5-57b7-44e3-a205-99030a98a733",
   "metadata": {},
   "outputs": [
    {
     "data": {
      "text/plain": [
       "[-1, -1, 45, 75, 87, -1]"
      ]
     },
     "execution_count": 245,
     "metadata": {},
     "output_type": "execute_result"
    }
   ],
   "source": [
    "lista_inicial = [10, 41, 45, 75, 87, 5]\n",
    "\n",
    "listado = [i if i >= 45 else -1 for i in lista_inicial]\n",
    "listado"
   ]
  },
  {
   "attachments": {},
   "cell_type": "markdown",
   "id": "cebd70f5-57ef-426b-8610-ad70a67e46ca",
   "metadata": {},
   "source": [
    "****"
   ]
  },
  {
   "cell_type": "markdown",
   "id": "1f30a743-8e0f-42fc-9c09-0bb265d6d6d7",
   "metadata": {},
   "source": [
    "# Diccionarios"
   ]
  },
  {
   "cell_type": "code",
   "execution_count": 246,
   "id": "29d9a66b-9adc-4e0a-a402-306ad4b33a4f",
   "metadata": {},
   "outputs": [
    {
     "data": {
      "text/plain": [
       "{'clave1': 4, 'clave2': 8, 'clave3': 10}"
      ]
     },
     "execution_count": 246,
     "metadata": {},
     "output_type": "execute_result"
    }
   ],
   "source": [
    "diccionario = {\"clave1\": 4, \"clave2\": 8, \"clave3\": 10}\n",
    "diccionario"
   ]
  },
  {
   "cell_type": "code",
   "execution_count": 247,
   "id": "ebb33a84-d827-4cac-a86d-dc9a6001fdb1",
   "metadata": {},
   "outputs": [
    {
     "data": {
      "text/plain": [
       "dict_keys(['clave1', 'clave2', 'clave3'])"
      ]
     },
     "execution_count": 247,
     "metadata": {},
     "output_type": "execute_result"
    }
   ],
   "source": [
    "diccionario.keys()"
   ]
  },
  {
   "cell_type": "code",
   "execution_count": 248,
   "id": "026116fe-c764-4c65-9510-f2598908018a",
   "metadata": {},
   "outputs": [
    {
     "data": {
      "text/plain": [
       "dict_keys"
      ]
     },
     "execution_count": 248,
     "metadata": {},
     "output_type": "execute_result"
    }
   ],
   "source": [
    "type(diccionario.keys())"
   ]
  },
  {
   "cell_type": "code",
   "execution_count": 249,
   "id": "72297c35-2f86-49a0-9536-a0ec1434a7b4",
   "metadata": {},
   "outputs": [
    {
     "name": "stdout",
     "output_type": "stream",
     "text": [
      "clave1 clave2 clave3 "
     ]
    }
   ],
   "source": [
    "for key in diccionario.keys():\n",
    "    print(key, end=' ')"
   ]
  },
  {
   "cell_type": "code",
   "execution_count": 250,
   "id": "a0054afc-2424-4b43-b289-5b1d174b72f8",
   "metadata": {},
   "outputs": [
    {
     "data": {
      "text/plain": [
       "dict_values([4, 8, 10])"
      ]
     },
     "execution_count": 250,
     "metadata": {},
     "output_type": "execute_result"
    }
   ],
   "source": [
    "diccionario.values()"
   ]
  },
  {
   "cell_type": "code",
   "execution_count": 251,
   "id": "95c215d9-c738-45bf-86ac-7ec2e1141f71",
   "metadata": {},
   "outputs": [
    {
     "data": {
      "text/plain": [
       "dict_values"
      ]
     },
     "execution_count": 251,
     "metadata": {},
     "output_type": "execute_result"
    }
   ],
   "source": [
    "type(diccionario.values())"
   ]
  },
  {
   "cell_type": "code",
   "execution_count": 252,
   "id": "7a0235bc-f76d-48b7-ac83-cd29d31ebc95",
   "metadata": {},
   "outputs": [
    {
     "name": "stdout",
     "output_type": "stream",
     "text": [
      "4 8 10 "
     ]
    }
   ],
   "source": [
    "for value in diccionario.values():\n",
    "    print(value, end= ' ')"
   ]
  },
  {
   "cell_type": "code",
   "execution_count": 253,
   "id": "42200b28-7385-4902-a348-f1a05048451f",
   "metadata": {},
   "outputs": [
    {
     "data": {
      "text/plain": [
       "dict_items([('clave1', 4), ('clave2', 8), ('clave3', 10)])"
      ]
     },
     "execution_count": 253,
     "metadata": {},
     "output_type": "execute_result"
    }
   ],
   "source": [
    "diccionario.items()"
   ]
  },
  {
   "cell_type": "code",
   "execution_count": 254,
   "id": "32acee93-5af8-4083-b558-d55688ae2c01",
   "metadata": {},
   "outputs": [
    {
     "data": {
      "text/plain": [
       "dict_items"
      ]
     },
     "execution_count": 254,
     "metadata": {},
     "output_type": "execute_result"
    }
   ],
   "source": [
    "type(diccionario.items())"
   ]
  },
  {
   "cell_type": "code",
   "execution_count": 255,
   "id": "b3e91248-f3db-4d8d-a8cd-776a6908b2cf",
   "metadata": {},
   "outputs": [
    {
     "name": "stdout",
     "output_type": "stream",
     "text": [
      "clave1 4 clave2 8 clave3 10 "
     ]
    }
   ],
   "source": [
    "for key, value in diccionario.items():\n",
    "    print(key, value, end=' ')"
   ]
  },
  {
   "cell_type": "code",
   "execution_count": 256,
   "id": "7725e78d-9fd1-4d08-93bb-6e467a8873bd",
   "metadata": {},
   "outputs": [
    {
     "name": "stdout",
     "output_type": "stream",
     "text": [
      "4\n",
      "8\n",
      "10\n"
     ]
    }
   ],
   "source": [
    "for i in diccionario:\n",
    "    print(diccionario[i])"
   ]
  },
  {
   "cell_type": "code",
   "execution_count": 257,
   "id": "c85abe4c-608d-4111-a611-1f0a5fcb2d9d",
   "metadata": {},
   "outputs": [
    {
     "data": {
      "text/plain": [
       "{'clave1': 4, 'clave2': 8, 'clave3': 10}"
      ]
     },
     "execution_count": 257,
     "metadata": {},
     "output_type": "execute_result"
    }
   ],
   "source": [
    "claves = [\"clave1\", \"clave2\", \"clave3\"]\n",
    "valores = [4, 8, 10]\n",
    "\n",
    "diccionario2 = dict(zip(claves, valores))\n",
    "diccionario2"
   ]
  },
  {
   "cell_type": "code",
   "execution_count": 258,
   "id": "c2d5ba4a-3878-47f3-b766-f87474aa08c1",
   "metadata": {},
   "outputs": [
    {
     "data": {
      "text/plain": [
       "[('clave1', 4), ('clave2', 8), ('clave3', 10)]"
      ]
     },
     "execution_count": 258,
     "metadata": {},
     "output_type": "execute_result"
    }
   ],
   "source": [
    "claves = [\"clave1\", \"clave2\", \"clave3\"]\n",
    "valores = [4, 8, 10]\n",
    "\n",
    "listado = list(zip(claves, valores))\n",
    "listado"
   ]
  },
  {
   "attachments": {},
   "cell_type": "markdown",
   "id": "6934e2db-5479-4ef8-ac73-06c38df7538a",
   "metadata": {},
   "source": [
    "****"
   ]
  },
  {
   "cell_type": "markdown",
   "id": "e70919d4-c4a7-4f85-87e9-ad7c42a02420",
   "metadata": {},
   "source": [
    "# Prints"
   ]
  },
  {
   "cell_type": "code",
   "execution_count": 259,
   "id": "404732e3-a18a-4945-8785-0db3600e0403",
   "metadata": {},
   "outputs": [
    {
     "data": {
      "text/plain": [
       "1"
      ]
     },
     "execution_count": 259,
     "metadata": {},
     "output_type": "execute_result"
    }
   ],
   "source": [
    "# Jupyter no necesitamos añadir el print:\n",
    "\n",
    "x = 1\n",
    "x"
   ]
  },
  {
   "cell_type": "code",
   "execution_count": 260,
   "id": "e1247d09-f576-4f11-a0c3-c50f8a8493a8",
   "metadata": {},
   "outputs": [
    {
     "name": "stdout",
     "output_type": "stream",
     "text": [
      "1\n",
      "2\n"
     ]
    }
   ],
   "source": [
    "# Jupyter en el caso de tener más de una variable usaremos la función print:\n",
    "\n",
    "x = 1\n",
    "y = 2\n",
    "print(x)\n",
    "print(y)"
   ]
  },
  {
   "cell_type": "code",
   "execution_count": 261,
   "id": "e276f9c0-90dc-4f26-b4fb-50db4683afd1",
   "metadata": {},
   "outputs": [
    {
     "name": "stdout",
     "output_type": "stream",
     "text": [
      "1\n"
     ]
    }
   ],
   "source": [
    "# VSC si necesitamos usar print:\n",
    "\n",
    "x = 1\n",
    "print(x)"
   ]
  },
  {
   "cell_type": "code",
   "execution_count": 263,
   "id": "14f2d6c2-fc90-4378-8933-6489faf6f320",
   "metadata": {},
   "outputs": [
    {
     "name": "stdout",
     "output_type": "stream",
     "text": [
      "La suma de 1 más 2 es 3\n"
     ]
    }
   ],
   "source": [
    "z = x + y\n",
    "print(\"La suma de \" + str(x) + \" más \" + str(y) + \" es \" + str(z))"
   ]
  },
  {
   "cell_type": "code",
   "execution_count": 264,
   "id": "cc0991f6-02d7-4e43-bc92-00e12933004c",
   "metadata": {},
   "outputs": [
    {
     "name": "stdout",
     "output_type": "stream",
     "text": [
      "La suma de 1 más 2 es 3\n"
     ]
    }
   ],
   "source": [
    "print(f\"La suma de {x} más {y} es {z}\")"
   ]
  },
  {
   "cell_type": "code",
   "execution_count": 265,
   "id": "668977e1-8917-4a55-9dd7-c80dafdd8a37",
   "metadata": {},
   "outputs": [
    {
     "name": "stdout",
     "output_type": "stream",
     "text": [
      "La suma de 1 más 2 es 3\n"
     ]
    }
   ],
   "source": [
    "print(\"La suma de %s más %s es %s\" %(x, y, z))"
   ]
  },
  {
   "cell_type": "code",
   "execution_count": 266,
   "id": "039fff13-6217-41dd-b694-52c8bd48b772",
   "metadata": {},
   "outputs": [
    {
     "name": "stdout",
     "output_type": "stream",
     "text": [
      "La suma de 1 más 2 es 3\n"
     ]
    }
   ],
   "source": [
    "print(\"La suma de {} más {} es {}\".format(x, y, z))"
   ]
  },
  {
   "cell_type": "code",
   "execution_count": 267,
   "id": "2f10827d-ac1b-4647-92fd-791969fe57ff",
   "metadata": {},
   "outputs": [
    {
     "name": "stdout",
     "output_type": "stream",
     "text": [
      "La suma de  1  más  2  es  3\n"
     ]
    }
   ],
   "source": [
    "print(\"La suma de \", x, \" más \", y, \" es \" , z)"
   ]
  },
  {
   "attachments": {},
   "cell_type": "markdown",
   "id": "90a26d2c-fa37-4b0f-b8bb-5c3b9200b237",
   "metadata": {},
   "source": [
    "****"
   ]
  },
  {
   "cell_type": "markdown",
   "id": "cc4a8cc6-221d-4d72-a799-57f096cef5f4",
   "metadata": {},
   "source": [
    "# Set"
   ]
  },
  {
   "cell_type": "code",
   "execution_count": 268,
   "id": "4d7e1a36-7372-448a-b7d8-99c731928403",
   "metadata": {},
   "outputs": [
    {
     "data": {
      "text/plain": [
       "[1, 5, 7, 98, 74, 65, 14, 1, 4, 5, 98, 74]"
      ]
     },
     "execution_count": 268,
     "metadata": {},
     "output_type": "execute_result"
    }
   ],
   "source": [
    "numeros = [\n",
    "            1, 5, 7, \n",
    "            98, 74, 65, \n",
    "            14, 1, 4, \n",
    "            5, 98, 74\n",
    "]\n",
    "numeros"
   ]
  },
  {
   "cell_type": "code",
   "execution_count": 269,
   "id": "55a9de66-add5-4a7d-9fde-3c6eba72f550",
   "metadata": {},
   "outputs": [
    {
     "data": {
      "text/plain": [
       "{1, 4, 5, 7, 14, 65, 74, 98}"
      ]
     },
     "execution_count": 269,
     "metadata": {},
     "output_type": "execute_result"
    }
   ],
   "source": [
    "numeros = set(numeros)\n",
    "numeros"
   ]
  },
  {
   "cell_type": "code",
   "execution_count": 270,
   "id": "8480046b-79a5-4c66-94b7-1a1fcf00a45e",
   "metadata": {},
   "outputs": [
    {
     "ename": "AttributeError",
     "evalue": "'set' object has no attribute 'append'",
     "output_type": "error",
     "traceback": [
      "\u001b[31m---------------------------------------------------------------------------\u001b[39m",
      "\u001b[31mAttributeError\u001b[39m                            Traceback (most recent call last)",
      "\u001b[36mCell\u001b[39m\u001b[36m \u001b[39m\u001b[32mIn[270]\u001b[39m\u001b[32m, line 1\u001b[39m\n\u001b[32m----> \u001b[39m\u001b[32m1\u001b[39m \u001b[43mnumeros\u001b[49m\u001b[43m.\u001b[49m\u001b[43mappend\u001b[49m(\u001b[32m6\u001b[39m)\n",
      "\u001b[31mAttributeError\u001b[39m: 'set' object has no attribute 'append'"
     ]
    }
   ],
   "source": [
    "numeros.append(6)"
   ]
  },
  {
   "cell_type": "code",
   "execution_count": 271,
   "id": "9f7d45db-0319-47b3-8211-d6912d917993",
   "metadata": {},
   "outputs": [
    {
     "ename": "TypeError",
     "evalue": "'set' object does not support item assignment",
     "output_type": "error",
     "traceback": [
      "\u001b[31m---------------------------------------------------------------------------\u001b[39m",
      "\u001b[31mTypeError\u001b[39m                                 Traceback (most recent call last)",
      "\u001b[36mCell\u001b[39m\u001b[36m \u001b[39m\u001b[32mIn[271]\u001b[39m\u001b[32m, line 1\u001b[39m\n\u001b[32m----> \u001b[39m\u001b[32m1\u001b[39m \u001b[43mnumeros\u001b[49m\u001b[43m[\u001b[49m\u001b[32;43m0\u001b[39;49m\u001b[43m]\u001b[49m = \u001b[32m6\u001b[39m\n\u001b[32m      2\u001b[39m numeros\n",
      "\u001b[31mTypeError\u001b[39m: 'set' object does not support item assignment"
     ]
    }
   ],
   "source": [
    "numeros[0] = 6\n",
    "numeros"
   ]
  },
  {
   "cell_type": "code",
   "execution_count": 272,
   "id": "1d271943-81a8-41b9-926a-a20c16e17082",
   "metadata": {},
   "outputs": [
    {
     "data": {
      "text/plain": [
       "[1, 98, 65, 4, 5, 7, 74, 14]"
      ]
     },
     "execution_count": 272,
     "metadata": {},
     "output_type": "execute_result"
    }
   ],
   "source": [
    "numeros = list(numeros)\n",
    "numeros"
   ]
  },
  {
   "cell_type": "code",
   "execution_count": 276,
   "id": "4c63291d-afbc-45b1-a8d9-ef3f56a2164e",
   "metadata": {},
   "outputs": [
    {
     "data": {
      "text/plain": [
       "[1, 4, 5, 7, 14, 65, 74, 98]"
      ]
     },
     "execution_count": 276,
     "metadata": {},
     "output_type": "execute_result"
    }
   ],
   "source": [
    "numeros = [\n",
    "            1, 5, 7, \n",
    "            98, 74, 65, \n",
    "            14, 1, 4, \n",
    "            5, 98, 74\n",
    "]\n",
    "\n",
    "numeros = list(set(numeros))\n",
    "numeros.sort()\n",
    "numeros"
   ]
  },
  {
   "attachments": {},
   "cell_type": "markdown",
   "id": "b6696ea5-332d-46d9-aef7-3c34e16cbcc0",
   "metadata": {},
   "source": [
    "****"
   ]
  },
  {
   "cell_type": "markdown",
   "id": "85b3f5d9-8db6-46ee-8dca-34a51d8f05ae",
   "metadata": {},
   "source": [
    "# Pandas - DataFrame"
   ]
  },
  {
   "cell_type": "markdown",
   "id": "d72570ce-4d53-4f99-bf36-54f18548929b",
   "metadata": {},
   "source": [
    "Contiene dos tipos de estructuras:\n",
    "\n",
    "- **Series**: una matriz etiquetada unidimensional que contiene datos de cualquier tipo como números enteros, cadenas, objetos Python, etc.\n",
    "- **Dataframe**: una estructura de datos bidimensional que contiene datos como una matriz bidimensional o una tabla con filas y columnas."
   ]
  },
  {
   "cell_type": "code",
   "execution_count": null,
   "id": "dbfa462e-e9c1-4146-a728-cca1cd87799f",
   "metadata": {},
   "outputs": [],
   "source": [
    "# pip install pandas"
   ]
  },
  {
   "cell_type": "code",
   "execution_count": 277,
   "id": "c096a136-26b9-4eb9-86a3-b94b8cc2c5b2",
   "metadata": {},
   "outputs": [],
   "source": [
    "import pandas as pd\n",
    "import numpy as np"
   ]
  },
  {
   "cell_type": "markdown",
   "id": "ea1b0823-7fb8-4a92-a558-a43168700412",
   "metadata": {},
   "source": [
    "## Creación de un dataframe\n",
    "\n",
    "pd.DataFrame()\n",
    "\n",
    "* A partir de Series:"
   ]
  },
  {
   "cell_type": "code",
   "execution_count": 278,
   "id": "9a07280e-ef78-4f8c-8521-b77dbb9a583b",
   "metadata": {},
   "outputs": [
    {
     "data": {
      "text/plain": [
       "0    1.0\n",
       "1    3.0\n",
       "2    5.0\n",
       "3    NaN\n",
       "4    6.0\n",
       "5    8.0\n",
       "dtype: float64"
      ]
     },
     "execution_count": 278,
     "metadata": {},
     "output_type": "execute_result"
    }
   ],
   "source": [
    "# Series:\n",
    "\n",
    "s = pd.Series([1, 3, 5, np.nan, 6, 8])\n",
    "s"
   ]
  },
  {
   "cell_type": "code",
   "execution_count": 279,
   "id": "0d3cbc88-c2ba-4c2e-b1c8-b38b5044f0dc",
   "metadata": {},
   "outputs": [
    {
     "data": {
      "text/plain": [
       "DatetimeIndex(['2013-01-01', '2013-01-02', '2013-01-03', '2013-01-04',\n",
       "               '2013-01-05', '2013-01-06'],\n",
       "              dtype='datetime64[ns]', freq='D')"
      ]
     },
     "execution_count": 279,
     "metadata": {},
     "output_type": "execute_result"
    }
   ],
   "source": [
    "# date_range(genera un rango de fecha apartir de un valor, marcando el número de datos a generar (periods)\n",
    "dates = pd.date_range(\"20130101\", periods=6)\n",
    "dates"
   ]
  },
  {
   "cell_type": "code",
   "execution_count": 280,
   "id": "322b669b-9965-4b25-b93b-2a2f45a9becd",
   "metadata": {},
   "outputs": [
    {
     "data": {
      "text/html": [
       "<div>\n",
       "<style scoped>\n",
       "    .dataframe tbody tr th:only-of-type {\n",
       "        vertical-align: middle;\n",
       "    }\n",
       "\n",
       "    .dataframe tbody tr th {\n",
       "        vertical-align: top;\n",
       "    }\n",
       "\n",
       "    .dataframe thead th {\n",
       "        text-align: right;\n",
       "    }\n",
       "</style>\n",
       "<table border=\"1\" class=\"dataframe\">\n",
       "  <thead>\n",
       "    <tr style=\"text-align: right;\">\n",
       "      <th></th>\n",
       "      <th>A</th>\n",
       "      <th>B</th>\n",
       "      <th>C</th>\n",
       "      <th>D</th>\n",
       "    </tr>\n",
       "  </thead>\n",
       "  <tbody>\n",
       "    <tr>\n",
       "      <th>2013-01-01</th>\n",
       "      <td>-0.619213</td>\n",
       "      <td>1.901523</td>\n",
       "      <td>2.294067</td>\n",
       "      <td>3.324429</td>\n",
       "    </tr>\n",
       "    <tr>\n",
       "      <th>2013-01-02</th>\n",
       "      <td>-1.391518</td>\n",
       "      <td>-1.228357</td>\n",
       "      <td>0.907088</td>\n",
       "      <td>0.321835</td>\n",
       "    </tr>\n",
       "    <tr>\n",
       "      <th>2013-01-03</th>\n",
       "      <td>1.404452</td>\n",
       "      <td>1.201270</td>\n",
       "      <td>-0.746615</td>\n",
       "      <td>-0.360714</td>\n",
       "    </tr>\n",
       "    <tr>\n",
       "      <th>2013-01-04</th>\n",
       "      <td>-1.475422</td>\n",
       "      <td>1.607869</td>\n",
       "      <td>-1.988138</td>\n",
       "      <td>0.237032</td>\n",
       "    </tr>\n",
       "    <tr>\n",
       "      <th>2013-01-05</th>\n",
       "      <td>-0.800179</td>\n",
       "      <td>-0.217895</td>\n",
       "      <td>-1.584795</td>\n",
       "      <td>-0.626696</td>\n",
       "    </tr>\n",
       "    <tr>\n",
       "      <th>2013-01-06</th>\n",
       "      <td>-0.668277</td>\n",
       "      <td>1.411728</td>\n",
       "      <td>1.414805</td>\n",
       "      <td>0.543997</td>\n",
       "    </tr>\n",
       "  </tbody>\n",
       "</table>\n",
       "</div>"
      ],
      "text/plain": [
       "                   A         B         C         D\n",
       "2013-01-01 -0.619213  1.901523  2.294067  3.324429\n",
       "2013-01-02 -1.391518 -1.228357  0.907088  0.321835\n",
       "2013-01-03  1.404452  1.201270 -0.746615 -0.360714\n",
       "2013-01-04 -1.475422  1.607869 -1.988138  0.237032\n",
       "2013-01-05 -0.800179 -0.217895 -1.584795 -0.626696\n",
       "2013-01-06 -0.668277  1.411728  1.414805  0.543997"
      ]
     },
     "execution_count": 280,
     "metadata": {},
     "output_type": "execute_result"
    }
   ],
   "source": [
    "df = pd.DataFrame(np.random.randn(6, 4), index=dates, columns=list(\"ABCD\"))\n",
    "df"
   ]
  },
  {
   "cell_type": "code",
   "execution_count": 281,
   "id": "50eacc81-f499-4097-9197-bc62a03a9abd",
   "metadata": {},
   "outputs": [
    {
     "data": {
      "text/plain": [
       "A    float64\n",
       "B    float64\n",
       "C    float64\n",
       "D    float64\n",
       "dtype: object"
      ]
     },
     "execution_count": 281,
     "metadata": {},
     "output_type": "execute_result"
    }
   ],
   "source": [
    "# dtypes nos muestra de que tipo son los datos:\n",
    "\n",
    "df.dtypes"
   ]
  },
  {
   "cell_type": "markdown",
   "id": "f12e8dea-bd2c-4cdc-9994-93884e7b7e5c",
   "metadata": {},
   "source": [
    "* A partir de un diccionario:"
   ]
  },
  {
   "cell_type": "code",
   "execution_count": 282,
   "id": "afc7836c-fa2c-4ca2-976c-509c50607164",
   "metadata": {},
   "outputs": [
    {
     "data": {
      "text/html": [
       "<div>\n",
       "<style scoped>\n",
       "    .dataframe tbody tr th:only-of-type {\n",
       "        vertical-align: middle;\n",
       "    }\n",
       "\n",
       "    .dataframe tbody tr th {\n",
       "        vertical-align: top;\n",
       "    }\n",
       "\n",
       "    .dataframe thead th {\n",
       "        text-align: right;\n",
       "    }\n",
       "</style>\n",
       "<table border=\"1\" class=\"dataframe\">\n",
       "  <thead>\n",
       "    <tr style=\"text-align: right;\">\n",
       "      <th></th>\n",
       "      <th>Alumnos</th>\n",
       "      <th>Notas</th>\n",
       "    </tr>\n",
       "  </thead>\n",
       "  <tbody>\n",
       "    <tr>\n",
       "      <th>0</th>\n",
       "      <td>Paula</td>\n",
       "      <td>10</td>\n",
       "    </tr>\n",
       "    <tr>\n",
       "      <th>1</th>\n",
       "      <td>Fermin</td>\n",
       "      <td>9</td>\n",
       "    </tr>\n",
       "    <tr>\n",
       "      <th>2</th>\n",
       "      <td>Pedro</td>\n",
       "      <td>5</td>\n",
       "    </tr>\n",
       "    <tr>\n",
       "      <th>3</th>\n",
       "      <td>Luis</td>\n",
       "      <td>4</td>\n",
       "    </tr>\n",
       "    <tr>\n",
       "      <th>4</th>\n",
       "      <td>Ana</td>\n",
       "      <td>8</td>\n",
       "    </tr>\n",
       "  </tbody>\n",
       "</table>\n",
       "</div>"
      ],
      "text/plain": [
       "  Alumnos  Notas\n",
       "0   Paula     10\n",
       "1  Fermin      9\n",
       "2   Pedro      5\n",
       "3    Luis      4\n",
       "4     Ana      8"
      ]
     },
     "execution_count": 282,
     "metadata": {},
     "output_type": "execute_result"
    }
   ],
   "source": [
    "notas = [10, 9, 5, 4, 8]\n",
    "\n",
    "alumnos = [\"Paula\", \"Fermin\", \"Pedro\", \"Luis\", \"Ana\"]\n",
    "\n",
    "evaluacion = {\"Alumnos\": alumnos, \"Notas\": notas}\n",
    "\n",
    "df_eval = pd.DataFrame(evaluacion)\n",
    "df_eval"
   ]
  },
  {
   "cell_type": "markdown",
   "id": "5c1cf6c7-23c0-4c7b-963b-a5be0a6a4714",
   "metadata": {},
   "source": [
    "* A partir de listas:"
   ]
  },
  {
   "cell_type": "code",
   "execution_count": 283,
   "id": "942f4f30-7977-46ca-843b-ac2738ca33d9",
   "metadata": {},
   "outputs": [
    {
     "data": {
      "text/html": [
       "<div>\n",
       "<style scoped>\n",
       "    .dataframe tbody tr th:only-of-type {\n",
       "        vertical-align: middle;\n",
       "    }\n",
       "\n",
       "    .dataframe tbody tr th {\n",
       "        vertical-align: top;\n",
       "    }\n",
       "\n",
       "    .dataframe thead th {\n",
       "        text-align: right;\n",
       "    }\n",
       "</style>\n",
       "<table border=\"1\" class=\"dataframe\">\n",
       "  <thead>\n",
       "    <tr style=\"text-align: right;\">\n",
       "      <th></th>\n",
       "      <th>Alumnos</th>\n",
       "    </tr>\n",
       "  </thead>\n",
       "  <tbody>\n",
       "    <tr>\n",
       "      <th>0</th>\n",
       "      <td>Paula</td>\n",
       "    </tr>\n",
       "    <tr>\n",
       "      <th>1</th>\n",
       "      <td>Fermin</td>\n",
       "    </tr>\n",
       "    <tr>\n",
       "      <th>2</th>\n",
       "      <td>Pedro</td>\n",
       "    </tr>\n",
       "    <tr>\n",
       "      <th>3</th>\n",
       "      <td>Luis</td>\n",
       "    </tr>\n",
       "    <tr>\n",
       "      <th>4</th>\n",
       "      <td>Ana</td>\n",
       "    </tr>\n",
       "  </tbody>\n",
       "</table>\n",
       "</div>"
      ],
      "text/plain": [
       "  Alumnos\n",
       "0   Paula\n",
       "1  Fermin\n",
       "2   Pedro\n",
       "3    Luis\n",
       "4     Ana"
      ]
     },
     "execution_count": 283,
     "metadata": {},
     "output_type": "execute_result"
    }
   ],
   "source": [
    "df_evaluar = pd.DataFrame(alumnos, columns=[\"Alumnos\"])\n",
    "df_evaluar"
   ]
  },
  {
   "cell_type": "markdown",
   "id": "b9fd4ab3-6584-4495-b38a-bdb9f84c38ed",
   "metadata": {},
   "source": [
    "Otra forma..."
   ]
  },
  {
   "cell_type": "code",
   "execution_count": 284,
   "id": "a3433c29-3e6b-4c8f-824d-3954fcd84d77",
   "metadata": {},
   "outputs": [
    {
     "data": {
      "text/html": [
       "<div>\n",
       "<style scoped>\n",
       "    .dataframe tbody tr th:only-of-type {\n",
       "        vertical-align: middle;\n",
       "    }\n",
       "\n",
       "    .dataframe tbody tr th {\n",
       "        vertical-align: top;\n",
       "    }\n",
       "\n",
       "    .dataframe thead th {\n",
       "        text-align: right;\n",
       "    }\n",
       "</style>\n",
       "<table border=\"1\" class=\"dataframe\">\n",
       "  <thead>\n",
       "    <tr style=\"text-align: right;\">\n",
       "      <th></th>\n",
       "      <th>Alumnos</th>\n",
       "      <th>Notas</th>\n",
       "    </tr>\n",
       "  </thead>\n",
       "  <tbody>\n",
       "    <tr>\n",
       "      <th>0</th>\n",
       "      <td>Paula</td>\n",
       "      <td>10</td>\n",
       "    </tr>\n",
       "    <tr>\n",
       "      <th>1</th>\n",
       "      <td>Fermin</td>\n",
       "      <td>9</td>\n",
       "    </tr>\n",
       "    <tr>\n",
       "      <th>2</th>\n",
       "      <td>Pedro</td>\n",
       "      <td>5</td>\n",
       "    </tr>\n",
       "    <tr>\n",
       "      <th>3</th>\n",
       "      <td>Luis</td>\n",
       "      <td>4</td>\n",
       "    </tr>\n",
       "    <tr>\n",
       "      <th>4</th>\n",
       "      <td>Ana</td>\n",
       "      <td>8</td>\n",
       "    </tr>\n",
       "  </tbody>\n",
       "</table>\n",
       "</div>"
      ],
      "text/plain": [
       "  Alumnos  Notas\n",
       "0   Paula     10\n",
       "1  Fermin      9\n",
       "2   Pedro      5\n",
       "3    Luis      4\n",
       "4     Ana      8"
      ]
     },
     "execution_count": 284,
     "metadata": {},
     "output_type": "execute_result"
    }
   ],
   "source": [
    "df_evaluar = pd.DataFrame(list(zip(alumnos, notas)), columns=[\"Alumnos\", \"Notas\"])\n",
    "df_evaluar"
   ]
  },
  {
   "cell_type": "markdown",
   "id": "4370bbea-71ea-43d1-bfdb-457c0303261c",
   "metadata": {},
   "source": [
    "## Vista de los datos"
   ]
  },
  {
   "cell_type": "code",
   "execution_count": 285,
   "id": "7cd004d8-dc3d-4ec8-8720-1ba8b0213e34",
   "metadata": {},
   "outputs": [
    {
     "data": {
      "text/html": [
       "<div>\n",
       "<style scoped>\n",
       "    .dataframe tbody tr th:only-of-type {\n",
       "        vertical-align: middle;\n",
       "    }\n",
       "\n",
       "    .dataframe tbody tr th {\n",
       "        vertical-align: top;\n",
       "    }\n",
       "\n",
       "    .dataframe thead th {\n",
       "        text-align: right;\n",
       "    }\n",
       "</style>\n",
       "<table border=\"1\" class=\"dataframe\">\n",
       "  <thead>\n",
       "    <tr style=\"text-align: right;\">\n",
       "      <th></th>\n",
       "      <th>A</th>\n",
       "      <th>B</th>\n",
       "      <th>C</th>\n",
       "      <th>D</th>\n",
       "    </tr>\n",
       "  </thead>\n",
       "  <tbody>\n",
       "    <tr>\n",
       "      <th>2013-01-01</th>\n",
       "      <td>-0.619213</td>\n",
       "      <td>1.901523</td>\n",
       "      <td>2.294067</td>\n",
       "      <td>3.324429</td>\n",
       "    </tr>\n",
       "    <tr>\n",
       "      <th>2013-01-02</th>\n",
       "      <td>-1.391518</td>\n",
       "      <td>-1.228357</td>\n",
       "      <td>0.907088</td>\n",
       "      <td>0.321835</td>\n",
       "    </tr>\n",
       "    <tr>\n",
       "      <th>2013-01-03</th>\n",
       "      <td>1.404452</td>\n",
       "      <td>1.201270</td>\n",
       "      <td>-0.746615</td>\n",
       "      <td>-0.360714</td>\n",
       "    </tr>\n",
       "    <tr>\n",
       "      <th>2013-01-04</th>\n",
       "      <td>-1.475422</td>\n",
       "      <td>1.607869</td>\n",
       "      <td>-1.988138</td>\n",
       "      <td>0.237032</td>\n",
       "    </tr>\n",
       "    <tr>\n",
       "      <th>2013-01-05</th>\n",
       "      <td>-0.800179</td>\n",
       "      <td>-0.217895</td>\n",
       "      <td>-1.584795</td>\n",
       "      <td>-0.626696</td>\n",
       "    </tr>\n",
       "    <tr>\n",
       "      <th>2013-01-06</th>\n",
       "      <td>-0.668277</td>\n",
       "      <td>1.411728</td>\n",
       "      <td>1.414805</td>\n",
       "      <td>0.543997</td>\n",
       "    </tr>\n",
       "  </tbody>\n",
       "</table>\n",
       "</div>"
      ],
      "text/plain": [
       "                   A         B         C         D\n",
       "2013-01-01 -0.619213  1.901523  2.294067  3.324429\n",
       "2013-01-02 -1.391518 -1.228357  0.907088  0.321835\n",
       "2013-01-03  1.404452  1.201270 -0.746615 -0.360714\n",
       "2013-01-04 -1.475422  1.607869 -1.988138  0.237032\n",
       "2013-01-05 -0.800179 -0.217895 -1.584795 -0.626696\n",
       "2013-01-06 -0.668277  1.411728  1.414805  0.543997"
      ]
     },
     "execution_count": 285,
     "metadata": {},
     "output_type": "execute_result"
    }
   ],
   "source": [
    "df"
   ]
  },
  {
   "cell_type": "code",
   "execution_count": 286,
   "id": "00310069-6501-4b5e-97ee-2ee2e7747047",
   "metadata": {},
   "outputs": [
    {
     "data": {
      "text/html": [
       "<div>\n",
       "<style scoped>\n",
       "    .dataframe tbody tr th:only-of-type {\n",
       "        vertical-align: middle;\n",
       "    }\n",
       "\n",
       "    .dataframe tbody tr th {\n",
       "        vertical-align: top;\n",
       "    }\n",
       "\n",
       "    .dataframe thead th {\n",
       "        text-align: right;\n",
       "    }\n",
       "</style>\n",
       "<table border=\"1\" class=\"dataframe\">\n",
       "  <thead>\n",
       "    <tr style=\"text-align: right;\">\n",
       "      <th></th>\n",
       "      <th>A</th>\n",
       "      <th>B</th>\n",
       "      <th>C</th>\n",
       "      <th>D</th>\n",
       "    </tr>\n",
       "  </thead>\n",
       "  <tbody>\n",
       "    <tr>\n",
       "      <th>2013-01-01</th>\n",
       "      <td>-0.619213</td>\n",
       "      <td>1.901523</td>\n",
       "      <td>2.294067</td>\n",
       "      <td>3.324429</td>\n",
       "    </tr>\n",
       "    <tr>\n",
       "      <th>2013-01-02</th>\n",
       "      <td>-1.391518</td>\n",
       "      <td>-1.228357</td>\n",
       "      <td>0.907088</td>\n",
       "      <td>0.321835</td>\n",
       "    </tr>\n",
       "    <tr>\n",
       "      <th>2013-01-03</th>\n",
       "      <td>1.404452</td>\n",
       "      <td>1.201270</td>\n",
       "      <td>-0.746615</td>\n",
       "      <td>-0.360714</td>\n",
       "    </tr>\n",
       "    <tr>\n",
       "      <th>2013-01-04</th>\n",
       "      <td>-1.475422</td>\n",
       "      <td>1.607869</td>\n",
       "      <td>-1.988138</td>\n",
       "      <td>0.237032</td>\n",
       "    </tr>\n",
       "    <tr>\n",
       "      <th>2013-01-05</th>\n",
       "      <td>-0.800179</td>\n",
       "      <td>-0.217895</td>\n",
       "      <td>-1.584795</td>\n",
       "      <td>-0.626696</td>\n",
       "    </tr>\n",
       "  </tbody>\n",
       "</table>\n",
       "</div>"
      ],
      "text/plain": [
       "                   A         B         C         D\n",
       "2013-01-01 -0.619213  1.901523  2.294067  3.324429\n",
       "2013-01-02 -1.391518 -1.228357  0.907088  0.321835\n",
       "2013-01-03  1.404452  1.201270 -0.746615 -0.360714\n",
       "2013-01-04 -1.475422  1.607869 -1.988138  0.237032\n",
       "2013-01-05 -0.800179 -0.217895 -1.584795 -0.626696"
      ]
     },
     "execution_count": 286,
     "metadata": {},
     "output_type": "execute_result"
    }
   ],
   "source": [
    "# Muestra las primeras filas del dataframe, por defecto las 5 primeras\n",
    "df.head()"
   ]
  },
  {
   "cell_type": "code",
   "execution_count": 287,
   "id": "b79a7666-2461-4a43-9f7b-68084a1475f4",
   "metadata": {},
   "outputs": [
    {
     "data": {
      "text/html": [
       "<div>\n",
       "<style scoped>\n",
       "    .dataframe tbody tr th:only-of-type {\n",
       "        vertical-align: middle;\n",
       "    }\n",
       "\n",
       "    .dataframe tbody tr th {\n",
       "        vertical-align: top;\n",
       "    }\n",
       "\n",
       "    .dataframe thead th {\n",
       "        text-align: right;\n",
       "    }\n",
       "</style>\n",
       "<table border=\"1\" class=\"dataframe\">\n",
       "  <thead>\n",
       "    <tr style=\"text-align: right;\">\n",
       "      <th></th>\n",
       "      <th>A</th>\n",
       "      <th>B</th>\n",
       "      <th>C</th>\n",
       "      <th>D</th>\n",
       "    </tr>\n",
       "  </thead>\n",
       "  <tbody>\n",
       "    <tr>\n",
       "      <th>2013-01-01</th>\n",
       "      <td>-0.619213</td>\n",
       "      <td>1.901523</td>\n",
       "      <td>2.294067</td>\n",
       "      <td>3.324429</td>\n",
       "    </tr>\n",
       "    <tr>\n",
       "      <th>2013-01-02</th>\n",
       "      <td>-1.391518</td>\n",
       "      <td>-1.228357</td>\n",
       "      <td>0.907088</td>\n",
       "      <td>0.321835</td>\n",
       "    </tr>\n",
       "  </tbody>\n",
       "</table>\n",
       "</div>"
      ],
      "text/plain": [
       "                   A         B         C         D\n",
       "2013-01-01 -0.619213  1.901523  2.294067  3.324429\n",
       "2013-01-02 -1.391518 -1.228357  0.907088  0.321835"
      ]
     },
     "execution_count": 287,
     "metadata": {},
     "output_type": "execute_result"
    }
   ],
   "source": [
    "df.head(2)"
   ]
  },
  {
   "cell_type": "code",
   "execution_count": 288,
   "id": "f284d507-cd79-4af9-b918-58b4bedabae2",
   "metadata": {},
   "outputs": [
    {
     "data": {
      "text/html": [
       "<div>\n",
       "<style scoped>\n",
       "    .dataframe tbody tr th:only-of-type {\n",
       "        vertical-align: middle;\n",
       "    }\n",
       "\n",
       "    .dataframe tbody tr th {\n",
       "        vertical-align: top;\n",
       "    }\n",
       "\n",
       "    .dataframe thead th {\n",
       "        text-align: right;\n",
       "    }\n",
       "</style>\n",
       "<table border=\"1\" class=\"dataframe\">\n",
       "  <thead>\n",
       "    <tr style=\"text-align: right;\">\n",
       "      <th></th>\n",
       "      <th>A</th>\n",
       "      <th>B</th>\n",
       "      <th>C</th>\n",
       "      <th>D</th>\n",
       "    </tr>\n",
       "  </thead>\n",
       "  <tbody>\n",
       "    <tr>\n",
       "      <th>2013-01-02</th>\n",
       "      <td>-1.391518</td>\n",
       "      <td>-1.228357</td>\n",
       "      <td>0.907088</td>\n",
       "      <td>0.321835</td>\n",
       "    </tr>\n",
       "    <tr>\n",
       "      <th>2013-01-03</th>\n",
       "      <td>1.404452</td>\n",
       "      <td>1.201270</td>\n",
       "      <td>-0.746615</td>\n",
       "      <td>-0.360714</td>\n",
       "    </tr>\n",
       "    <tr>\n",
       "      <th>2013-01-04</th>\n",
       "      <td>-1.475422</td>\n",
       "      <td>1.607869</td>\n",
       "      <td>-1.988138</td>\n",
       "      <td>0.237032</td>\n",
       "    </tr>\n",
       "    <tr>\n",
       "      <th>2013-01-05</th>\n",
       "      <td>-0.800179</td>\n",
       "      <td>-0.217895</td>\n",
       "      <td>-1.584795</td>\n",
       "      <td>-0.626696</td>\n",
       "    </tr>\n",
       "    <tr>\n",
       "      <th>2013-01-06</th>\n",
       "      <td>-0.668277</td>\n",
       "      <td>1.411728</td>\n",
       "      <td>1.414805</td>\n",
       "      <td>0.543997</td>\n",
       "    </tr>\n",
       "  </tbody>\n",
       "</table>\n",
       "</div>"
      ],
      "text/plain": [
       "                   A         B         C         D\n",
       "2013-01-02 -1.391518 -1.228357  0.907088  0.321835\n",
       "2013-01-03  1.404452  1.201270 -0.746615 -0.360714\n",
       "2013-01-04 -1.475422  1.607869 -1.988138  0.237032\n",
       "2013-01-05 -0.800179 -0.217895 -1.584795 -0.626696\n",
       "2013-01-06 -0.668277  1.411728  1.414805  0.543997"
      ]
     },
     "execution_count": 288,
     "metadata": {},
     "output_type": "execute_result"
    }
   ],
   "source": [
    "# Muestra las últimas filas de un dataframe, por defecto las 5 últimas:\n",
    "\n",
    "df.tail()"
   ]
  },
  {
   "cell_type": "code",
   "execution_count": 289,
   "id": "08a03469-bf42-443d-95f4-45325841eeed",
   "metadata": {},
   "outputs": [
    {
     "data": {
      "text/html": [
       "<div>\n",
       "<style scoped>\n",
       "    .dataframe tbody tr th:only-of-type {\n",
       "        vertical-align: middle;\n",
       "    }\n",
       "\n",
       "    .dataframe tbody tr th {\n",
       "        vertical-align: top;\n",
       "    }\n",
       "\n",
       "    .dataframe thead th {\n",
       "        text-align: right;\n",
       "    }\n",
       "</style>\n",
       "<table border=\"1\" class=\"dataframe\">\n",
       "  <thead>\n",
       "    <tr style=\"text-align: right;\">\n",
       "      <th></th>\n",
       "      <th>A</th>\n",
       "      <th>B</th>\n",
       "      <th>C</th>\n",
       "      <th>D</th>\n",
       "    </tr>\n",
       "  </thead>\n",
       "  <tbody>\n",
       "    <tr>\n",
       "      <th>2013-01-05</th>\n",
       "      <td>-0.800179</td>\n",
       "      <td>-0.217895</td>\n",
       "      <td>-1.584795</td>\n",
       "      <td>-0.626696</td>\n",
       "    </tr>\n",
       "    <tr>\n",
       "      <th>2013-01-06</th>\n",
       "      <td>-0.668277</td>\n",
       "      <td>1.411728</td>\n",
       "      <td>1.414805</td>\n",
       "      <td>0.543997</td>\n",
       "    </tr>\n",
       "  </tbody>\n",
       "</table>\n",
       "</div>"
      ],
      "text/plain": [
       "                   A         B         C         D\n",
       "2013-01-05 -0.800179 -0.217895 -1.584795 -0.626696\n",
       "2013-01-06 -0.668277  1.411728  1.414805  0.543997"
      ]
     },
     "execution_count": 289,
     "metadata": {},
     "output_type": "execute_result"
    }
   ],
   "source": [
    "df.tail(2)"
   ]
  },
  {
   "cell_type": "code",
   "execution_count": 290,
   "id": "f38f481d-7ab3-4b2f-a0a0-866df4801232",
   "metadata": {},
   "outputs": [
    {
     "data": {
      "text/plain": [
       "DatetimeIndex(['2013-01-01', '2013-01-02', '2013-01-03', '2013-01-04',\n",
       "               '2013-01-05', '2013-01-06'],\n",
       "              dtype='datetime64[ns]', freq='D')"
      ]
     },
     "execution_count": 290,
     "metadata": {},
     "output_type": "execute_result"
    }
   ],
   "source": [
    "# Muestra el valor de la primera columna que suele ser un valor único (id), en este ejemplo una fecha:\n",
    "\n",
    "df.index"
   ]
  },
  {
   "cell_type": "code",
   "execution_count": 291,
   "id": "a024bcf6-4503-4bc0-aeeb-30a48158af61",
   "metadata": {},
   "outputs": [
    {
     "data": {
      "text/plain": [
       "Index(['A', 'B', 'C', 'D'], dtype='object')"
      ]
     },
     "execution_count": 291,
     "metadata": {},
     "output_type": "execute_result"
    }
   ],
   "source": [
    "# Muestra el nombre de las columnas:\n",
    "\n",
    "df.columns"
   ]
  },
  {
   "cell_type": "code",
   "execution_count": 292,
   "id": "a94702bf-5dbd-4d58-bdb6-2bdbedf38ba9",
   "metadata": {},
   "outputs": [
    {
     "data": {
      "text/html": [
       "<div>\n",
       "<style scoped>\n",
       "    .dataframe tbody tr th:only-of-type {\n",
       "        vertical-align: middle;\n",
       "    }\n",
       "\n",
       "    .dataframe tbody tr th {\n",
       "        vertical-align: top;\n",
       "    }\n",
       "\n",
       "    .dataframe thead th {\n",
       "        text-align: right;\n",
       "    }\n",
       "</style>\n",
       "<table border=\"1\" class=\"dataframe\">\n",
       "  <thead>\n",
       "    <tr style=\"text-align: right;\">\n",
       "      <th></th>\n",
       "      <th>A</th>\n",
       "      <th>B</th>\n",
       "      <th>C</th>\n",
       "      <th>D</th>\n",
       "    </tr>\n",
       "  </thead>\n",
       "  <tbody>\n",
       "    <tr>\n",
       "      <th>count</th>\n",
       "      <td>6.000000</td>\n",
       "      <td>6.000000</td>\n",
       "      <td>6.000000</td>\n",
       "      <td>6.000000</td>\n",
       "    </tr>\n",
       "    <tr>\n",
       "      <th>mean</th>\n",
       "      <td>-0.591693</td>\n",
       "      <td>0.779356</td>\n",
       "      <td>0.049402</td>\n",
       "      <td>0.573314</td>\n",
       "    </tr>\n",
       "    <tr>\n",
       "      <th>std</th>\n",
       "      <td>1.044546</td>\n",
       "      <td>1.228741</td>\n",
       "      <td>1.737486</td>\n",
       "      <td>1.418327</td>\n",
       "    </tr>\n",
       "    <tr>\n",
       "      <th>min</th>\n",
       "      <td>-1.475422</td>\n",
       "      <td>-1.228357</td>\n",
       "      <td>-1.988138</td>\n",
       "      <td>-0.626696</td>\n",
       "    </tr>\n",
       "    <tr>\n",
       "      <th>25%</th>\n",
       "      <td>-1.243683</td>\n",
       "      <td>0.136896</td>\n",
       "      <td>-1.375250</td>\n",
       "      <td>-0.211277</td>\n",
       "    </tr>\n",
       "    <tr>\n",
       "      <th>50%</th>\n",
       "      <td>-0.734228</td>\n",
       "      <td>1.306499</td>\n",
       "      <td>0.080236</td>\n",
       "      <td>0.279434</td>\n",
       "    </tr>\n",
       "    <tr>\n",
       "      <th>75%</th>\n",
       "      <td>-0.631479</td>\n",
       "      <td>1.558834</td>\n",
       "      <td>1.287876</td>\n",
       "      <td>0.488457</td>\n",
       "    </tr>\n",
       "    <tr>\n",
       "      <th>max</th>\n",
       "      <td>1.404452</td>\n",
       "      <td>1.901523</td>\n",
       "      <td>2.294067</td>\n",
       "      <td>3.324429</td>\n",
       "    </tr>\n",
       "  </tbody>\n",
       "</table>\n",
       "</div>"
      ],
      "text/plain": [
       "              A         B         C         D\n",
       "count  6.000000  6.000000  6.000000  6.000000\n",
       "mean  -0.591693  0.779356  0.049402  0.573314\n",
       "std    1.044546  1.228741  1.737486  1.418327\n",
       "min   -1.475422 -1.228357 -1.988138 -0.626696\n",
       "25%   -1.243683  0.136896 -1.375250 -0.211277\n",
       "50%   -0.734228  1.306499  0.080236  0.279434\n",
       "75%   -0.631479  1.558834  1.287876  0.488457\n",
       "max    1.404452  1.901523  2.294067  3.324429"
      ]
     },
     "execution_count": 292,
     "metadata": {},
     "output_type": "execute_result"
    }
   ],
   "source": [
    "# Para obtener los estadísticos más representativos usamos:\n",
    "\n",
    "df.describe()"
   ]
  },
  {
   "cell_type": "code",
   "execution_count": 293,
   "id": "9475568a-bd69-463a-9932-79cc4140237a",
   "metadata": {},
   "outputs": [
    {
     "data": {
      "text/html": [
       "<div>\n",
       "<style scoped>\n",
       "    .dataframe tbody tr th:only-of-type {\n",
       "        vertical-align: middle;\n",
       "    }\n",
       "\n",
       "    .dataframe tbody tr th {\n",
       "        vertical-align: top;\n",
       "    }\n",
       "\n",
       "    .dataframe thead th {\n",
       "        text-align: right;\n",
       "    }\n",
       "</style>\n",
       "<table border=\"1\" class=\"dataframe\">\n",
       "  <thead>\n",
       "    <tr style=\"text-align: right;\">\n",
       "      <th></th>\n",
       "      <th>D</th>\n",
       "      <th>C</th>\n",
       "      <th>B</th>\n",
       "      <th>A</th>\n",
       "    </tr>\n",
       "  </thead>\n",
       "  <tbody>\n",
       "    <tr>\n",
       "      <th>2013-01-01</th>\n",
       "      <td>3.324429</td>\n",
       "      <td>2.294067</td>\n",
       "      <td>1.901523</td>\n",
       "      <td>-0.619213</td>\n",
       "    </tr>\n",
       "    <tr>\n",
       "      <th>2013-01-02</th>\n",
       "      <td>0.321835</td>\n",
       "      <td>0.907088</td>\n",
       "      <td>-1.228357</td>\n",
       "      <td>-1.391518</td>\n",
       "    </tr>\n",
       "    <tr>\n",
       "      <th>2013-01-03</th>\n",
       "      <td>-0.360714</td>\n",
       "      <td>-0.746615</td>\n",
       "      <td>1.201270</td>\n",
       "      <td>1.404452</td>\n",
       "    </tr>\n",
       "    <tr>\n",
       "      <th>2013-01-04</th>\n",
       "      <td>0.237032</td>\n",
       "      <td>-1.988138</td>\n",
       "      <td>1.607869</td>\n",
       "      <td>-1.475422</td>\n",
       "    </tr>\n",
       "    <tr>\n",
       "      <th>2013-01-05</th>\n",
       "      <td>-0.626696</td>\n",
       "      <td>-1.584795</td>\n",
       "      <td>-0.217895</td>\n",
       "      <td>-0.800179</td>\n",
       "    </tr>\n",
       "    <tr>\n",
       "      <th>2013-01-06</th>\n",
       "      <td>0.543997</td>\n",
       "      <td>1.414805</td>\n",
       "      <td>1.411728</td>\n",
       "      <td>-0.668277</td>\n",
       "    </tr>\n",
       "  </tbody>\n",
       "</table>\n",
       "</div>"
      ],
      "text/plain": [
       "                   D         C         B         A\n",
       "2013-01-01  3.324429  2.294067  1.901523 -0.619213\n",
       "2013-01-02  0.321835  0.907088 -1.228357 -1.391518\n",
       "2013-01-03 -0.360714 -0.746615  1.201270  1.404452\n",
       "2013-01-04  0.237032 -1.988138  1.607869 -1.475422\n",
       "2013-01-05 -0.626696 -1.584795 -0.217895 -0.800179\n",
       "2013-01-06  0.543997  1.414805  1.411728 -0.668277"
      ]
     },
     "execution_count": 293,
     "metadata": {},
     "output_type": "execute_result"
    }
   ],
   "source": [
    "# Colocar los valores según el indice:\n",
    "\n",
    "df.sort_index(axis=1, ascending=False)"
   ]
  },
  {
   "cell_type": "code",
   "execution_count": 295,
   "id": "e41c5ada-c229-4b86-8a1e-4ff8beeccc22",
   "metadata": {},
   "outputs": [
    {
     "data": {
      "text/html": [
       "<div>\n",
       "<style scoped>\n",
       "    .dataframe tbody tr th:only-of-type {\n",
       "        vertical-align: middle;\n",
       "    }\n",
       "\n",
       "    .dataframe tbody tr th {\n",
       "        vertical-align: top;\n",
       "    }\n",
       "\n",
       "    .dataframe thead th {\n",
       "        text-align: right;\n",
       "    }\n",
       "</style>\n",
       "<table border=\"1\" class=\"dataframe\">\n",
       "  <thead>\n",
       "    <tr style=\"text-align: right;\">\n",
       "      <th></th>\n",
       "      <th>A</th>\n",
       "      <th>B</th>\n",
       "      <th>C</th>\n",
       "      <th>D</th>\n",
       "    </tr>\n",
       "  </thead>\n",
       "  <tbody>\n",
       "    <tr>\n",
       "      <th>2013-01-02</th>\n",
       "      <td>-1.391518</td>\n",
       "      <td>-1.228357</td>\n",
       "      <td>0.907088</td>\n",
       "      <td>0.321835</td>\n",
       "    </tr>\n",
       "    <tr>\n",
       "      <th>2013-01-05</th>\n",
       "      <td>-0.800179</td>\n",
       "      <td>-0.217895</td>\n",
       "      <td>-1.584795</td>\n",
       "      <td>-0.626696</td>\n",
       "    </tr>\n",
       "    <tr>\n",
       "      <th>2013-01-03</th>\n",
       "      <td>1.404452</td>\n",
       "      <td>1.201270</td>\n",
       "      <td>-0.746615</td>\n",
       "      <td>-0.360714</td>\n",
       "    </tr>\n",
       "    <tr>\n",
       "      <th>2013-01-06</th>\n",
       "      <td>-0.668277</td>\n",
       "      <td>1.411728</td>\n",
       "      <td>1.414805</td>\n",
       "      <td>0.543997</td>\n",
       "    </tr>\n",
       "    <tr>\n",
       "      <th>2013-01-04</th>\n",
       "      <td>-1.475422</td>\n",
       "      <td>1.607869</td>\n",
       "      <td>-1.988138</td>\n",
       "      <td>0.237032</td>\n",
       "    </tr>\n",
       "    <tr>\n",
       "      <th>2013-01-01</th>\n",
       "      <td>-0.619213</td>\n",
       "      <td>1.901523</td>\n",
       "      <td>2.294067</td>\n",
       "      <td>3.324429</td>\n",
       "    </tr>\n",
       "  </tbody>\n",
       "</table>\n",
       "</div>"
      ],
      "text/plain": [
       "                   A         B         C         D\n",
       "2013-01-02 -1.391518 -1.228357  0.907088  0.321835\n",
       "2013-01-05 -0.800179 -0.217895 -1.584795 -0.626696\n",
       "2013-01-03  1.404452  1.201270 -0.746615 -0.360714\n",
       "2013-01-06 -0.668277  1.411728  1.414805  0.543997\n",
       "2013-01-04 -1.475422  1.607869 -1.988138  0.237032\n",
       "2013-01-01 -0.619213  1.901523  2.294067  3.324429"
      ]
     },
     "execution_count": 295,
     "metadata": {},
     "output_type": "execute_result"
    }
   ],
   "source": [
    "# Ordenar los datos según una columna:\n",
    "\n",
    "df.sort_values(by=\"B\")"
   ]
  },
  {
   "cell_type": "markdown",
   "id": "08650b97-c1c5-4c8b-ad5a-131f484efed2",
   "metadata": {},
   "source": [
    "## Gestionar un dataframe"
   ]
  },
  {
   "cell_type": "code",
   "execution_count": 296,
   "id": "5cc5c636-fb93-4585-b6cb-526da42741dd",
   "metadata": {},
   "outputs": [
    {
     "data": {
      "text/html": [
       "<div>\n",
       "<style scoped>\n",
       "    .dataframe tbody tr th:only-of-type {\n",
       "        vertical-align: middle;\n",
       "    }\n",
       "\n",
       "    .dataframe tbody tr th {\n",
       "        vertical-align: top;\n",
       "    }\n",
       "\n",
       "    .dataframe thead th {\n",
       "        text-align: right;\n",
       "    }\n",
       "</style>\n",
       "<table border=\"1\" class=\"dataframe\">\n",
       "  <thead>\n",
       "    <tr style=\"text-align: right;\">\n",
       "      <th></th>\n",
       "      <th>Alumnos</th>\n",
       "    </tr>\n",
       "  </thead>\n",
       "  <tbody>\n",
       "    <tr>\n",
       "      <th>0</th>\n",
       "      <td>Paula</td>\n",
       "    </tr>\n",
       "    <tr>\n",
       "      <th>1</th>\n",
       "      <td>Fermin</td>\n",
       "    </tr>\n",
       "    <tr>\n",
       "      <th>2</th>\n",
       "      <td>Pedro</td>\n",
       "    </tr>\n",
       "    <tr>\n",
       "      <th>3</th>\n",
       "      <td>Luis</td>\n",
       "    </tr>\n",
       "    <tr>\n",
       "      <th>4</th>\n",
       "      <td>Ana</td>\n",
       "    </tr>\n",
       "  </tbody>\n",
       "</table>\n",
       "</div>"
      ],
      "text/plain": [
       "  Alumnos\n",
       "0   Paula\n",
       "1  Fermin\n",
       "2   Pedro\n",
       "3    Luis\n",
       "4     Ana"
      ]
     },
     "execution_count": 296,
     "metadata": {},
     "output_type": "execute_result"
    }
   ],
   "source": [
    "df_evaluar = pd.DataFrame(alumnos, columns=[\"Alumnos\"])\n",
    "df_evaluar"
   ]
  },
  {
   "cell_type": "markdown",
   "id": "0869a642-1aa1-46fb-afc6-07c2f79861ae",
   "metadata": {},
   "source": [
    "Apendizar columnas..."
   ]
  },
  {
   "cell_type": "code",
   "execution_count": 297,
   "id": "1425cf1f-32e7-4e84-8134-2972f94278ac",
   "metadata": {},
   "outputs": [
    {
     "data": {
      "text/html": [
       "<div>\n",
       "<style scoped>\n",
       "    .dataframe tbody tr th:only-of-type {\n",
       "        vertical-align: middle;\n",
       "    }\n",
       "\n",
       "    .dataframe tbody tr th {\n",
       "        vertical-align: top;\n",
       "    }\n",
       "\n",
       "    .dataframe thead th {\n",
       "        text-align: right;\n",
       "    }\n",
       "</style>\n",
       "<table border=\"1\" class=\"dataframe\">\n",
       "  <thead>\n",
       "    <tr style=\"text-align: right;\">\n",
       "      <th></th>\n",
       "      <th>Alumnos</th>\n",
       "      <th>Fisica</th>\n",
       "    </tr>\n",
       "  </thead>\n",
       "  <tbody>\n",
       "    <tr>\n",
       "      <th>0</th>\n",
       "      <td>Paula</td>\n",
       "      <td>10</td>\n",
       "    </tr>\n",
       "    <tr>\n",
       "      <th>1</th>\n",
       "      <td>Fermin</td>\n",
       "      <td>9</td>\n",
       "    </tr>\n",
       "    <tr>\n",
       "      <th>2</th>\n",
       "      <td>Pedro</td>\n",
       "      <td>5</td>\n",
       "    </tr>\n",
       "    <tr>\n",
       "      <th>3</th>\n",
       "      <td>Luis</td>\n",
       "      <td>4</td>\n",
       "    </tr>\n",
       "    <tr>\n",
       "      <th>4</th>\n",
       "      <td>Ana</td>\n",
       "      <td>8</td>\n",
       "    </tr>\n",
       "  </tbody>\n",
       "</table>\n",
       "</div>"
      ],
      "text/plain": [
       "  Alumnos  Fisica\n",
       "0   Paula      10\n",
       "1  Fermin       9\n",
       "2   Pedro       5\n",
       "3    Luis       4\n",
       "4     Ana       8"
      ]
     },
     "execution_count": 297,
     "metadata": {},
     "output_type": "execute_result"
    }
   ],
   "source": [
    "df_evaluar[\"Fisica\"] = notas\n",
    "df_evaluar"
   ]
  },
  {
   "cell_type": "code",
   "execution_count": 298,
   "id": "194f1821-2545-4bba-a0d4-d2cbbbd23bc1",
   "metadata": {},
   "outputs": [
    {
     "data": {
      "text/html": [
       "<div>\n",
       "<style scoped>\n",
       "    .dataframe tbody tr th:only-of-type {\n",
       "        vertical-align: middle;\n",
       "    }\n",
       "\n",
       "    .dataframe tbody tr th {\n",
       "        vertical-align: top;\n",
       "    }\n",
       "\n",
       "    .dataframe thead th {\n",
       "        text-align: right;\n",
       "    }\n",
       "</style>\n",
       "<table border=\"1\" class=\"dataframe\">\n",
       "  <thead>\n",
       "    <tr style=\"text-align: right;\">\n",
       "      <th></th>\n",
       "      <th>Alumnos</th>\n",
       "      <th>Fisica</th>\n",
       "      <th>Mates</th>\n",
       "    </tr>\n",
       "  </thead>\n",
       "  <tbody>\n",
       "    <tr>\n",
       "      <th>0</th>\n",
       "      <td>Paula</td>\n",
       "      <td>10</td>\n",
       "      <td>5</td>\n",
       "    </tr>\n",
       "    <tr>\n",
       "      <th>1</th>\n",
       "      <td>Fermin</td>\n",
       "      <td>9</td>\n",
       "      <td>8</td>\n",
       "    </tr>\n",
       "    <tr>\n",
       "      <th>2</th>\n",
       "      <td>Pedro</td>\n",
       "      <td>5</td>\n",
       "      <td>9</td>\n",
       "    </tr>\n",
       "    <tr>\n",
       "      <th>3</th>\n",
       "      <td>Luis</td>\n",
       "      <td>4</td>\n",
       "      <td>4</td>\n",
       "    </tr>\n",
       "    <tr>\n",
       "      <th>4</th>\n",
       "      <td>Ana</td>\n",
       "      <td>8</td>\n",
       "      <td>6</td>\n",
       "    </tr>\n",
       "  </tbody>\n",
       "</table>\n",
       "</div>"
      ],
      "text/plain": [
       "  Alumnos  Fisica  Mates\n",
       "0   Paula      10      5\n",
       "1  Fermin       9      8\n",
       "2   Pedro       5      9\n",
       "3    Luis       4      4\n",
       "4     Ana       8      6"
      ]
     },
     "execution_count": 298,
     "metadata": {},
     "output_type": "execute_result"
    }
   ],
   "source": [
    "df_evaluar[\"Mates\"] = [5, 8, 9, 4, 6]\n",
    "df_evaluar"
   ]
  },
  {
   "cell_type": "markdown",
   "id": "7e722b3a-cfcc-45c6-b76b-e490ae6aab1e",
   "metadata": {},
   "source": [
    "Mostrar información..."
   ]
  },
  {
   "cell_type": "code",
   "execution_count": null,
   "id": "355390f8-5a95-4392-87f8-904331b979ac",
   "metadata": {},
   "outputs": [],
   "source": [
    "# pip install matplotlib"
   ]
  },
  {
   "cell_type": "code",
   "execution_count": 299,
   "id": "ee58883a-333b-42ef-b191-da9080f3a569",
   "metadata": {},
   "outputs": [],
   "source": [
    "import matplotlib.pyplot as plt"
   ]
  },
  {
   "cell_type": "code",
   "execution_count": 300,
   "id": "e1dc91b9-a0a5-4e84-829d-921ab31bc0fd",
   "metadata": {},
   "outputs": [
    {
     "data": {
      "text/plain": [
       "<Axes: >"
      ]
     },
     "execution_count": 300,
     "metadata": {},
     "output_type": "execute_result"
    },
    {
     "data": {
      "image/png": "[encoded data removed]",
      "text/plain": [
       "<Figure size 640x480 with 1 Axes>"
      ]
     },
     "metadata": {},
     "output_type": "display_data"
    }
   ],
   "source": [
    "# Gráfico de lineas:\n",
    "\n",
    "df_evaluar.plot()"
   ]
  },
  {
   "cell_type": "code",
   "execution_count": 301,
   "id": "7051b359-f25e-43d2-88cd-290f7bb7e5ad",
   "metadata": {},
   "outputs": [
    {
     "data": {
      "text/plain": [
       "<Axes: >"
      ]
     },
     "execution_count": 301,
     "metadata": {},
     "output_type": "execute_result"
    },
    {
     "data": {
      "image/png": "[encoded data removed]",
      "text/plain": [
       "<Figure size 640x480 with 1 Axes>"
      ]
     },
     "metadata": {},
     "output_type": "display_data"
    }
   ],
   "source": [
    "df_evaluar.plot(kind=\"bar\") # gráfico de barras"
   ]
  },
  {
   "cell_type": "markdown",
   "id": "8e659e4d-d989-4361-b36c-fc49ac348dec",
   "metadata": {},
   "source": [
    "Filtrar valores..."
   ]
  },
  {
   "cell_type": "code",
   "execution_count": 302,
   "id": "2f4ce244-8ed8-4ac4-834a-e1e45428ab45",
   "metadata": {},
   "outputs": [
    {
     "name": "stdout",
     "output_type": "stream",
     "text": [
      "0    10\n",
      "1     9\n",
      "2     5\n",
      "3     4\n",
      "4     8\n",
      "Name: Fisica, dtype: int64\n",
      "0    10\n",
      "1     9\n",
      "2     5\n",
      "3     4\n",
      "4     8\n",
      "Name: Fisica, dtype: int64\n"
     ]
    },
    {
     "data": {
      "text/html": [
       "<div>\n",
       "<style scoped>\n",
       "    .dataframe tbody tr th:only-of-type {\n",
       "        vertical-align: middle;\n",
       "    }\n",
       "\n",
       "    .dataframe tbody tr th {\n",
       "        vertical-align: top;\n",
       "    }\n",
       "\n",
       "    .dataframe thead th {\n",
       "        text-align: right;\n",
       "    }\n",
       "</style>\n",
       "<table border=\"1\" class=\"dataframe\">\n",
       "  <thead>\n",
       "    <tr style=\"text-align: right;\">\n",
       "      <th></th>\n",
       "      <th>Fisica</th>\n",
       "    </tr>\n",
       "  </thead>\n",
       "  <tbody>\n",
       "    <tr>\n",
       "      <th>0</th>\n",
       "      <td>10</td>\n",
       "    </tr>\n",
       "    <tr>\n",
       "      <th>1</th>\n",
       "      <td>9</td>\n",
       "    </tr>\n",
       "    <tr>\n",
       "      <th>2</th>\n",
       "      <td>5</td>\n",
       "    </tr>\n",
       "    <tr>\n",
       "      <th>3</th>\n",
       "      <td>4</td>\n",
       "    </tr>\n",
       "    <tr>\n",
       "      <th>4</th>\n",
       "      <td>8</td>\n",
       "    </tr>\n",
       "  </tbody>\n",
       "</table>\n",
       "</div>"
      ],
      "text/plain": [
       "   Fisica\n",
       "0      10\n",
       "1       9\n",
       "2       5\n",
       "3       4\n",
       "4       8"
      ]
     },
     "execution_count": 302,
     "metadata": {},
     "output_type": "execute_result"
    }
   ],
   "source": [
    "# columnas:\n",
    "\n",
    "print(df_evaluar[\"Fisica\"])\n",
    "print(df_evaluar.Fisica)\n",
    "df_evaluar[[\"Fisica\"]]"
   ]
  },
  {
   "cell_type": "code",
   "execution_count": 303,
   "id": "9e3a37ae-281b-4b46-853e-bd2b04fc2d32",
   "metadata": {},
   "outputs": [
    {
     "data": {
      "text/html": [
       "<div>\n",
       "<style scoped>\n",
       "    .dataframe tbody tr th:only-of-type {\n",
       "        vertical-align: middle;\n",
       "    }\n",
       "\n",
       "    .dataframe tbody tr th {\n",
       "        vertical-align: top;\n",
       "    }\n",
       "\n",
       "    .dataframe thead th {\n",
       "        text-align: right;\n",
       "    }\n",
       "</style>\n",
       "<table border=\"1\" class=\"dataframe\">\n",
       "  <thead>\n",
       "    <tr style=\"text-align: right;\">\n",
       "      <th></th>\n",
       "      <th>Alumnos</th>\n",
       "      <th>Fisica</th>\n",
       "      <th>Mates</th>\n",
       "    </tr>\n",
       "  </thead>\n",
       "  <tbody>\n",
       "    <tr>\n",
       "      <th>1</th>\n",
       "      <td>Fermin</td>\n",
       "      <td>9</td>\n",
       "      <td>8</td>\n",
       "    </tr>\n",
       "    <tr>\n",
       "      <th>2</th>\n",
       "      <td>Pedro</td>\n",
       "      <td>5</td>\n",
       "      <td>9</td>\n",
       "    </tr>\n",
       "  </tbody>\n",
       "</table>\n",
       "</div>"
      ],
      "text/plain": [
       "  Alumnos  Fisica  Mates\n",
       "1  Fermin       9      8\n",
       "2   Pedro       5      9"
      ]
     },
     "execution_count": 303,
     "metadata": {},
     "output_type": "execute_result"
    }
   ],
   "source": [
    "# Filas: de la fila 1 a la 3 no incluída\n",
    "\n",
    "df_evaluar[1:3]"
   ]
  },
  {
   "cell_type": "code",
   "execution_count": 304,
   "id": "5832d954-90ec-4b67-ba98-68e50de3cb0f",
   "metadata": {},
   "outputs": [
    {
     "data": {
      "text/html": [
       "<div>\n",
       "<style scoped>\n",
       "    .dataframe tbody tr th:only-of-type {\n",
       "        vertical-align: middle;\n",
       "    }\n",
       "\n",
       "    .dataframe tbody tr th {\n",
       "        vertical-align: top;\n",
       "    }\n",
       "\n",
       "    .dataframe thead th {\n",
       "        text-align: right;\n",
       "    }\n",
       "</style>\n",
       "<table border=\"1\" class=\"dataframe\">\n",
       "  <thead>\n",
       "    <tr style=\"text-align: right;\">\n",
       "      <th></th>\n",
       "      <th>Alumnos</th>\n",
       "      <th>Fisica</th>\n",
       "      <th>Mates</th>\n",
       "    </tr>\n",
       "  </thead>\n",
       "  <tbody>\n",
       "    <tr>\n",
       "      <th>1</th>\n",
       "      <td>Fermin</td>\n",
       "      <td>9</td>\n",
       "      <td>8</td>\n",
       "    </tr>\n",
       "    <tr>\n",
       "      <th>2</th>\n",
       "      <td>Pedro</td>\n",
       "      <td>5</td>\n",
       "      <td>9</td>\n",
       "    </tr>\n",
       "    <tr>\n",
       "      <th>3</th>\n",
       "      <td>Luis</td>\n",
       "      <td>4</td>\n",
       "      <td>4</td>\n",
       "    </tr>\n",
       "  </tbody>\n",
       "</table>\n",
       "</div>"
      ],
      "text/plain": [
       "  Alumnos  Fisica  Mates\n",
       "1  Fermin       9      8\n",
       "2   Pedro       5      9\n",
       "3    Luis       4      4"
      ]
     },
     "execution_count": 304,
     "metadata": {},
     "output_type": "execute_result"
    }
   ],
   "source": [
    "# Filas: de la fila 1 a la 3 incluída, todas las columnas\n",
    "\n",
    "df_evaluar.loc[1:3]"
   ]
  },
  {
   "cell_type": "code",
   "execution_count": 305,
   "id": "9d5ef716-ad46-4e7d-ad0e-a514cbb49eae",
   "metadata": {},
   "outputs": [
    {
     "data": {
      "text/html": [
       "<div>\n",
       "<style scoped>\n",
       "    .dataframe tbody tr th:only-of-type {\n",
       "        vertical-align: middle;\n",
       "    }\n",
       "\n",
       "    .dataframe tbody tr th {\n",
       "        vertical-align: top;\n",
       "    }\n",
       "\n",
       "    .dataframe thead th {\n",
       "        text-align: right;\n",
       "    }\n",
       "</style>\n",
       "<table border=\"1\" class=\"dataframe\">\n",
       "  <thead>\n",
       "    <tr style=\"text-align: right;\">\n",
       "      <th></th>\n",
       "      <th>Alumnos</th>\n",
       "      <th>Fisica</th>\n",
       "      <th>Mates</th>\n",
       "    </tr>\n",
       "  </thead>\n",
       "  <tbody>\n",
       "    <tr>\n",
       "      <th>1</th>\n",
       "      <td>Fermin</td>\n",
       "      <td>9</td>\n",
       "      <td>8</td>\n",
       "    </tr>\n",
       "    <tr>\n",
       "      <th>2</th>\n",
       "      <td>Pedro</td>\n",
       "      <td>5</td>\n",
       "      <td>9</td>\n",
       "    </tr>\n",
       "    <tr>\n",
       "      <th>3</th>\n",
       "      <td>Luis</td>\n",
       "      <td>4</td>\n",
       "      <td>4</td>\n",
       "    </tr>\n",
       "  </tbody>\n",
       "</table>\n",
       "</div>"
      ],
      "text/plain": [
       "  Alumnos  Fisica  Mates\n",
       "1  Fermin       9      8\n",
       "2   Pedro       5      9\n",
       "3    Luis       4      4"
      ]
     },
     "execution_count": 305,
     "metadata": {},
     "output_type": "execute_result"
    }
   ],
   "source": [
    "# Filas: de la fila 1 a la 3 incluída, todas las columnas\n",
    "\n",
    "df_evaluar.loc[1:3, :]"
   ]
  },
  {
   "cell_type": "code",
   "execution_count": 306,
   "id": "ef9ca2b6-05bd-4541-9ba7-db60810cf179",
   "metadata": {},
   "outputs": [
    {
     "data": {
      "text/plain": [
       "1    9\n",
       "2    5\n",
       "3    4\n",
       "Name: Fisica, dtype: int64"
      ]
     },
     "execution_count": 306,
     "metadata": {},
     "output_type": "execute_result"
    }
   ],
   "source": [
    "# Filas: de la fila 1 a la 3 incluída, columna de Fisica\n",
    "\n",
    "df_evaluar.loc[1:3, \"Fisica\"]"
   ]
  },
  {
   "cell_type": "code",
   "execution_count": 307,
   "id": "b15f935f-fdb8-4962-b364-70ac2e568601",
   "metadata": {},
   "outputs": [
    {
     "data": {
      "text/html": [
       "<div>\n",
       "<style scoped>\n",
       "    .dataframe tbody tr th:only-of-type {\n",
       "        vertical-align: middle;\n",
       "    }\n",
       "\n",
       "    .dataframe tbody tr th {\n",
       "        vertical-align: top;\n",
       "    }\n",
       "\n",
       "    .dataframe thead th {\n",
       "        text-align: right;\n",
       "    }\n",
       "</style>\n",
       "<table border=\"1\" class=\"dataframe\">\n",
       "  <thead>\n",
       "    <tr style=\"text-align: right;\">\n",
       "      <th></th>\n",
       "      <th>Alumnos</th>\n",
       "      <th>Fisica</th>\n",
       "    </tr>\n",
       "  </thead>\n",
       "  <tbody>\n",
       "    <tr>\n",
       "      <th>1</th>\n",
       "      <td>Fermin</td>\n",
       "      <td>9</td>\n",
       "    </tr>\n",
       "    <tr>\n",
       "      <th>2</th>\n",
       "      <td>Pedro</td>\n",
       "      <td>5</td>\n",
       "    </tr>\n",
       "    <tr>\n",
       "      <th>3</th>\n",
       "      <td>Luis</td>\n",
       "      <td>4</td>\n",
       "    </tr>\n",
       "  </tbody>\n",
       "</table>\n",
       "</div>"
      ],
      "text/plain": [
       "  Alumnos  Fisica\n",
       "1  Fermin       9\n",
       "2   Pedro       5\n",
       "3    Luis       4"
      ]
     },
     "execution_count": 307,
     "metadata": {},
     "output_type": "execute_result"
    }
   ],
   "source": [
    "# Filas\n",
    "\n",
    "df_evaluar.loc[1:3, [\"Alumnos\", \"Fisica\"]]"
   ]
  },
  {
   "cell_type": "code",
   "execution_count": 308,
   "id": "226aa565-3a99-43d8-b0f1-5194a4c80c3a",
   "metadata": {},
   "outputs": [
    {
     "data": {
      "text/html": [
       "<div>\n",
       "<style scoped>\n",
       "    .dataframe tbody tr th:only-of-type {\n",
       "        vertical-align: middle;\n",
       "    }\n",
       "\n",
       "    .dataframe tbody tr th {\n",
       "        vertical-align: top;\n",
       "    }\n",
       "\n",
       "    .dataframe thead th {\n",
       "        text-align: right;\n",
       "    }\n",
       "</style>\n",
       "<table border=\"1\" class=\"dataframe\">\n",
       "  <thead>\n",
       "    <tr style=\"text-align: right;\">\n",
       "      <th></th>\n",
       "      <th>Alumnos</th>\n",
       "      <th>Fisica</th>\n",
       "    </tr>\n",
       "  </thead>\n",
       "  <tbody>\n",
       "    <tr>\n",
       "      <th>1</th>\n",
       "      <td>Fermin</td>\n",
       "      <td>9</td>\n",
       "    </tr>\n",
       "    <tr>\n",
       "      <th>2</th>\n",
       "      <td>Pedro</td>\n",
       "      <td>5</td>\n",
       "    </tr>\n",
       "    <tr>\n",
       "      <th>3</th>\n",
       "      <td>Luis</td>\n",
       "      <td>4</td>\n",
       "    </tr>\n",
       "  </tbody>\n",
       "</table>\n",
       "</div>"
      ],
      "text/plain": [
       "  Alumnos  Fisica\n",
       "1  Fermin       9\n",
       "2   Pedro       5\n",
       "3    Luis       4"
      ]
     },
     "execution_count": 308,
     "metadata": {},
     "output_type": "execute_result"
    }
   ],
   "source": [
    "# Filas sin etiquetas .iloc(): de la fila 1 a la 4 NO incluída, columnas de Alumnos y Física\n",
    "\n",
    "df_evaluar.iloc[1:4, 0:2]"
   ]
  },
  {
   "cell_type": "markdown",
   "id": "2a2b2023-3645-4021-812c-03e0edafc869",
   "metadata": {},
   "source": [
    "Valores Faltantes (Missing values)..."
   ]
  },
  {
   "cell_type": "code",
   "execution_count": 309,
   "id": "3c91a669-949c-4ffd-9934-29fa4a9a49cc",
   "metadata": {},
   "outputs": [
    {
     "data": {
      "text/html": [
       "<div>\n",
       "<style scoped>\n",
       "    .dataframe tbody tr th:only-of-type {\n",
       "        vertical-align: middle;\n",
       "    }\n",
       "\n",
       "    .dataframe tbody tr th {\n",
       "        vertical-align: top;\n",
       "    }\n",
       "\n",
       "    .dataframe thead th {\n",
       "        text-align: right;\n",
       "    }\n",
       "</style>\n",
       "<table border=\"1\" class=\"dataframe\">\n",
       "  <thead>\n",
       "    <tr style=\"text-align: right;\">\n",
       "      <th></th>\n",
       "      <th>Alumnos</th>\n",
       "      <th>Fisica</th>\n",
       "      <th>Mates</th>\n",
       "    </tr>\n",
       "  </thead>\n",
       "  <tbody>\n",
       "    <tr>\n",
       "      <th>0</th>\n",
       "      <td>Paula</td>\n",
       "      <td>10</td>\n",
       "      <td>5</td>\n",
       "    </tr>\n",
       "    <tr>\n",
       "      <th>1</th>\n",
       "      <td>Fermin</td>\n",
       "      <td>9</td>\n",
       "      <td>8</td>\n",
       "    </tr>\n",
       "    <tr>\n",
       "      <th>2</th>\n",
       "      <td>Pedro</td>\n",
       "      <td>5</td>\n",
       "      <td>9</td>\n",
       "    </tr>\n",
       "    <tr>\n",
       "      <th>3</th>\n",
       "      <td>Luis</td>\n",
       "      <td>4</td>\n",
       "      <td>4</td>\n",
       "    </tr>\n",
       "    <tr>\n",
       "      <th>4</th>\n",
       "      <td>Ana</td>\n",
       "      <td>8</td>\n",
       "      <td>6</td>\n",
       "    </tr>\n",
       "  </tbody>\n",
       "</table>\n",
       "</div>"
      ],
      "text/plain": [
       "  Alumnos  Fisica  Mates\n",
       "0   Paula      10      5\n",
       "1  Fermin       9      8\n",
       "2   Pedro       5      9\n",
       "3    Luis       4      4\n",
       "4     Ana       8      6"
      ]
     },
     "execution_count": 309,
     "metadata": {},
     "output_type": "execute_result"
    }
   ],
   "source": [
    "df_evaluar"
   ]
  },
  {
   "cell_type": "code",
   "execution_count": 310,
   "id": "49e46a75-5e3f-4521-bbb6-3a61b0f4281f",
   "metadata": {},
   "outputs": [
    {
     "data": {
      "text/html": [
       "<div>\n",
       "<style scoped>\n",
       "    .dataframe tbody tr th:only-of-type {\n",
       "        vertical-align: middle;\n",
       "    }\n",
       "\n",
       "    .dataframe tbody tr th {\n",
       "        vertical-align: top;\n",
       "    }\n",
       "\n",
       "    .dataframe thead th {\n",
       "        text-align: right;\n",
       "    }\n",
       "</style>\n",
       "<table border=\"1\" class=\"dataframe\">\n",
       "  <thead>\n",
       "    <tr style=\"text-align: right;\">\n",
       "      <th></th>\n",
       "      <th>Alumnos</th>\n",
       "      <th>Fisica</th>\n",
       "      <th>Mates</th>\n",
       "      <th>Lengua</th>\n",
       "    </tr>\n",
       "  </thead>\n",
       "  <tbody>\n",
       "    <tr>\n",
       "      <th>0</th>\n",
       "      <td>Paula</td>\n",
       "      <td>10</td>\n",
       "      <td>5</td>\n",
       "      <td>NaN</td>\n",
       "    </tr>\n",
       "    <tr>\n",
       "      <th>1</th>\n",
       "      <td>Fermin</td>\n",
       "      <td>9</td>\n",
       "      <td>8</td>\n",
       "      <td>5.0</td>\n",
       "    </tr>\n",
       "    <tr>\n",
       "      <th>2</th>\n",
       "      <td>Pedro</td>\n",
       "      <td>5</td>\n",
       "      <td>9</td>\n",
       "      <td>9.0</td>\n",
       "    </tr>\n",
       "    <tr>\n",
       "      <th>3</th>\n",
       "      <td>Luis</td>\n",
       "      <td>4</td>\n",
       "      <td>4</td>\n",
       "      <td>NaN</td>\n",
       "    </tr>\n",
       "    <tr>\n",
       "      <th>4</th>\n",
       "      <td>Ana</td>\n",
       "      <td>8</td>\n",
       "      <td>6</td>\n",
       "      <td>6.0</td>\n",
       "    </tr>\n",
       "  </tbody>\n",
       "</table>\n",
       "</div>"
      ],
      "text/plain": [
       "  Alumnos  Fisica  Mates  Lengua\n",
       "0   Paula      10      5     NaN\n",
       "1  Fermin       9      8     5.0\n",
       "2   Pedro       5      9     9.0\n",
       "3    Luis       4      4     NaN\n",
       "4     Ana       8      6     6.0"
      ]
     },
     "execution_count": 310,
     "metadata": {},
     "output_type": "execute_result"
    }
   ],
   "source": [
    "df_evaluar[\"Lengua\"] = [None, 5, 9, None, 6]\n",
    "df_evaluar"
   ]
  },
  {
   "cell_type": "code",
   "execution_count": 311,
   "id": "af1cb49a-cdc3-49b8-bb64-4f96244e9bd0",
   "metadata": {},
   "outputs": [
    {
     "data": {
      "text/html": [
       "<div>\n",
       "<style scoped>\n",
       "    .dataframe tbody tr th:only-of-type {\n",
       "        vertical-align: middle;\n",
       "    }\n",
       "\n",
       "    .dataframe tbody tr th {\n",
       "        vertical-align: top;\n",
       "    }\n",
       "\n",
       "    .dataframe thead th {\n",
       "        text-align: right;\n",
       "    }\n",
       "</style>\n",
       "<table border=\"1\" class=\"dataframe\">\n",
       "  <thead>\n",
       "    <tr style=\"text-align: right;\">\n",
       "      <th></th>\n",
       "      <th>Alumnos</th>\n",
       "      <th>Fisica</th>\n",
       "      <th>Mates</th>\n",
       "      <th>Lengua</th>\n",
       "    </tr>\n",
       "  </thead>\n",
       "  <tbody>\n",
       "    <tr>\n",
       "      <th>0</th>\n",
       "      <td>False</td>\n",
       "      <td>False</td>\n",
       "      <td>False</td>\n",
       "      <td>True</td>\n",
       "    </tr>\n",
       "    <tr>\n",
       "      <th>1</th>\n",
       "      <td>False</td>\n",
       "      <td>False</td>\n",
       "      <td>False</td>\n",
       "      <td>False</td>\n",
       "    </tr>\n",
       "    <tr>\n",
       "      <th>2</th>\n",
       "      <td>False</td>\n",
       "      <td>False</td>\n",
       "      <td>False</td>\n",
       "      <td>False</td>\n",
       "    </tr>\n",
       "    <tr>\n",
       "      <th>3</th>\n",
       "      <td>False</td>\n",
       "      <td>False</td>\n",
       "      <td>False</td>\n",
       "      <td>True</td>\n",
       "    </tr>\n",
       "    <tr>\n",
       "      <th>4</th>\n",
       "      <td>False</td>\n",
       "      <td>False</td>\n",
       "      <td>False</td>\n",
       "      <td>False</td>\n",
       "    </tr>\n",
       "  </tbody>\n",
       "</table>\n",
       "</div>"
      ],
      "text/plain": [
       "   Alumnos  Fisica  Mates  Lengua\n",
       "0    False   False  False    True\n",
       "1    False   False  False   False\n",
       "2    False   False  False   False\n",
       "3    False   False  False    True\n",
       "4    False   False  False   False"
      ]
     },
     "execution_count": 311,
     "metadata": {},
     "output_type": "execute_result"
    }
   ],
   "source": [
    "df_evaluar.isnull()"
   ]
  },
  {
   "cell_type": "code",
   "execution_count": 312,
   "id": "dc19af16-e236-4f13-a83d-a6cd07bd99b9",
   "metadata": {},
   "outputs": [
    {
     "data": {
      "text/plain": [
       "Alumnos    0\n",
       "Fisica     0\n",
       "Mates      0\n",
       "Lengua     2\n",
       "dtype: int64"
      ]
     },
     "execution_count": 312,
     "metadata": {},
     "output_type": "execute_result"
    }
   ],
   "source": [
    "df_evaluar.isnull().sum()"
   ]
  },
  {
   "cell_type": "code",
   "execution_count": 313,
   "id": "eae9dcac-b486-48dd-b1b8-0aa00c3b0e23",
   "metadata": {},
   "outputs": [
    {
     "data": {
      "text/html": [
       "<div>\n",
       "<style scoped>\n",
       "    .dataframe tbody tr th:only-of-type {\n",
       "        vertical-align: middle;\n",
       "    }\n",
       "\n",
       "    .dataframe tbody tr th {\n",
       "        vertical-align: top;\n",
       "    }\n",
       "\n",
       "    .dataframe thead th {\n",
       "        text-align: right;\n",
       "    }\n",
       "</style>\n",
       "<table border=\"1\" class=\"dataframe\">\n",
       "  <thead>\n",
       "    <tr style=\"text-align: right;\">\n",
       "      <th></th>\n",
       "      <th>Fisica</th>\n",
       "      <th>Mates</th>\n",
       "      <th>Lengua</th>\n",
       "    </tr>\n",
       "  </thead>\n",
       "  <tbody>\n",
       "    <tr>\n",
       "      <th>count</th>\n",
       "      <td>5.000000</td>\n",
       "      <td>5.000000</td>\n",
       "      <td>3.000000</td>\n",
       "    </tr>\n",
       "    <tr>\n",
       "      <th>mean</th>\n",
       "      <td>7.200000</td>\n",
       "      <td>6.400000</td>\n",
       "      <td>6.666667</td>\n",
       "    </tr>\n",
       "    <tr>\n",
       "      <th>std</th>\n",
       "      <td>2.588436</td>\n",
       "      <td>2.073644</td>\n",
       "      <td>2.081666</td>\n",
       "    </tr>\n",
       "    <tr>\n",
       "      <th>min</th>\n",
       "      <td>4.000000</td>\n",
       "      <td>4.000000</td>\n",
       "      <td>5.000000</td>\n",
       "    </tr>\n",
       "    <tr>\n",
       "      <th>25%</th>\n",
       "      <td>5.000000</td>\n",
       "      <td>5.000000</td>\n",
       "      <td>5.500000</td>\n",
       "    </tr>\n",
       "    <tr>\n",
       "      <th>50%</th>\n",
       "      <td>8.000000</td>\n",
       "      <td>6.000000</td>\n",
       "      <td>6.000000</td>\n",
       "    </tr>\n",
       "    <tr>\n",
       "      <th>75%</th>\n",
       "      <td>9.000000</td>\n",
       "      <td>8.000000</td>\n",
       "      <td>7.500000</td>\n",
       "    </tr>\n",
       "    <tr>\n",
       "      <th>max</th>\n",
       "      <td>10.000000</td>\n",
       "      <td>9.000000</td>\n",
       "      <td>9.000000</td>\n",
       "    </tr>\n",
       "  </tbody>\n",
       "</table>\n",
       "</div>"
      ],
      "text/plain": [
       "          Fisica     Mates    Lengua\n",
       "count   5.000000  5.000000  3.000000\n",
       "mean    7.200000  6.400000  6.666667\n",
       "std     2.588436  2.073644  2.081666\n",
       "min     4.000000  4.000000  5.000000\n",
       "25%     5.000000  5.000000  5.500000\n",
       "50%     8.000000  6.000000  6.000000\n",
       "75%     9.000000  8.000000  7.500000\n",
       "max    10.000000  9.000000  9.000000"
      ]
     },
     "execution_count": 313,
     "metadata": {},
     "output_type": "execute_result"
    }
   ],
   "source": [
    "df_evaluar.describe()"
   ]
  },
  {
   "cell_type": "code",
   "execution_count": 314,
   "id": "53d6de28-6e23-46d5-88f5-0b74967491ed",
   "metadata": {},
   "outputs": [
    {
     "data": {
      "text/html": [
       "<div>\n",
       "<style scoped>\n",
       "    .dataframe tbody tr th:only-of-type {\n",
       "        vertical-align: middle;\n",
       "    }\n",
       "\n",
       "    .dataframe tbody tr th {\n",
       "        vertical-align: top;\n",
       "    }\n",
       "\n",
       "    .dataframe thead th {\n",
       "        text-align: right;\n",
       "    }\n",
       "</style>\n",
       "<table border=\"1\" class=\"dataframe\">\n",
       "  <thead>\n",
       "    <tr style=\"text-align: right;\">\n",
       "      <th></th>\n",
       "      <th>Alumnos</th>\n",
       "      <th>Fisica</th>\n",
       "      <th>Mates</th>\n",
       "      <th>Lengua</th>\n",
       "    </tr>\n",
       "  </thead>\n",
       "  <tbody>\n",
       "    <tr>\n",
       "      <th>0</th>\n",
       "      <td>Paula</td>\n",
       "      <td>10</td>\n",
       "      <td>5</td>\n",
       "      <td>6.666667</td>\n",
       "    </tr>\n",
       "    <tr>\n",
       "      <th>1</th>\n",
       "      <td>Fermin</td>\n",
       "      <td>9</td>\n",
       "      <td>8</td>\n",
       "      <td>5.000000</td>\n",
       "    </tr>\n",
       "    <tr>\n",
       "      <th>2</th>\n",
       "      <td>Pedro</td>\n",
       "      <td>5</td>\n",
       "      <td>9</td>\n",
       "      <td>9.000000</td>\n",
       "    </tr>\n",
       "    <tr>\n",
       "      <th>3</th>\n",
       "      <td>Luis</td>\n",
       "      <td>4</td>\n",
       "      <td>4</td>\n",
       "      <td>6.666667</td>\n",
       "    </tr>\n",
       "    <tr>\n",
       "      <th>4</th>\n",
       "      <td>Ana</td>\n",
       "      <td>8</td>\n",
       "      <td>6</td>\n",
       "      <td>6.000000</td>\n",
       "    </tr>\n",
       "  </tbody>\n",
       "</table>\n",
       "</div>"
      ],
      "text/plain": [
       "  Alumnos  Fisica  Mates    Lengua\n",
       "0   Paula      10      5  6.666667\n",
       "1  Fermin       9      8  5.000000\n",
       "2   Pedro       5      9  9.000000\n",
       "3    Luis       4      4  6.666667\n",
       "4     Ana       8      6  6.000000"
      ]
     },
     "execution_count": 314,
     "metadata": {},
     "output_type": "execute_result"
    }
   ],
   "source": [
    "df_evaluar = df_evaluar.fillna(df_evaluar[\"Lengua\"].mean())\n",
    "df_evaluar"
   ]
  },
  {
   "cell_type": "code",
   "execution_count": 315,
   "id": "2a22d672-2ebd-4e0c-aac7-bed3f8615e58",
   "metadata": {},
   "outputs": [
    {
     "data": {
      "text/html": [
       "<div>\n",
       "<style scoped>\n",
       "    .dataframe tbody tr th:only-of-type {\n",
       "        vertical-align: middle;\n",
       "    }\n",
       "\n",
       "    .dataframe tbody tr th {\n",
       "        vertical-align: top;\n",
       "    }\n",
       "\n",
       "    .dataframe thead th {\n",
       "        text-align: right;\n",
       "    }\n",
       "</style>\n",
       "<table border=\"1\" class=\"dataframe\">\n",
       "  <thead>\n",
       "    <tr style=\"text-align: right;\">\n",
       "      <th></th>\n",
       "      <th>Alumnos</th>\n",
       "      <th>Fisica</th>\n",
       "      <th>Mates</th>\n",
       "      <th>Lengua</th>\n",
       "    </tr>\n",
       "  </thead>\n",
       "  <tbody>\n",
       "    <tr>\n",
       "      <th>0</th>\n",
       "      <td>False</td>\n",
       "      <td>False</td>\n",
       "      <td>False</td>\n",
       "      <td>False</td>\n",
       "    </tr>\n",
       "    <tr>\n",
       "      <th>1</th>\n",
       "      <td>False</td>\n",
       "      <td>False</td>\n",
       "      <td>False</td>\n",
       "      <td>False</td>\n",
       "    </tr>\n",
       "    <tr>\n",
       "      <th>2</th>\n",
       "      <td>False</td>\n",
       "      <td>False</td>\n",
       "      <td>False</td>\n",
       "      <td>False</td>\n",
       "    </tr>\n",
       "    <tr>\n",
       "      <th>3</th>\n",
       "      <td>False</td>\n",
       "      <td>True</td>\n",
       "      <td>True</td>\n",
       "      <td>False</td>\n",
       "    </tr>\n",
       "    <tr>\n",
       "      <th>4</th>\n",
       "      <td>False</td>\n",
       "      <td>False</td>\n",
       "      <td>False</td>\n",
       "      <td>False</td>\n",
       "    </tr>\n",
       "  </tbody>\n",
       "</table>\n",
       "</div>"
      ],
      "text/plain": [
       "   Alumnos  Fisica  Mates  Lengua\n",
       "0    False   False  False   False\n",
       "1    False   False  False   False\n",
       "2    False   False  False   False\n",
       "3    False    True   True   False\n",
       "4    False   False  False   False"
      ]
     },
     "execution_count": 315,
     "metadata": {},
     "output_type": "execute_result"
    }
   ],
   "source": [
    "df_evaluar.isin([4])"
   ]
  },
  {
   "attachments": {},
   "cell_type": "markdown",
   "id": "c2dd56e2",
   "metadata": {},
   "source": [
    "*Gracias por la atención*\n",
    "\n",
    "*Isabel Maniega*"
   ]
  }
 ],
 "metadata": {
  "kernelspec": {
   "display_name": "Python 3 (ipykernel)",
   "language": "python",
   "name": "python3"
  },
  "language_info": {
   "codemirror_mode": {
    "name": "ipython",
    "version": 3
   },
   "file_extension": ".py",
   "mimetype": "text/x-python",
   "name": "python",
   "nbconvert_exporter": "python",
   "pygments_lexer": "ipython3",
   "version": "3.12.3"
  },
  "widgets": {
   "application/vnd.jupyter.widget-state+json": {
    "state": {},
    "version_major": 2,
    "version_minor": 0
   }
  }
 },
 "nbformat": 4,
 "nbformat_minor": 5
}
